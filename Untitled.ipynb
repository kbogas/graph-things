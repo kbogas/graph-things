{
 "cells": [
  {
   "cell_type": "code",
   "execution_count": 1,
   "metadata": {},
   "outputs": [],
   "source": [
    "query = \"\"\"MATCH (n)\n",
    "WITH collect(n) AS Nodes\n",
    "// For each vertices combination...\n",
    "WITH [n IN Nodes |\n",
    "    [m IN Nodes |\n",
    "\t\t// ...Check for edge existence.\n",
    "    \tCASE size((n)-[]-(m))\n",
    "\t\t\tWHEN 0 THEN 0\n",
    "\t\t\tELSE 1\n",
    "\t\tEND\n",
    "    ]\n",
    "] AS AdjacencyMatrix\n",
    "// Unroll rows.\n",
    "UNWIND AdjacencyMatrix AS AdjacencyRows\n",
    "RETURN AdjacencyRows;\n",
    "\"\"\"\n",
    "import py2neo\n",
    "graph = py2neo.Graph(host=\"localhost\", port=7474, user=\"neo4j\", password=\"admin\")\n",
    "res = graph.run(query)\n",
    "kk = res.data()\n",
    "kk = [k['AdjacencyRows'] for k in kk]\n",
    "import numpy as np\n",
    "adj = np.array(kk)"
   ]
  },
  {
   "cell_type": "code",
   "execution_count": 2,
   "metadata": {},
   "outputs": [],
   "source": [
    "query = \"\"\"MATCH (n)\n",
    "WITH collect(n) AS Nodes\n",
    "WITH [n in Nodes |\n",
    "CASE EXISTS(n.label)\n",
    "WHEN TRUE THEN n.label\n",
    "ELSE n.title\n",
    "END\n",
    "] AS titles\n",
    "UNWIND titles as label\n",
    "RETURN label\"\"\"\n",
    "res = graph.run(query)\n",
    "names = [n['label'] for n in res.data()]"
   ]
  },
  {
   "cell_type": "code",
   "execution_count": 3,
   "metadata": {},
   "outputs": [
    {
     "name": "stdout",
     "output_type": "stream",
     "text": [
      "Background [u'Pembrolizumab plus Chemotherapy in Metastatic Non-Small-Cell Lung Cancer.'\n",
      " u'A Network Meta-analysis Comparing the Efficacy and Safety of Anti-PD-1 with Anti-PD-L1 in Non-small Cell Lung Cancer.']\n"
     ]
    }
   ],
   "source": [
    "print names[0], np.array(names)[np.where(adj[0,:]>0)]"
   ]
  },
  {
   "cell_type": "code",
   "execution_count": 4,
   "metadata": {},
   "outputs": [
    {
     "data": {
      "text/plain": [
       "[{u'k.title': u'Pembrolizumab plus Chemotherapy in Metastatic Non-Small-Cell Lung Cancer.'},\n",
       " {u'k.title': u'A Network Meta-analysis Comparing the Efficacy and Safety of Anti-PD-1 with Anti-PD-L1 in Non-small Cell Lung Cancer.'}]"
      ]
     },
     "execution_count": 4,
     "metadata": {},
     "output_type": "execute_result"
    }
   ],
   "source": [
    "query = \"\"\"MATCH (n:Entity)-[r:MENTIONED_IN]->(k:Article) WHERE n.label=\"Background\"\n",
    "RETURN k.title\"\"\"\n",
    "res = graph.run(query)\n",
    "res.data()"
   ]
  },
  {
   "cell_type": "code",
   "execution_count": 9,
   "metadata": {},
   "outputs": [
    {
     "ename": "ImportError",
     "evalue": "No module named cnn_graph.lib",
     "output_type": "error",
     "traceback": [
      "\u001b[0;31m---------------------------------------------------------------------------\u001b[0m",
      "\u001b[0;31mImportError\u001b[0m                               Traceback (most recent call last)",
      "\u001b[0;32m<ipython-input-9-b4c61cd89e41>\u001b[0m in \u001b[0;36m<module>\u001b[0;34m()\u001b[0m\n\u001b[1;32m      5\u001b[0m     \u001b[0msys\u001b[0m\u001b[0;34m.\u001b[0m\u001b[0mpath\u001b[0m\u001b[0;34m.\u001b[0m\u001b[0mappend\u001b[0m\u001b[0;34m(\u001b[0m\u001b[0mnb_dir\u001b[0m\u001b[0;34m)\u001b[0m\u001b[0;34m\u001b[0m\u001b[0m\n\u001b[1;32m      6\u001b[0m \u001b[0;34m\u001b[0m\u001b[0m\n\u001b[0;32m----> 7\u001b[0;31m \u001b[0;32mfrom\u001b[0m \u001b[0mcnn_graph\u001b[0m\u001b[0;34m.\u001b[0m\u001b[0mlib\u001b[0m \u001b[0;32mimport\u001b[0m \u001b[0mmodels\u001b[0m\u001b[0;34m,\u001b[0m \u001b[0mgraph\u001b[0m\u001b[0;34m,\u001b[0m \u001b[0mcoarsening\u001b[0m\u001b[0;34m,\u001b[0m \u001b[0mutils\u001b[0m\u001b[0;34m\u001b[0m\u001b[0m\n\u001b[0m\u001b[1;32m      8\u001b[0m \u001b[0;32mimport\u001b[0m \u001b[0mnumpy\u001b[0m \u001b[0;32mas\u001b[0m \u001b[0mnp\u001b[0m\u001b[0;34m\u001b[0m\u001b[0m\n\u001b[1;32m      9\u001b[0m \u001b[0;32mimport\u001b[0m \u001b[0mmatplotlib\u001b[0m\u001b[0;34m.\u001b[0m\u001b[0mpyplot\u001b[0m \u001b[0;32mas\u001b[0m \u001b[0mplt\u001b[0m\u001b[0;34m\u001b[0m\u001b[0m\n",
      "\u001b[0;31mImportError\u001b[0m: No module named cnn_graph.lib"
     ]
    }
   ],
   "source": [
    "import os\n",
    "import sys\n",
    "nb_dir = os.path.split(os.getcwd())[0]+'/GRAPH_CONV/'\n",
    "if nb_dir not in sys.path:\n",
    "    sys.path.append(nb_dir)\n",
    "    \n",
    "from cnn_graph.lib import models, graph, coarsening, utils\n",
    "import numpy as np\n",
    "import matplotlib.pyplot as plt\n",
    "%matplotlib inline"
   ]
  },
  {
   "cell_type": "code",
   "execution_count": null,
   "metadata": {},
   "outputs": [],
   "source": [
    "sys.path.append(\"../\")"
   ]
  },
  {
   "cell_type": "code",
   "execution_count": 6,
   "metadata": {},
   "outputs": [
    {
     "data": {
      "text/plain": [
       "['',\n",
       " '/home/kostas/mxnet/python',\n",
       " '/media/kostas/DATA/LLD/Papers/RESEARCH/GRAPH_CONV',\n",
       " '/usr/lib/python2.7',\n",
       " '/usr/lib/python2.7/plat-x86_64-linux-gnu',\n",
       " '/usr/lib/python2.7/lib-tk',\n",
       " '/usr/lib/python2.7/lib-old',\n",
       " '/usr/lib/python2.7/lib-dynload',\n",
       " '/usr/local/lib/python2.7/dist-packages',\n",
       " '/usr/local/lib/python2.7/dist-packages/gyp-0.1-py2.7.egg',\n",
       " '/usr/local/lib/python2.7/dist-packages/relex-0.0.1-py2.7.egg',\n",
       " '/usr/local/lib/python2.7/dist-packages/mxnet-0.7.0-py2.7.egg',\n",
       " '/usr/local/lib/python2.7/dist-packages/JCC-2.22-py2.7-linux-x86_64.egg',\n",
       " '/usr/local/lib/python2.7/dist-packages/lucene-6.2.0-py2.7-linux-x86_64.egg',\n",
       " '/usr/local/lib/python2.7/dist-packages/pymetamap-0.1-py2.7.egg',\n",
       " '/home/kostas/src/inflect',\n",
       " '/usr/local/lib/python2.7/dist-packages/esmre-0.3.1-py2.7-linux-x86_64.egg',\n",
       " '/usr/local/lib/python2.7/dist-packages/stanford_corenlp_python_wrapper-0.1-py2.7.egg',\n",
       " '/media/kostas/DATA/GIT/hyperopt-sklearn',\n",
       " '/usr/local/lib/python2.7/dist-packages/gem-1.0.0-py2.7.egg',\n",
       " '/usr/local/lib/python2.7/dist-packages/Keras-2.0.2-py2.7.egg',\n",
       " '/usr/local/lib/python2.7/dist-packages/Theano-1.0.1-py2.7.egg',\n",
       " '/usr/local/lib/python2.7/dist-packages/cycler-0.10.0-py2.7.egg',\n",
       " '/usr/local/lib/python2.7/dist-packages/subprocess32-3.5.0rc1-py2.7-linux-x86_64.egg',\n",
       " '/usr/local/lib/python2.7/dist-packages/python_recsys-0.2-py2.7.egg',\n",
       " '/usr/local/lib/python2.7/dist-packages',\n",
       " '/usr/lib/python2.7/dist-packages',\n",
       " '/usr/lib/python2.7/dist-packages/PILcompat',\n",
       " '/usr/lib/python2.7/dist-packages/gtk-2.0',\n",
       " '/usr/lib/pymodules/python2.7',\n",
       " '/usr/lib/python2.7/dist-packages/ubuntu-sso-client',\n",
       " '/usr/lib/python2.7/dist-packages/wx-2.8-gtk2-unicode',\n",
       " '/usr/local/lib/python2.7/dist-packages/IPython/extensions',\n",
       " '/home/kostas/.ipython',\n",
       " '/media/kostas/DATA/LLD/Papers/RESEARCH/GRAPH_CONV/']"
      ]
     },
     "execution_count": 6,
     "metadata": {},
     "output_type": "execute_result"
    }
   ],
   "source": [
    "sys.path"
   ]
  },
  {
   "cell_type": "code",
   "execution_count": 1,
   "metadata": {},
   "outputs": [],
   "source": [
    "import numpy as np\n",
    "import scipy\n",
    "with open('./data/drug_drug_500.np', 'r') as f:\n",
    "    dd = np.load(f)"
   ]
  },
  {
   "cell_type": "code",
   "execution_count": 2,
   "metadata": {},
   "outputs": [
    {
     "data": {
      "text/plain": [
       "(645, 645, 500)"
      ]
     },
     "execution_count": 2,
     "metadata": {},
     "output_type": "execute_result"
    }
   ],
   "source": [
    "import numpy as np\n",
    "import scipy\n",
    "with open('./data/drug_drug_500.np', 'r') as f:\n",
    "    dd = np.load(f)"
   ]
  },
  {
   "cell_type": "code",
   "execution_count": 2,
   "metadata": {},
   "outputs": [
    {
     "name": "stdout",
     "output_type": "stream",
     "text": [
      "(645, 3648)\n"
     ]
    }
   ],
   "source": [
    "with open('./data/drug_protein_sparse.np', 'r') as f:\n",
    "    drug_feats = np.load(f)\n",
    "drug_feats = drug_feats.flatten()[0].todense()\n",
    "drug_feats = np.array(drug_feats)\n",
    "print drug_feats.shape\n",
    "    #drug_feats = scipy.sparse.csr_matrix(drug_feats)\n",
    "#drug_feats = np.array(drug_feats)"
   ]
  },
  {
   "cell_type": "code",
   "execution_count": 25,
   "metadata": {},
   "outputs": [],
   "source": [
    "from pyfm import pylibfm\n",
    "from sklearn.feature_extraction import DictVectorizer\n",
    "train = []\n",
    "for r in xrange(0, 5):#dd.shape[2]):\n",
    "    ind = np.argwhere(dd[:,:,r]>0)\n",
    "    tmp = np.zeros((dd.shape[2],))\n",
    "    tmp[r] = 1\n",
    "    for i, j in ind:\n",
    "        train.append(np.hstack((drug_feats[i],drug_feats[j], tmp)))"
   ]
  },
  {
   "cell_type": "code",
   "execution_count": 27,
   "metadata": {},
   "outputs": [
    {
     "name": "stdout",
     "output_type": "stream",
     "text": [
      "Creating validation dataset of 0.01 of training for adaptive regularization\n",
      "-- Epoch 1\n",
      "Training log loss: 0.40797\n",
      "-- Epoch 2\n",
      "Training log loss: 0.25934\n",
      "-- Epoch 3\n",
      "Training log loss: 0.19465\n",
      "-- Epoch 4\n",
      "Training log loss: 0.15529\n",
      "-- Epoch 5\n",
      "Training log loss: 0.12869\n",
      "-- Epoch 6\n",
      "Training log loss: 0.10955\n",
      "-- Epoch 7\n",
      "Training log loss: 0.09517\n",
      "-- Epoch 8\n",
      "Training log loss: 0.08400\n",
      "-- Epoch 9\n",
      "Training log loss: 0.07508\n",
      "-- Epoch 10\n",
      "Training log loss: 0.06782\n",
      "-- Epoch 11\n",
      "Training log loss: 0.06179\n",
      "-- Epoch 12\n",
      "Training log loss: 0.05672\n",
      "-- Epoch 13\n",
      "Training log loss: 0.05239\n",
      "-- Epoch 14\n",
      "Training log loss: 0.04866\n",
      "-- Epoch 15\n",
      "Training log loss: 0.04542\n",
      "-- Epoch 16\n",
      "Training log loss: 0.04257\n",
      "-- Epoch 17\n",
      "Training log loss: 0.04005\n",
      "-- Epoch 18\n",
      "Training log loss: 0.03780\n",
      "-- Epoch 19\n",
      "Training log loss: 0.03579\n",
      "-- Epoch 20\n",
      "Training log loss: 0.03398\n"
     ]
    },
    {
     "ename": "ValueError",
     "evalue": "y_true contains only one label (1). Please provide the true labels explicitly through the labels argument.",
     "output_type": "error",
     "traceback": [
      "\u001b[0;31m---------------------------------------------------------------------------\u001b[0m",
      "\u001b[0;31mValueError\u001b[0m                                Traceback (most recent call last)",
      "\u001b[0;32m<ipython-input-27-b001ea8fda1b>\u001b[0m in \u001b[0;36m<module>\u001b[0;34m()\u001b[0m\n\u001b[1;32m     13\u001b[0m \u001b[0;31m# Evaluate\u001b[0m\u001b[0;34m\u001b[0m\u001b[0;34m\u001b[0m\u001b[0m\n\u001b[1;32m     14\u001b[0m \u001b[0;32mfrom\u001b[0m \u001b[0msklearn\u001b[0m\u001b[0;34m.\u001b[0m\u001b[0mmetrics\u001b[0m \u001b[0;32mimport\u001b[0m \u001b[0mlog_loss\u001b[0m\u001b[0;34m\u001b[0m\u001b[0m\n\u001b[0;32m---> 15\u001b[0;31m \u001b[0;32mprint\u001b[0m \u001b[0;34m\"Validation log loss: %.4f\"\u001b[0m \u001b[0;34m%\u001b[0m \u001b[0mlog_loss\u001b[0m\u001b[0;34m(\u001b[0m\u001b[0my_test\u001b[0m\u001b[0;34m,\u001b[0m\u001b[0mfm\u001b[0m\u001b[0;34m.\u001b[0m\u001b[0mpredict\u001b[0m\u001b[0;34m(\u001b[0m\u001b[0mX_test\u001b[0m\u001b[0;34m)\u001b[0m\u001b[0;34m)\u001b[0m\u001b[0;34m\u001b[0m\u001b[0m\n\u001b[0m",
      "\u001b[0;32m/usr/local/lib/python2.7/dist-packages/sklearn/metrics/classification.pyc\u001b[0m in \u001b[0;36mlog_loss\u001b[0;34m(y_true, y_pred, eps, normalize, sample_weight, labels)\u001b[0m\n\u001b[1;32m   1652\u001b[0m             raise ValueError('y_true contains only one label ({0}). Please '\n\u001b[1;32m   1653\u001b[0m                              \u001b[0;34m'provide the true labels explicitly through the '\u001b[0m\u001b[0;34m\u001b[0m\u001b[0m\n\u001b[0;32m-> 1654\u001b[0;31m                              'labels argument.'.format(lb.classes_[0]))\n\u001b[0m\u001b[1;32m   1655\u001b[0m         \u001b[0;32melse\u001b[0m\u001b[0;34m:\u001b[0m\u001b[0;34m\u001b[0m\u001b[0m\n\u001b[1;32m   1656\u001b[0m             raise ValueError('The labels array needs to contain at least two '\n",
      "\u001b[0;31mValueError\u001b[0m: y_true contains only one label (1). Please provide the true labels explicitly through the labels argument."
     ]
    }
   ],
   "source": [
    "from sklearn.cross_validation import train_test_split\n",
    "X = scipy.sparse.csr_matrix(train)\n",
    "y = [1 for t in train]\n",
    "X_train, X_test, y_train, y_test = train_test_split(X, y, test_size=0.1, random_state=42)\n",
    "fm = pylibfm.FM(num_factors=50, \n",
    "                num_iter=20, \n",
    "                verbose=True, task=\"classification\", \n",
    "                initial_learning_rate=0.0001,\n",
    "                learning_rate_schedule=\"optimal\")\n",
    "\n",
    "fm.fit(X_train,y_train)\n",
    "\n",
    "def tr_thres(x, tr=0.5):\n",
    "    #print x\n",
    "    if x > 0.5:\n",
    "        return 1\n",
    "    else:\n",
    "        return 0\n",
    "f = np.vectorize(tr_thres)\n",
    "y_pred = f(fm.predict(X_test))\n",
    "from sklearn.metrics import classification_report\n",
    "print classification_report(y_test,y_pred)"
   ]
  },
  {
   "cell_type": "code",
   "execution_count": 28,
   "metadata": {},
   "outputs": [
    {
     "name": "stdout",
     "output_type": "stream",
     "text": [
      "             precision    recall  f1-score   support\n",
      "\n",
      "          1       1.00      1.00      1.00      1414\n",
      "\n",
      "avg / total       1.00      1.00      1.00      1414\n",
      "\n"
     ]
    }
   ],
   "source": [
    "def tr_thres(x, tr=0.5):\n",
    "    #print x\n",
    "    if x > 0.5:\n",
    "        return 1\n",
    "    else:\n",
    "        return 0\n",
    "\n",
    "X_test\n",
    "f = np.vectorize(tr_thres)\n",
    "y_pred = f(fm.predict(X_test))\n",
    "from sklearn.metrics import classification_report\n",
    "print classification_report(y_test,y_pred)"
   ]
  },
  {
   "cell_type": "code",
   "execution_count": 53,
   "metadata": {},
   "outputs": [
    {
     "name": "stdout",
     "output_type": "stream",
     "text": [
      "             precision    recall  f1-score   support\n",
      "\n",
      "          1       1.00      1.00      1.00      1414\n",
      "\n",
      "avg / total       1.00      1.00      1.00      1414\n",
      "\n"
     ]
    }
   ],
   "source": [
    "f = np.vectorize(tr_thres)\n",
    "X_san = X_test.todense()\n",
    "np.random.shuffle(X_san)\n",
    "X_san = scipy.sparse.csr_matrix(X_san)\n",
    "y_pred = f(fm.predict(X_san))\n",
    "from sklearn.metrics import classification_report\n",
    "print classification_report(y_test,y_pred)"
   ]
  },
  {
   "cell_type": "code",
   "execution_count": 55,
   "metadata": {},
   "outputs": [
    {
     "ename": "ImportError",
     "evalue": "No module named lightfm",
     "output_type": "error",
     "traceback": [
      "\u001b[0;31m---------------------------------------------------------------------------\u001b[0m",
      "\u001b[0;31mImportError\u001b[0m                               Traceback (most recent call last)",
      "\u001b[0;32m<ipython-input-55-975315058b9c>\u001b[0m in \u001b[0;36m<module>\u001b[0;34m()\u001b[0m\n\u001b[1;32m      9\u001b[0m \u001b[0;32mimport\u001b[0m \u001b[0mmatplotlib\u001b[0m\u001b[0;34m.\u001b[0m\u001b[0mpyplot\u001b[0m \u001b[0;32mas\u001b[0m \u001b[0mplt\u001b[0m\u001b[0;34m\u001b[0m\u001b[0m\n\u001b[1;32m     10\u001b[0m \u001b[0;34m\u001b[0m\u001b[0m\n\u001b[0;32m---> 11\u001b[0;31m \u001b[0;32mfrom\u001b[0m \u001b[0mlightfm\u001b[0m \u001b[0;32mimport\u001b[0m \u001b[0mLightFM\u001b[0m\u001b[0;34m\u001b[0m\u001b[0m\n\u001b[0m\u001b[1;32m     12\u001b[0m \u001b[0;32mfrom\u001b[0m \u001b[0mlightfm\u001b[0m\u001b[0;34m.\u001b[0m\u001b[0mdatasets\u001b[0m \u001b[0;32mimport\u001b[0m \u001b[0mfetch_movielens\u001b[0m\u001b[0;34m\u001b[0m\u001b[0m\n\u001b[1;32m     13\u001b[0m \u001b[0;32mfrom\u001b[0m \u001b[0mlightfm\u001b[0m\u001b[0;34m.\u001b[0m\u001b[0mevaluation\u001b[0m \u001b[0;32mimport\u001b[0m \u001b[0mauc_score\u001b[0m\u001b[0;34m\u001b[0m\u001b[0m\n",
      "\u001b[0;31mImportError\u001b[0m: No module named lightfm"
     ]
    }
   ],
   "source": [
    "import time\n",
    "\n",
    "import numpy as np\n",
    "\n",
    "%matplotlib inline\n",
    "\n",
    "import matplotlib\n",
    "import numpy as np\n",
    "import matplotlib.pyplot as plt\n",
    "\n",
    "from lightfm import LightFM\n",
    "from lightfm.datasets import fetch_movielens\n",
    "from lightfm.evaluation import auc_score\n",
    "from lightfm.cross_validation import random_train_test_split\n",
    "\n",
    "random_train_test_split()\n",
    "#movielens = fetch_movielens()\n",
    "\n",
    "#X_train, X_test, y_train, y_test = train_test_split(dd[:,:,0], y, test_size=0.1, random_state=42)"
   ]
  },
  {
   "cell_type": "code",
   "execution_count": 60,
   "metadata": {},
   "outputs": [],
   "source": [
    "import random\n",
    "def make_train(ratings, pct_test = 0.2):\n",
    "    '''\n",
    "    This function will take in the original user-item matrix and \"mask\" a percentage of the original ratings where a\n",
    "    user-item interaction has taken place for use as a test set. The test set will contain all of the original ratings, \n",
    "    while the training set replaces the specified percentage of them with a zero in the original ratings matrix. \n",
    "    \n",
    "    parameters: \n",
    "    \n",
    "    ratings - the original ratings matrix from which you want to generate a train/test set. Test is just a complete\n",
    "    copy of the original set. This is in the form of a sparse csr_matrix. \n",
    "    \n",
    "    pct_test - The percentage of user-item interactions where an interaction took place that you want to mask in the \n",
    "    training set for later comparison to the test set, which contains all of the original ratings. \n",
    "    \n",
    "    returns:\n",
    "    \n",
    "    training_set - The altered version of the original data with a certain percentage of the user-item pairs \n",
    "    that originally had interaction set back to zero.\n",
    "    \n",
    "    test_set - A copy of the original ratings matrix, unaltered, so it can be used to see how the rank order \n",
    "    compares with the actual interactions.\n",
    "    \n",
    "    user_inds - From the randomly selected user-item indices, which user rows were altered in the training data.\n",
    "    This will be necessary later when evaluating the performance via AUC.\n",
    "    '''\n",
    "    test_set = ratings.copy() # Make a copy of the original set to be the test set. \n",
    "    test_set[test_set != 0] = 1 # Store the test set as a binary preference matrix\n",
    "    training_set = ratings.copy() # Make a copy of the original data we can alter as our training set. \n",
    "    nonzero_inds = training_set.nonzero() # Find the indices in the ratings data where an interaction exists\n",
    "    nonzero_pairs = list(zip(nonzero_inds[0], nonzero_inds[1])) # Zip these pairs together of user,item index into list\n",
    "    random.seed(0) # Set the random seed to zero for reproducibility\n",
    "    num_samples = int(np.ceil(pct_test*len(nonzero_pairs))) # Round the number of samples needed to the nearest integer\n",
    "    samples = random.sample(nonzero_pairs, num_samples) # Sample a random number of user-item pairs without replacement\n",
    "    user_inds = [index[0] for index in samples] # Get the user row indices\n",
    "    item_inds = [index[1] for index in samples] # Get the item column indices\n",
    "    training_set[user_inds, item_inds] = 0 # Assign all of the randomly chosen user-item pairs to zero\n",
    "    training_set.eliminate_zeros() # Get rid of zeros in sparse array storage after update to save space\n",
    "    return training_set, test_set, list(set(user_inds))\n",
    "product_train, product_test, product_users_altered = make_train(scipy.sparse.csr_matrix(dd[:,:,0]), pct_test = 0.2)"
   ]
  },
  {
   "cell_type": "code",
   "execution_count": 115,
   "metadata": {},
   "outputs": [
    {
     "name": "stderr",
     "output_type": "stream",
     "text": [
      "100%|██████████| 15/15 [00:05<00:00,  2.58it/s]\n"
     ]
    }
   ],
   "source": [
    "import time\n",
    "from lightfm import LightFM\n",
    "from lightfm.evaluation import auc_score\n",
    "from lightfm.cross_validation import random_train_test_split\n",
    "import tqdm\n",
    "alpha = 1e-05\n",
    "epochs = 15\n",
    "num_components = 32\n",
    "\n",
    "product_train, product_test =random_train_test_split(scipy.sparse.csr_matrix(aggr2), 0.1)\n",
    "\n",
    "warp_model = LightFM(no_components=num_components,\n",
    "                    loss='warp',\n",
    "                    learning_schedule='adagrad',\n",
    "                    max_sampled=100,\n",
    "                    user_alpha=alpha,\n",
    "                    item_alpha=alpha)\n",
    "\n",
    "bpr_model = LightFM(no_components=num_components,\n",
    "                    loss='bpr',\n",
    "                    learning_schedule='adagrad',\n",
    "                    user_alpha=alpha,\n",
    "                    item_alpha=alpha)\n",
    "\n",
    "warp_duration = []\n",
    "bpr_duration = []\n",
    "warp_auc = []\n",
    "bpr_auc = []\n",
    "\n",
    "for epoch in tqdm.tqdm(range(epochs)):\n",
    "    start = time.time()\n",
    "    warp_model.fit_partial(product_train, epochs=1)\n",
    "    warp_duration.append(time.time() - start)\n",
    "    warp_auc.append(auc_score(warp_model, product_test, train_interactions=product_train).mean())\n",
    "\n",
    "# for epoch in tqdm.tqdm(range(epochs)):\n",
    "#     start = time.time()\n",
    "#     bpr_model.fit_partial(product_train, epochs=1)\n",
    "#     bpr_duration.append(time.time() - start)\n",
    "#     bpr_auc.append(auc_score(bpr_model, product_test, train_interactions=product_train).mean())"
   ]
  },
  {
   "cell_type": "code",
   "execution_count": 108,
   "metadata": {},
   "outputs": [
    {
     "data": {
      "image/png": "[encoded data removed]",
      "text/plain": [
       "<Figure size 432x288 with 1 Axes>"
      ]
     },
     "metadata": {},
     "output_type": "display_data"
    }
   ],
   "source": [
    "x = np.arange(epochs)\n",
    "plt.plot(x, np.array(warp_auc))\n",
    "plt.plot(x, np.array(bpr_auc))\n",
    "plt.legend(['WARP AUC', 'BPR AUC'], loc='upper right')\n",
    "plt.show()"
   ]
  },
  {
   "cell_type": "code",
   "execution_count": 126,
   "metadata": {},
   "outputs": [
    {
     "ename": "TypeError",
     "evalue": "predict() takes at least 3 arguments (2 given)",
     "output_type": "error",
     "traceback": [
      "\u001b[0;31m---------------------------------------------------------------------------\u001b[0m",
      "\u001b[0;31mTypeError\u001b[0m                                 Traceback (most recent call last)",
      "\u001b[0;32m<ipython-input-126-1cd234702773>\u001b[0m in \u001b[0;36m<module>\u001b[0;34m()\u001b[0m\n\u001b[0;32m----> 1\u001b[0;31m \u001b[0;32mprint\u001b[0m \u001b[0mwarp_model\u001b[0m\u001b[0;34m.\u001b[0m\u001b[0mpredict\u001b[0m\u001b[0;34m(\u001b[0m\u001b[0;36m0\u001b[0m\u001b[0;34m)\u001b[0m\u001b[0;34m\u001b[0m\u001b[0m\n\u001b[0m\u001b[1;32m      2\u001b[0m \u001b[0;32mprint\u001b[0m \u001b[0mwarp_model\u001b[0m\u001b[0;34m.\u001b[0m\u001b[0mitem_embeddings\u001b[0m\u001b[0;34m[\u001b[0m\u001b[0;36m0\u001b[0m\u001b[0;34m,\u001b[0m\u001b[0;34m:\u001b[0m\u001b[0;34m]\u001b[0m\u001b[0;34m\u001b[0m\u001b[0m\n",
      "\u001b[0;31mTypeError\u001b[0m: predict() takes at least 3 arguments (2 given)"
     ]
    }
   ],
   "source": [
    "print warp_model.predict(0, u)\n",
    "print warp_model.item_embeddings[0,:]"
   ]
  },
  {
   "cell_type": "code",
   "execution_count": 116,
   "metadata": {},
   "outputs": [
    {
     "data": {
      "image/png": "[encoded data removed]",
      "text/plain": [
       "<Figure size 432x288 with 1 Axes>"
      ]
     },
     "metadata": {},
     "output_type": "display_data"
    }
   ],
   "source": [
    "x = np.arange(epochs)\n",
    "plt.plot(x, np.array(warp_auc))\n",
    "plt.legend(['WARP AUC'], loc='upper right')\n",
    "plt.show()"
   ]
  },
  {
   "cell_type": "code",
   "execution_count": 104,
   "metadata": {},
   "outputs": [],
   "source": [
    "from sklearn.preprocessing import MinMaxScaler, RobustScaler\n",
    "conf = np.zeros((dd.shape[2],))\n",
    "aggr = np.zeros((dd.shape[0],dd.shape[1]))\n",
    "for r in xrange(dd.shape[2]):\n",
    "    conf[r] = np.count_nonzero(dd[:,:,r])\n",
    "conf = MinMaxScaler().fit_transform(conf.reshape(-1,1)) + 0.001\n",
    "for r in xrange(dd.shape[2]):\n",
    "    aggr += conf[r,0]*dd[:,:,r]\n",
    "    #break"
   ]
  },
  {
   "cell_type": "code",
   "execution_count": 109,
   "metadata": {},
   "outputs": [],
   "source": [
    "from sklearn.preprocessing import MinMaxScaler, RobustScaler\n",
    "conf2 = np.zeros((dd.shape[2],))\n",
    "aggr2 = np.zeros((dd.shape[0],dd.shape[1]))\n",
    "for r in xrange(dd.shape[2]):\n",
    "    conf2[r] = 1/float(np.count_nonzero(dd[:,:,r]))\n",
    "conf2 = MinMaxScaler().fit_transform(conf2.reshape(-1,1)) + 0.001\n",
    "for r in xrange(dd.shape[2]):\n",
    "    aggr2 += conf2[r,0]*dd[:,:,r]\n",
    "\n",
    "# a = dd[:,:,r]\n",
    "# conf[0]*dd[:,:,0]\n"
   ]
  },
  {
   "cell_type": "code",
   "execution_count": 110,
   "metadata": {},
   "outputs": [
    {
     "name": "stdout",
     "output_type": "stream",
     "text": [
      "[[0.         0.         0.         ... 0.         0.         0.        ]\n",
      " [0.         0.183      0.         ... 0.         0.         0.        ]\n",
      " [0.         0.         0.         ... 0.         0.         0.        ]\n",
      " ...\n",
      " [0.         0.         1.66336821 ... 0.         0.         0.        ]\n",
      " [0.         0.         0.         ... 0.         0.         0.        ]\n",
      " [0.         0.         0.         ... 0.         0.         0.        ]]\n"
     ]
    }
   ],
   "source": [
    "print aggr2"
   ]
  },
  {
   "cell_type": "code",
   "execution_count": null,
   "metadata": {},
   "outputs": [],
   "source": []
  }
 ],
 "metadata": {
  "kernelspec": {
   "display_name": "Python 2",
   "language": "python",
   "name": "python2"
  },
  "language_info": {
   "codemirror_mode": {
    "name": "ipython",
    "version": 2
   },
   "file_extension": ".py",
   "mimetype": "text/x-python",
   "name": "python",
   "nbconvert_exporter": "python",
   "pygments_lexer": "ipython2",
   "version": "2.7.14"
  }
 },
 "nbformat": 4,
 "nbformat_minor": 2
}
