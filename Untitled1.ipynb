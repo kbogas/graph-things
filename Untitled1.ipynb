{
 "cells": [
  {
   "cell_type": "code",
   "execution_count": 1,
   "metadata": {},
   "outputs": [],
   "source": [
    "# Drug-Drug Tensor"
   ]
  },
  {
   "cell_type": "code",
   "execution_count": 2,
   "metadata": {},
   "outputs": [
    {
     "name": "stdout",
     "output_type": "stream",
     "text": [
      "(645, 645, 500)\n"
     ]
    }
   ],
   "source": [
    "import numpy as np\n",
    "import scipy\n",
    "with open('./data/drug_drug_500.np', 'r') as f:\n",
    "    dd = np.load(f)\n",
    "print dd.shape"
   ]
  },
  {
   "cell_type": "code",
   "execution_count": 6,
   "metadata": {},
   "outputs": [],
   "source": [
    "# Drug-Protein Features"
   ]
  },
  {
   "cell_type": "code",
   "execution_count": 7,
   "metadata": {},
   "outputs": [
    {
     "name": "stdout",
     "output_type": "stream",
     "text": [
      "(645, 3648)\n"
     ]
    }
   ],
   "source": [
    "import scipy.sparse\n",
    "with open('./data/drug_protein_sparse.npz', 'r') as f:\n",
    "    drug_features = scipy.sparse.load_npz(f)\n",
    "drug_features = drug_features.toarray()\n",
    "print drug_features.shape"
   ]
  },
  {
   "cell_type": "code",
   "execution_count": null,
   "metadata": {},
   "outputs": [],
   "source": [
    "def split_dataset_multiclass(dataset, train_size=1000, test_size=100):\n",
    "    test_indices = []\n",
    "    train_indices = []\n",
    "    all_ones = []\n",
    "    zeros_ind = []\n",
    "    n = dataset[0].shape[0]\n",
    "    all_possible_pairs = []\n",
    "    y_test = []\n",
    "    y_train = []\n",
    "    for i in range(n):\n",
    "        for j in range(n):\n",
    "            all_possible_pairs.append((i,j))\n",
    "    for c, adj_m in enumerate(dataset):\n",
    "        nz = np.nonzero(adj_m)\n",
    "        nz_i = nz[0]\n",
    "        nz_j = nz[1]\n",
    "        ones_indices = [(v, nz_j[i]) for i, v in enumerate(nz_i)]\n",
    "        zeros_ind = list(set(all_possible_pairs) - set(ones_indices))\n",
    "        shuffle(ones_indices)\n",
    "        shuffle(zeros_ind)\n",
    "        train_indices += ones_indices[:train_size] + zeros_ind[:train_size]\n",
    "        test_indices += ones_indices[train_size:train_size+test_size] + zeros_ind[train_size:train_size+test_size]\n",
    "        y_train += [c for i in range(train_size*2)]\n",
    "        y_test += [c for i in range((test_size*2))]\n",
    "    return train_indices, test_indices, y_train, y_test"
   ]
  },
  {
   "cell_type": "code",
   "execution_count": null,
   "metadata": {},
   "outputs": [],
   "source": [
    "from sklearn import svm \n",
    "from sklearn.multiclass import OneVsRestClassifier\n",
    "from sklearn.svm import LinearSVC\n",
    "\n",
    "\n",
    "avg_ac = []\n",
    "for f in range(FOLDS):\n",
    "    # test sets\n",
    "    # prepare indices for train and test\n",
    "    train_indices, test_indices, y_train, y_test = split_dataset_multiclass(sparse_data,\n",
    "                                                train_size=1000,\n",
    "                                                test_size=1000)\n",
    "    \n",
    "    # remove ones(test indices) from tensor\n",
    "    #for pair in test_indices:\n",
    "    #    data[pair[0],pair[1], :] = 0\n",
    "        #both directions\n",
    "    #    data[pair[1],pair[0], :] = 0\n",
    "    classes = int((len(train_indices)/1000)/2) # divide by two as we train balanced (1, 0)\n",
    "    print(classes)\n",
    "    start = 0\n",
    "    sample = 2*1000\n",
    "    end = sample\n",
    "    \n",
    "    T = [lil_matrix(data[:, :, i]) for i in range(k)]\n",
    "    Tc = [Ti.copy() for Ti in T]\n",
    "    A, R = predict_rescal_als(Tc, isClass=True)\n",
    "    print('Fold %d' % f)\n",
    "    #print(len(train_indices))\n",
    "    # prepare input for svm\n",
    "    X = []\n",
    "    y = []\n",
    "    for i in range(classes):\n",
    "        half = int(end - 1000)\n",
    "        for pair in train_indices[start:half]:\n",
    "            AR_1 = np.matmul(A[pair[0]], R[i])\n",
    "            AR_2 = np.matmul(A[pair[1]], R[i])\n",
    "            X.append(np.append(AR_1,AR_2))\n",
    "            y.append(1)\n",
    "        for pair in train_indices[half:end]:\n",
    "            AR_1 = np.matmul(A[pair[0]], R[i])\n",
    "            AR_2 = np.matmul(A[pair[1]], R[i])\n",
    "            X.append(np.append(AR_1,AR_2))\n",
    "            y.append(0)\n",
    "        start += sample\n",
    "        end += sample\n",
    "    \n",
    "    print(len(X))\n",
    "    print(len(y))\n",
    "    clf = svm.SVC()\n",
    "    clf.fit(X, y)\n",
    "                 \n",
    "    #prepare indices for prediction\n",
    "    testX = []\n",
    "    testY = []\n",
    "    start = 0\n",
    "    sample = 2*1000\n",
    "    end = sample\n",
    "    for i in range(classes):\n",
    "        half = int(end - 1000)\n",
    "        for pair in test_indices[start:half]:\n",
    "            AR_1 = np.matmul(A[pair[0]], R[i])\n",
    "            AR_2 = np.matmul(A[pair[1]], R[i])\n",
    "            testX.append(np.append(AR_1,AR_2))\n",
    "            testY.append(1)\n",
    "        for pair in test_indices[half:end]:\n",
    "            AR_1 = np.matmul(A[pair[0]], R[i])\n",
    "            AR_2 = np.matmul(A[pair[1]], R[i])\n",
    "            testX.append(np.append(AR_1,AR_2))\n",
    "            testY.append(0)\n",
    "        start += sample\n",
    "        end += sample\n",
    "    predictions = clf.predict(testX)\n",
    "    \n",
    "    from sklearn.metrics import precision_recall_curve, accuracy_score\n",
    "    import matplotlib.pyplot as plt\n",
    "    precision, recall, _ = precision_recall_curve(predictions, testY)\n",
    "    acs = accuracy_score(testY, predictions)\n",
    "    avg_ac.append(acs)\n",
    "    plt.step(recall, precision, color='b', alpha=0.2,\n",
    "             where='post')\n",
    "    plt.fill_between(recall, precision, step='post', alpha=0.2,\n",
    "                     color='b')\n",
    "\n",
    "    plt.xlabel('Recall')\n",
    "    plt.ylabel('Precision')\n",
    "    plt.ylim([0.0, 1.05])\n",
    "    plt.xlim([0.0, 1.0])\n",
    "    plt.show()\n",
    "\n",
    "    \n",
    "print(\"Average Accuracy after folds: \", sum(avg_ac)/FOLDS) "
   ]
  },
  {
   "cell_type": "code",
   "execution_count": 3,
   "metadata": {},
   "outputs": [
    {
     "name": "stdout",
     "output_type": "stream",
     "text": [
      "('Dataset size: ', (645, 645, 10))\n"
     ]
    },
    {
     "ename": "NameError",
     "evalue": "global name 'shuffle' is not defined",
     "output_type": "error",
     "traceback": [
      "\u001b[0;31m---------------------------------------------------------------------------\u001b[0m",
      "\u001b[0;31mNameError\u001b[0m                                 Traceback (most recent call last)",
      "\u001b[0;32m<ipython-input-3-1c1900e09975>\u001b[0m in \u001b[0;36m<module>\u001b[0;34m()\u001b[0m\n\u001b[1;32m    132\u001b[0m train_indices, test_indices, y_train, y_test = split_dataset_multiclass(sparse_data,\n\u001b[1;32m    133\u001b[0m                                             \u001b[0mtrain_size\u001b[0m\u001b[0;34m=\u001b[0m\u001b[0;36m1000\u001b[0m\u001b[0;34m,\u001b[0m\u001b[0;34m\u001b[0m\u001b[0m\n\u001b[0;32m--> 134\u001b[0;31m                                             test_size=1000)\n\u001b[0m\u001b[1;32m    135\u001b[0m \u001b[0mclasses_num\u001b[0m \u001b[0;34m=\u001b[0m \u001b[0mint\u001b[0m\u001b[0;34m(\u001b[0m\u001b[0;34m(\u001b[0m\u001b[0mlen\u001b[0m\u001b[0;34m(\u001b[0m\u001b[0mtrain_indices\u001b[0m\u001b[0;34m)\u001b[0m\u001b[0;34m/\u001b[0m\u001b[0;36m1000\u001b[0m\u001b[0;34m)\u001b[0m\u001b[0;34m/\u001b[0m\u001b[0;36m2\u001b[0m\u001b[0;34m)\u001b[0m \u001b[0;31m# divide by two as we train balanced (1, 0)\u001b[0m\u001b[0;34m\u001b[0m\u001b[0m\n\u001b[1;32m    136\u001b[0m \u001b[0;32mprint\u001b[0m\u001b[0;34m(\u001b[0m\u001b[0mclasses_num\u001b[0m\u001b[0;34m)\u001b[0m\u001b[0;34m\u001b[0m\u001b[0m\n",
      "\u001b[0;32m<ipython-input-3-1c1900e09975>\u001b[0m in \u001b[0;36msplit_dataset_multiclass\u001b[0;34m(dataset, train_size, test_size)\u001b[0m\n\u001b[1;32m     50\u001b[0m         \u001b[0;31m#uniq_ones = list(set(ones_indices))\u001b[0m\u001b[0;34m\u001b[0m\u001b[0;34m\u001b[0m\u001b[0m\n\u001b[1;32m     51\u001b[0m         \u001b[0mzeros_ind\u001b[0m \u001b[0;34m=\u001b[0m \u001b[0mlist\u001b[0m\u001b[0;34m(\u001b[0m\u001b[0mset\u001b[0m\u001b[0;34m(\u001b[0m\u001b[0mall_possible_pairs\u001b[0m\u001b[0;34m)\u001b[0m \u001b[0;34m-\u001b[0m \u001b[0mset\u001b[0m\u001b[0;34m(\u001b[0m\u001b[0mones_indices\u001b[0m\u001b[0;34m)\u001b[0m\u001b[0;34m)\u001b[0m\u001b[0;34m\u001b[0m\u001b[0m\n\u001b[0;32m---> 52\u001b[0;31m         \u001b[0mshuffle\u001b[0m\u001b[0;34m(\u001b[0m\u001b[0mones_indices\u001b[0m\u001b[0;34m)\u001b[0m\u001b[0;34m\u001b[0m\u001b[0m\n\u001b[0m\u001b[1;32m     53\u001b[0m         \u001b[0mshuffle\u001b[0m\u001b[0;34m(\u001b[0m\u001b[0mzeros_ind\u001b[0m\u001b[0;34m)\u001b[0m\u001b[0;34m\u001b[0m\u001b[0m\n\u001b[1;32m     54\u001b[0m         \u001b[0mtrain_indices\u001b[0m \u001b[0;34m+=\u001b[0m \u001b[0mones_indices\u001b[0m\u001b[0;34m[\u001b[0m\u001b[0;34m:\u001b[0m\u001b[0mtrain_size\u001b[0m\u001b[0;34m]\u001b[0m \u001b[0;34m+\u001b[0m \u001b[0mzeros_ind\u001b[0m\u001b[0;34m[\u001b[0m\u001b[0;34m:\u001b[0m\u001b[0mtrain_size\u001b[0m\u001b[0;34m]\u001b[0m\u001b[0;34m\u001b[0m\u001b[0m\n",
      "\u001b[0;31mNameError\u001b[0m: global name 'shuffle' is not defined"
     ]
    }
   ],
   "source": [
    "\"\"\"In this code block, you must define the function `extract_main_dataset`.\n",
    "`extract_main_dataset` must take no arguments and return a tuple (X, y), where X is a\n",
    "Numpy array with shape (n_samples, n_features) corresponding to the features of your\n",
    "main dataset and y is the Numpy array corresponding to the ground truth labels of each\n",
    "sample.\n",
    "\"\"\"\n",
    "\n",
    "import numpy as np\n",
    "import scipy\n",
    "from scipy.sparse import lil_matrix, csr_matrix\n",
    "import pandas as pd\n",
    "from sktensor import rescal\n",
    "import scipy.sparse as sp\n",
    "\n",
    "\n",
    "def predict_rescal_als(T, isClass=False):\n",
    "    A, R, _, _, _ = rescal.als(\n",
    "        T, 100, init='nvecs', conv=1e-3,\n",
    "        lambda_A=10, lambda_R=10\n",
    "    )\n",
    "    n = A.shape[0]\n",
    "    if isClass:\n",
    "        return A, R\n",
    "    P = zeros((n, n, len(R)))\n",
    "    for k in range(len(R)):\n",
    "        P[:, :, k] = dot(A, dot(R[k], A.T))\n",
    "    return P\n",
    "\n",
    "\n",
    "def split_dataset_multiclass(dataset, train_size=1000, test_size=100):\n",
    "    test_indices = []\n",
    "    train_indices = []\n",
    "    all_ones = []\n",
    "    zeros_ind = []\n",
    "    n = dataset[0].shape[0]\n",
    "    all_possible_pairs = []\n",
    "    y_test = []\n",
    "    y_train = []\n",
    "    for i in range(n):\n",
    "        for j in range(n):\n",
    "            all_possible_pairs.append((i,j))\n",
    "    for c, adj_m in enumerate(dataset):\n",
    "        nz = np.nonzero(adj_m)\n",
    "        nz_i = nz[0]\n",
    "        nz_j = nz[1]\n",
    "        ones_indices = [(v, nz_j[i]) for i, v in enumerate(nz_i)]\n",
    "        #print(len(indices))\n",
    "        #all_ones += indices\n",
    "        #print(len(all_ones))\n",
    "        #uniq_ones = list(set(ones_indices))\n",
    "        zeros_ind = list(set(all_possible_pairs) - set(ones_indices))\n",
    "        shuffle(ones_indices)\n",
    "        shuffle(zeros_ind)\n",
    "        train_indices += ones_indices[:train_size] + zeros_ind[:train_size]\n",
    "        test_indices += ones_indices[train_size:train_size+test_size] + zeros_ind[train_size:train_size+test_size]\n",
    "        y_train += [c for i in range(train_size*2)]\n",
    "        y_test += [c for i in range((test_size*2))]\n",
    "    #print(len(train_indices))\n",
    "    #print(len(test_indices))\n",
    "    #print(len(y_train))\n",
    "    #print((y_test[:1000]))\n",
    "    return train_indices, test_indices, y_train, y_test\n",
    "\n",
    "def load_csvfile(filename):\n",
    "    return pd.read_csv(filename)\n",
    "\n",
    "def convert_data_to_adjMatrix(data):\n",
    "    # TODO:: refactor how to get columns\n",
    "    columns = (data.iloc[:, i] for i in range(2))\n",
    "    df = pd.crosstab(*columns)\n",
    "    #df = pd.crosstab(data.a, data.b)\n",
    "    idx = df.columns.union(df.index)\n",
    "    adj_matrix = df.reindex(index=idx, columns=idx, fill_value=0)\n",
    "    return adj_matrix.values\n",
    "\n",
    "def convert_dataframe_to_sparse(matrix):\n",
    "    return sp.csr_matrix(matrix)\n",
    "\n",
    "def to_tensor(multiarray_sparse, sample):\n",
    "    marrays = []\n",
    "    if sample is True:\n",
    "        sorted_m = sorted(multiarray_sparse, key=csr_matrix.getnnz)\n",
    "        for m in sorted_m[-10:]: #correct > [-10:]\n",
    "            marrays.append(m.toarray())\n",
    "        T = np.array(marrays).T\n",
    "    else:\n",
    "        for m in multiarray_sparse:\n",
    "            marrays.append(m.toarray())\n",
    "        T = np.array(marrays).T\n",
    "    return T, marrays\n",
    "\n",
    "def convert_data_to_multiarray(data):\n",
    "    \"\"\"\n",
    "    Convert data to a multiway array by stacking matrix slices\n",
    "    (also sparse version)\n",
    "    \"\"\"\n",
    "    adj_matrices = []\n",
    "    adj_sp_matrices = []\n",
    "    unique_seffects = data.iloc[:, 2].unique()\n",
    "    # build a huge zeros matrix for all nodes\n",
    "    columns = (data.iloc[:, i] for i in range(2))\n",
    "    df = pd.crosstab(*columns)\n",
    "    #df = pd.crosstab(data.a, data.b)\n",
    "    idx = df.columns.union(df.index)\n",
    "    adj_matrix_all = df.reindex(index=idx, columns=idx, fill_value=0)\n",
    "\n",
    "    # for each disease get all interaction rows\n",
    "    # and construct a DxDx#unique_seffects\n",
    "    #print len(unique_seffects.tolist())\n",
    "\n",
    "    for se in unique_seffects.tolist():\n",
    "        adj_matrix_all[adj_matrix_all>0] = 0\n",
    "        subdata = data.loc[data.iloc[:, 2] == se]\n",
    "        #columns = (subdata.iloc[:, i] for i in range(3))\n",
    "        for c in subdata.values:\n",
    "            row = c[0]\n",
    "            column = c[1]\n",
    "            adj_matrix_all.at[row, column] = 1\n",
    "        adj_matrices.append(adj_matrix_all.values)\n",
    "        sparse_matrix = convert_dataframe_to_sparse(adj_matrix_all)\n",
    "        adj_sp_matrices.append(sparse_matrix)\n",
    "    #multiarray = np.dstack(adj_matrices)\n",
    "\n",
    "    return adj_sp_matrices\n",
    "\n",
    "PATH = \"/media/kostas/DATA/LLD/Papers/RESEARCH/GRAPH_CONV/data/bio-decagon-combo.csv\"\n",
    "datafile = load_csvfile(PATH)\n",
    "multiarray = convert_data_to_multiarray(datafile)\n",
    "data, sparse_data = to_tensor(multiarray, sample=True)\n",
    "e, k = data.shape[0], data.shape[2]\n",
    "print(\"Dataset size: \", data.shape)\n",
    "train_indices, test_indices, y_train, y_test = split_dataset_multiclass(sparse_data,\n",
    "                                            train_size=1000,\n",
    "                                            test_size=1000)\n",
    "classes_num = int((len(train_indices)/1000)/2) # divide by two as we train balanced (1, 0)\n",
    "print(classes_num)\n",
    "start = 0\n",
    "sample = 2*1000\n",
    "end = sample\n",
    "T = [lil_matrix(data[:, :, i]) for i in range(k)]\n",
    "Tc = [Ti.copy() for Ti in T]\n",
    "A, R = predict_rescal_als(Tc, isClass=True)\n",
    "X = []\n",
    "y = []\n",
    "y_1 = [0 for i in range(classes_num)]\n",
    "for i in range(classes_num):\n",
    "    half = int(end - 1000)\n",
    "    for pair in train_indices[start:half]:\n",
    "        AR_1 = np.matmul(A[pair[0]], R[i])\n",
    "        AR_2 = np.matmul(A[pair[1]], R[i])\n",
    "        X.append(np.append(AR_1,AR_2))\n",
    "        y_1[i] = 1\n",
    "        y.append(y_1)\n",
    "        y_1[i] = 0\n",
    "    start += sample\n",
    "    end += sample\n",
    "\n",
    "print(len(X))\n",
    "print(len(y))\n",
    "y = np.array(y)\n",
    "print(y.shape)"
   ]
  },
  {
   "cell_type": "code",
   "execution_count": 4,
   "metadata": {},
   "outputs": [
    {
     "name": "stdout",
     "output_type": "stream",
     "text": [
      "10\n",
      "10000\n",
      "10000\n",
      "(10000, 10)\n"
     ]
    }
   ],
   "source": [
    "from numpy.random import shuffle\n",
    "train_indices, test_indices, y_train, y_test = split_dataset_multiclass(sparse_data,\n",
    "                                            train_size=1000,\n",
    "                                            test_size=1000)\n",
    "classes_num = int((len(train_indices)/1000)/2) # divide by two as we train balanced (1, 0)\n",
    "print(classes_num)\n",
    "start = 0\n",
    "sample = 2*1000\n",
    "end = sample\n",
    "T = [lil_matrix(data[:, :, i]) for i in range(k)]\n",
    "Tc = [Ti.copy() for Ti in T]\n",
    "A, R = predict_rescal_als(Tc, isClass=True)\n",
    "X = []\n",
    "y = []\n",
    "y_1 = [0 for i in range(classes_num)]\n",
    "for i in range(classes_num):\n",
    "    half = int(end - 1000)\n",
    "    for pair in train_indices[start:half]:\n",
    "        AR_1 = np.matmul(A[pair[0]], R[i])\n",
    "        AR_2 = np.matmul(A[pair[1]], R[i])\n",
    "        X.append(np.append(AR_1,AR_2))\n",
    "        y_1[i] = 1\n",
    "        y.append(y_1)\n",
    "        y_1[i] = 0\n",
    "    start += sample\n",
    "    end += sample\n",
    "\n",
    "print(len(X))\n",
    "print(len(y))\n",
    "y = np.array(y)\n",
    "print(y.shape)"
   ]
  },
  {
   "cell_type": "code",
   "execution_count": 41,
   "metadata": {},
   "outputs": [
    {
     "name": "stdout",
     "output_type": "stream",
     "text": [
      "(100, 100)\n"
     ]
    }
   ],
   "source": [
    "print R[0].shape"
   ]
  },
  {
   "cell_type": "code",
   "execution_count": 46,
   "metadata": {},
   "outputs": [],
   "source": [
    "all_ind = []\n",
    "for set_ in [train_indices, test_indices]:\n",
    "    for pair in set_:\n",
    "        all_ind.extend([pair[0], pair[1]])\n",
    "all_ind = set(all_ind)\n",
    "collab = np.zeros((len(all_ind), len(all_ind)))\n",
    "collab_test = np.zeros_like(collab)\n",
    "for i, pair in enumerate(train_indices):\n",
    "    collab[pair] = y_train[i]\n",
    "for i, pair in enumerate(test_indices):\n",
    "    collab_test[pair] = y_test[i]"
   ]
  },
  {
   "cell_type": "code",
   "execution_count": 53,
   "metadata": {},
   "outputs": [
    {
     "name": "stdout",
     "output_type": "stream",
     "text": [
      "20000\n"
     ]
    }
   ],
   "source": [
    "print len(test_indices)"
   ]
  },
  {
   "cell_type": "code",
   "execution_count": 55,
   "metadata": {},
   "outputs": [
    {
     "name": "stderr",
     "output_type": "stream",
     "text": [
      "\n",
      "\n",
      "0it [00:00, ?it/s]\u001b[A\u001b[A\n",
      "\n",
      "19it [00:00, 187.15it/s]\u001b[A\u001b[A\n",
      "\n",
      "42it [00:00, 202.76it/s]"
     ]
    },
    {
     "name": "stdout",
     "output_type": "stream",
     "text": [
      "(51, 391) 0 (51, 391) 2\n",
      "(352, 388) 0 (352, 388) 7\n",
      "(256, 413) 0 (256, 413) 2\n",
      "(83, 210) 0 (83, 210) 4\n",
      "(113, 338) 0 (113, 338) 2\n",
      "(22, 517) 0 (22, 517) 8\n",
      "(322, 458) 0 (322, 458) 3\n",
      "(149, 313) 0 (149, 313) 7\n",
      "(20, 289) 0 (20, 289) 2\n",
      "(370, 459) 0 (370, 459) 3\n"
     ]
    },
    {
     "name": "stderr",
     "output_type": "stream",
     "text": [
      "\u001b[A\u001b[A\n",
      "\n",
      "63it [00:00, 204.65it/s]\u001b[A\u001b[A\n",
      "\n",
      "88it [00:00, 214.32it/s]\u001b[A\u001b[A"
     ]
    },
    {
     "name": "stdout",
     "output_type": "stream",
     "text": [
      "(183, 433) 0 (183, 433) 7\n",
      "(226, 633) 0 (226, 633) 4\n",
      "(108, 460) 0 (108, 460) 7\n",
      "(61, 131) 0 (61, 131) 5\n",
      "(449, 610) 0 (449, 610) 1\n",
      "(309, 478) 0 (309, 478) 2\n",
      "(20, 495) 0 (20, 495) 1\n",
      "(284, 422) 0 (284, 422) 2\n",
      "(109, 309) 0 (109, 309) 7\n",
      "(101, 305) 0 (101, 305) 9\n"
     ]
    },
    {
     "name": "stderr",
     "output_type": "stream",
     "text": [
      "\n",
      "\n",
      "105it [00:00, 203.90it/s]\u001b[A\u001b[A\n",
      "\n",
      "126it [00:00, 204.29it/s]\u001b[A\u001b[A"
     ]
    },
    {
     "name": "stdout",
     "output_type": "stream",
     "text": [
      "(309, 628) 0 (309, 628) 5\n",
      "(157, 552) 0 (157, 552) 5\n",
      "(24, 465) 0 (24, 465) 6\n",
      "(183, 638) 0 (183, 638) 2\n",
      "(182, 392) 0 (182, 392) 8\n",
      "(63, 434) 0 (63, 434) 4\n",
      "(305, 566) 0 (305, 566) 8\n",
      "(83, 262) 0 (83, 262) 6\n",
      "(98, 297) 0 (98, 297) 8\n",
      "(222, 295) 0 (222, 295) 1\n"
     ]
    },
    {
     "name": "stderr",
     "output_type": "stream",
     "text": [
      "\n",
      "\n",
      "144it [00:00, 198.10it/s]\u001b[A\u001b[A\n",
      "\n",
      "164it [00:00, 197.80it/s]\u001b[A\u001b[A\n",
      "\n",
      "184it [00:00, 197.64it/s]\u001b[A\u001b[A"
     ]
    },
    {
     "name": "stdout",
     "output_type": "stream",
     "text": [
      "(172, 380) 0 (172, 380) 6\n",
      "(133, 428) 0 (133, 428) 2\n",
      "(30, 627) 0 (30, 627) 8\n",
      "(205, 533) 0 (205, 533) 2\n",
      "(41, 214) 0 (41, 214) 6\n"
     ]
    },
    {
     "name": "stderr",
     "output_type": "stream",
     "text": [
      "\n",
      "\n",
      "204it [00:01, 197.71it/s]\u001b[A\u001b[A\n",
      "\n",
      "226it [00:01, 199.09it/s]\u001b[A\u001b[A"
     ]
    },
    {
     "name": "stdout",
     "output_type": "stream",
     "text": [
      "(2, 191) 0 (2, 191) 2\n",
      "(442, 543) 0 (442, 543) 6\n",
      "(185, 491) 0 (185, 491) 4\n",
      "(592, 627) 0 (592, 627) 1\n",
      "(64, 444) 0 (64, 444) 4\n",
      "(45, 576) 0 (45, 576) 5\n",
      "(395, 449) 0 (395, 449) 2\n",
      "(45, 52) 0 (45, 52) 5\n",
      "(237, 478) 0 (237, 478) 9\n",
      "(262, 284) 0 (262, 284) 2\n"
     ]
    },
    {
     "name": "stderr",
     "output_type": "stream",
     "text": [
      "\n",
      "\n",
      "246it [00:01, 195.20it/s]\u001b[A\u001b[A\n",
      "\n",
      "268it [00:01, 196.71it/s]\u001b[A\u001b[A"
     ]
    },
    {
     "name": "stdout",
     "output_type": "stream",
     "text": [
      "(239, 447) 0 (239, 447) 9\n",
      "(322, 561) 0 (322, 561) 5\n",
      "(327, 447) 0 (327, 447) 3\n",
      "(95, 478) 0 (95, 478) 3\n",
      "(495, 586) 0 (495, 586) 9\n",
      "(8, 487) 0 (8, 487) 6\n",
      "(229, 513) 0 (229, 513) 4\n"
     ]
    },
    {
     "name": "stderr",
     "output_type": "stream",
     "text": [
      "\n",
      "\n",
      "288it [00:01, 194.77it/s]\u001b[A\u001b[A\n",
      "\n",
      "308it [00:01, 194.89it/s]\u001b[A\u001b[A"
     ]
    },
    {
     "name": "stdout",
     "output_type": "stream",
     "text": [
      "(334, 484) 0 (334, 484) 9\n",
      "(220, 510) 0 (220, 510) 8\n",
      "(41, 458) 0 (41, 458) 5\n",
      "(275, 627) 0 (275, 627) 8\n",
      "(128, 190) 0 (128, 190) 2\n",
      "(221, 334) 0 (221, 334) 4\n",
      "(120, 235) 0 (120, 235) 8\n",
      "(133, 402) 0 (133, 402) 6\n",
      "(51, 349) 0 (51, 349) 3\n",
      "(127, 339) 0 (127, 339) 2\n"
     ]
    },
    {
     "name": "stderr",
     "output_type": "stream",
     "text": [
      "\n",
      "\n",
      "328it [00:01, 193.06it/s]\u001b[A\u001b[A\n",
      "\n",
      "352it [00:01, 195.41it/s]\u001b[A\u001b[A"
     ]
    },
    {
     "name": "stdout",
     "output_type": "stream",
     "text": [
      "(413, 457) 0 (413, 457) 8\n",
      "(80, 133) 0 (80, 133) 1\n",
      "(146, 509) 0 (146, 509) 2\n",
      "(41, 189) 0 (41, 189) 3\n",
      "(391, 407) 0 (391, 407) 3\n",
      "(203, 392) 0 (203, 392) 6\n",
      "(214, 458) 0 (214, 458) 9\n"
     ]
    },
    {
     "name": "stderr",
     "output_type": "stream",
     "text": [
      "\n",
      "\n",
      "374it [00:01, 196.23it/s]\u001b[A\u001b[A\n",
      "\n",
      "396it [00:02, 197.34it/s]\u001b[A\u001b[A"
     ]
    },
    {
     "name": "stdout",
     "output_type": "stream",
     "text": [
      "(266, 305) 0 (266, 305) 5\n",
      "(449, 573) 0 (449, 573) 1\n",
      "(184, 627) 0 (184, 627) 5\n",
      "(36, 209) 0 (36, 209) 9\n",
      "(63, 629) 0 (63, 629) 3\n"
     ]
    },
    {
     "name": "stderr",
     "output_type": "stream",
     "text": [
      "\n",
      "\n",
      "417it [00:02, 196.21it/s]\u001b[A\u001b[A\n",
      "\n",
      "443it [00:02, 198.86it/s]\u001b[A\u001b[A"
     ]
    },
    {
     "name": "stdout",
     "output_type": "stream",
     "text": [
      "(225, 559) 0 (225, 559) 6\n",
      "(181, 509) 0 (181, 509) 7\n",
      "(271, 280) 0 (271, 280) 6\n",
      "(180, 469) 0 (180, 469) 6\n",
      "(37, 319) 0 (37, 319) 3\n",
      "(286, 586) 0 (286, 586) 2\n",
      "(95, 413) 0 (95, 413) 8\n"
     ]
    },
    {
     "name": "stderr",
     "output_type": "stream",
     "text": [
      "\n",
      "\n",
      "465it [00:02, 198.95it/s]\u001b[A\u001b[A\n",
      "\n",
      "491it [00:02, 201.24it/s]\u001b[A\u001b[A"
     ]
    },
    {
     "name": "stdout",
     "output_type": "stream",
     "text": [
      "(107, 355) 0 (107, 355) 6\n",
      "(8, 370) 0 (8, 370) 8\n",
      "(142, 397) 0 (142, 397) 1\n",
      "(305, 330) 0 (305, 330) 3\n",
      "(20, 134) 0 (20, 134) 3\n",
      "(10, 278) 0 (10, 278) 7\n",
      "(265, 486) 0 (265, 486) 3\n",
      "(378, 528) 0 (378, 528) 6\n",
      "(146, 510) 0 (146, 510) 5\n",
      "(101, 290) 0 (101, 290) 8\n"
     ]
    },
    {
     "name": "stderr",
     "output_type": "stream",
     "text": [
      "\n",
      "\n",
      "514it [00:02, 201.94it/s]\u001b[A\u001b[A\n",
      "\n",
      "537it [00:02, 202.84it/s]\u001b[A\u001b[A\n",
      "\u001b[A"
     ]
    },
    {
     "name": "stdout",
     "output_type": "stream",
     "text": [
      "(426, 447) 0 (426, 447) 7\n",
      "(166, 629) 0 (166, 629) 5\n",
      "(90, 146) 0 (90, 146) 1\n",
      "(91, 296) 0 (91, 296) 6\n",
      "(174, 624) 0 (174, 624) 6\n",
      "(431, 539) 0 (431, 539) 5\n",
      "(374, 594) 0 (374, 594) 3\n",
      "(19, 131) 0 (19, 131) 8\n"
     ]
    },
    {
     "name": "stderr",
     "output_type": "stream",
     "text": [
      "\n",
      "\n",
      "560it [00:02, 201.29it/s]\u001b[A\u001b[A\n",
      "\n",
      "582it [00:02, 201.90it/s]\u001b[A\u001b[A"
     ]
    },
    {
     "name": "stdout",
     "output_type": "stream",
     "text": [
      "(265, 461) 0 (265, 461) 4\n",
      "(155, 196) 0 (155, 196) 6\n",
      "(486, 520) 0 (486, 520) 5\n",
      "(305, 346) 0 (305, 346) 7\n",
      "(469, 535) 0 (469, 535) 1\n"
     ]
    },
    {
     "name": "stderr",
     "output_type": "stream",
     "text": [
      "\n",
      "\n",
      "604it [00:02, 202.11it/s]\u001b[A\u001b[A\n",
      "\n",
      "629it [00:03, 203.48it/s]\u001b[A\u001b[A\n",
      "\n",
      "651it [00:03, 203.89it/s]\u001b[A\u001b[A"
     ]
    },
    {
     "name": "stdout",
     "output_type": "stream",
     "text": [
      "(231, 256) 0 (231, 256) 2\n",
      "(413, 571) 0 (413, 571) 4\n",
      "(291, 371) 0 (291, 371) 1\n",
      "(146, 511) 0 (146, 511) 5\n",
      "(164, 290) 0 (164, 290) 9\n",
      "(25, 589) 0 (25, 589) 3\n"
     ]
    },
    {
     "name": "stderr",
     "output_type": "stream",
     "text": [
      "\n",
      "\n",
      "673it [00:03, 204.21it/s]\u001b[A\u001b[A\n",
      "\n",
      "697it [00:03, 205.14it/s]\u001b[A\u001b[A"
     ]
    },
    {
     "name": "stdout",
     "output_type": "stream",
     "text": [
      "(168, 229) 0 (168, 229) 2\n",
      "(113, 166) 0 (113, 166) 3\n",
      "(262, 607) 0 (262, 607) 1\n",
      "(52, 636) 0 (52, 636) 2\n",
      "(457, 458) 0 (457, 458) 1\n",
      "(50, 146) 0 (50, 146) 8\n",
      "(80, 289) 0 (80, 289) 2\n",
      "(22, 459) 0 (22, 459) 4\n",
      "(221, 607) 0 (221, 607) 2\n"
     ]
    },
    {
     "name": "stderr",
     "output_type": "stream",
     "text": [
      "\n",
      "\n",
      "720it [00:03, 205.47it/s]\u001b[A\u001b[A\n",
      "\n",
      "743it [00:03, 205.81it/s]\u001b[A\u001b[A\n",
      "\n",
      "766it [00:03, 206.37it/s]\u001b[A\u001b[A"
     ]
    },
    {
     "name": "stdout",
     "output_type": "stream",
     "text": [
      "(399, 540) 0 (399, 540) 8\n",
      "(10, 263) 0 (10, 263) 3\n",
      "(137, 439) 0 (137, 439) 6\n",
      "(131, 199) 0 (131, 199) 2\n",
      "(383, 467) 0 (383, 467) 3\n",
      "(164, 510) 0 (164, 510) 9\n"
     ]
    },
    {
     "name": "stderr",
     "output_type": "stream",
     "text": [
      "\n",
      "\n",
      "789it [00:03, 206.44it/s]\u001b[A\u001b[A\n",
      "\n",
      "813it [00:03, 207.13it/s]\u001b[A\u001b[A"
     ]
    },
    {
     "name": "stdout",
     "output_type": "stream",
     "text": [
      "(235, 556) 0 (235, 556) 4\n",
      "(337, 395) 0 (337, 395) 9\n",
      "(127, 509) 0 (127, 509) 6\n",
      "(403, 565) 0 (403, 565) 8\n",
      "(256, 380) 0 (256, 380) 6\n",
      "(200, 401) 0 (200, 401) 3\n",
      "(344, 428) 0 (344, 428) 8\n",
      "(253, 410) 0 (253, 410) 9\n",
      "(157, 228) 0 (157, 228) 6\n",
      "(346, 627) 0 (346, 627) 1\n"
     ]
    },
    {
     "name": "stderr",
     "output_type": "stream",
     "text": [
      "\n",
      "\n",
      "836it [00:04, 207.33it/s]\u001b[A\u001b[A\n",
      "\n",
      "859it [00:04, 207.86it/s]\u001b[A\u001b[A"
     ]
    },
    {
     "name": "stdout",
     "output_type": "stream",
     "text": [
      "(260, 293) 0 (260, 293) 1\n",
      "(144, 404) 0 (144, 404) 7\n",
      "(45, 535) 0 (45, 535) 6\n",
      "(125, 467) 0 (125, 467) 7\n",
      "(149, 275) 0 (149, 275) 2\n",
      "(349, 532) 0 (349, 532) 9\n",
      "(80, 252) 0 (80, 252) 9\n"
     ]
    },
    {
     "name": "stderr",
     "output_type": "stream",
     "text": [
      "\n",
      "\n",
      "882it [00:04, 207.84it/s]\u001b[A\u001b[A\n",
      "\n",
      "907it [00:04, 208.68it/s]\u001b[A\u001b[A"
     ]
    },
    {
     "name": "stdout",
     "output_type": "stream",
     "text": [
      "(225, 513) 0 (225, 513) 8\n",
      "(410, 460) 0 (410, 460) 5\n",
      "(279, 448) 0 (279, 448) 3\n",
      "(30, 238) 0 (30, 238) 7\n",
      "(132, 342) 0 (132, 342) 1\n",
      "(132, 343) 0 (132, 343) 4\n",
      "(346, 612) 0 (346, 612) 6\n",
      "(230, 521) 0 (230, 521) 9\n",
      "(45, 598) 0 (45, 598) 3\n"
     ]
    },
    {
     "name": "stderr",
     "output_type": "stream",
     "text": [
      "\n",
      "\n",
      "930it [00:04, 208.74it/s]\u001b[A\u001b[A\n",
      "\n",
      "955it [00:04, 209.59it/s]\u001b[A\u001b[A"
     ]
    },
    {
     "name": "stdout",
     "output_type": "stream",
     "text": [
      "(419, 449) 0 (419, 449) 2\n",
      "(52, 453) 0 (52, 453) 6\n",
      "(157, 327) 0 (157, 327) 1\n",
      "(391, 457) 0 (391, 457) 9\n",
      "(447, 629) 0 (447, 629) 6\n",
      "(246, 311) 0 (246, 311) 4\n",
      "(199, 638) 0 (199, 638) 6\n",
      "(2, 561) 0 (2, 561) 7\n",
      "(4, 273) 0 (4, 273) 8\n"
     ]
    },
    {
     "name": "stderr",
     "output_type": "stream",
     "text": [
      "\n",
      "\n",
      "978it [00:04, 209.45it/s]\u001b[A\u001b[A\n",
      "\n",
      "1001it [00:04, 209.35it/s]\u001b[A\u001b[A"
     ]
    },
    {
     "name": "stdout",
     "output_type": "stream",
     "text": [
      "(346, 518) 0 (346, 518) 6\n",
      "(139, 346) 0 (139, 346) 9\n",
      "(107, 172) 0 (107, 172) 6\n",
      "(590, 197) 0 (590, 197) 4\n",
      "(422, 563) 0 (422, 563) 5\n"
     ]
    },
    {
     "name": "stderr",
     "output_type": "stream",
     "text": [
      "\n",
      "\n",
      "1024it [00:04, 209.60it/s]\u001b[A\u001b[A\n",
      "\n",
      "1050it [00:04, 210.45it/s]\u001b[A\u001b[A"
     ]
    },
    {
     "name": "stdout",
     "output_type": "stream",
     "text": [
      "(19, 230) 0 (19, 230) 7\n"
     ]
    },
    {
     "name": "stderr",
     "output_type": "stream",
     "text": [
      "\n",
      "\n",
      "1073it [00:05, 210.66it/s]\u001b[A\u001b[A\n",
      "\n",
      "1097it [00:05, 211.10it/s]\u001b[A\u001b[A"
     ]
    },
    {
     "name": "stdout",
     "output_type": "stream",
     "text": [
      "(45, 133) 0 (45, 133) 4\n"
     ]
    },
    {
     "name": "stderr",
     "output_type": "stream",
     "text": [
      "\n",
      "\n",
      "1120it [00:05, 211.25it/s]\u001b[A\u001b[A\n",
      "\n",
      "1144it [00:05, 211.72it/s]\u001b[A\u001b[A\n",
      "\n",
      "1169it [00:05, 212.38it/s]\u001b[A\u001b[A"
     ]
    },
    {
     "name": "stdout",
     "output_type": "stream",
     "text": [
      "(70, 170) 0 (70, 170) 5\n"
     ]
    },
    {
     "name": "stderr",
     "output_type": "stream",
     "text": [
      "\n",
      "\n",
      "1193it [00:05, 212.47it/s]\u001b[A\u001b[A\n",
      "\n",
      "1218it [00:05, 213.02it/s]\u001b[A\u001b[A\n",
      "\n",
      "1243it [00:05, 213.58it/s]\u001b[A\u001b[A"
     ]
    },
    {
     "name": "stdout",
     "output_type": "stream",
     "text": [
      "(441, 177) 0 (441, 177) 2\n"
     ]
    },
    {
     "name": "stderr",
     "output_type": "stream",
     "text": [
      "\n",
      "\n",
      "1267it [00:05, 213.60it/s]\u001b[A\u001b[A\n",
      "\n",
      "1293it [00:06, 214.28it/s]\u001b[A\u001b[A\n",
      "\n",
      "1318it [00:06, 214.80it/s]\u001b[A\u001b[A"
     ]
    },
    {
     "name": "stdout",
     "output_type": "stream",
     "text": [
      "(129, 613) 0 (129, 613) 3\n",
      "(293, 512) 0 (293, 512) 7\n"
     ]
    },
    {
     "name": "stderr",
     "output_type": "stream",
     "text": [
      "\n",
      "\n",
      "1342it [00:06, 214.85it/s]\u001b[A\u001b[A\n",
      "\n",
      "1368it [00:06, 215.50it/s]\u001b[A\u001b[A"
     ]
    },
    {
     "name": "stdout",
     "output_type": "stream",
     "text": [
      "(12, 619) 0 (12, 619) 5\n",
      "(417, 85) 0 (417, 85) 9\n"
     ]
    },
    {
     "name": "stderr",
     "output_type": "stream",
     "text": [
      "\n",
      "\n",
      "1392it [00:06, 215.40it/s]\u001b[A\u001b[A\n",
      "\n",
      "1417it [00:06, 215.86it/s]\u001b[A\u001b[A"
     ]
    },
    {
     "name": "stdout",
     "output_type": "stream",
     "text": [
      "(245, 315) 0 (245, 315) 7\n"
     ]
    },
    {
     "name": "stderr",
     "output_type": "stream",
     "text": [
      "\n",
      "\n",
      "1443it [00:06, 216.32it/s]\u001b[A\u001b[A\n",
      "\n",
      "1467it [00:06, 216.65it/s]\u001b[A\u001b[A\n",
      "\n",
      "1492it [00:06, 217.07it/s]\u001b[A\u001b[A\n",
      "\n",
      "1518it [00:06, 217.64it/s]\u001b[A\u001b[A\n",
      "\n",
      "1544it [00:07, 218.22it/s]\u001b[A\u001b[A"
     ]
    },
    {
     "name": "stdout",
     "output_type": "stream",
     "text": [
      "(62, 379) 0 (62, 379) 6\n",
      "(598, 115) 0 (598, 115) 1\n",
      "(443, 462) 0 (443, 462) 8\n"
     ]
    },
    {
     "name": "stderr",
     "output_type": "stream",
     "text": [
      "\n",
      "\n",
      "1569it [00:07, 218.37it/s]\u001b[A\u001b[A\n",
      "\n",
      "1595it [00:07, 218.89it/s]\u001b[A\u001b[A\n",
      "\n",
      "1621it [00:07, 219.37it/s]\u001b[A\u001b[A\n",
      "\n",
      "1646it [00:07, 219.71it/s]\u001b[A\u001b[A\n",
      "\n",
      "1671it [00:07, 220.10it/s]\u001b[A\u001b[A"
     ]
    },
    {
     "name": "stdout",
     "output_type": "stream",
     "text": [
      "(607, 155) 0 (607, 155) 9\n",
      "(211, 253) 0 (211, 253) 2\n",
      "(532, 165) 0 (532, 165) 9\n",
      "(434, 519) 0 (434, 519) 4\n"
     ]
    },
    {
     "name": "stderr",
     "output_type": "stream",
     "text": [
      "\n",
      "\n",
      "1696it [00:07, 220.17it/s]\u001b[A\u001b[A\n",
      "\n",
      "1722it [00:07, 220.65it/s]\u001b[A\u001b[A"
     ]
    },
    {
     "name": "stdout",
     "output_type": "stream",
     "text": [
      "(415, 541) 0 (415, 541) 5\n",
      "(620, 565) 0 (620, 565) 1\n"
     ]
    },
    {
     "name": "stderr",
     "output_type": "stream",
     "text": [
      "\n",
      "\n",
      "1747it [00:07, 220.79it/s]\u001b[A\u001b[A\n",
      "\n",
      "1773it [00:08, 221.25it/s]\u001b[A\u001b[A\n",
      "\n",
      "1800it [00:08, 221.74it/s]\u001b[A\u001b[A"
     ]
    },
    {
     "name": "stdout",
     "output_type": "stream",
     "text": [
      "(184, 214) 0 (184, 214) 8\n",
      "(533, 345) 0 (533, 345) 4\n"
     ]
    },
    {
     "name": "stderr",
     "output_type": "stream",
     "text": [
      "\n",
      "\n",
      "1826it [00:08, 221.60it/s]\u001b[A\u001b[A\n",
      "\n",
      "1851it [00:08, 221.91it/s]\u001b[A\u001b[A"
     ]
    },
    {
     "name": "stdout",
     "output_type": "stream",
     "text": [
      "(463, 533) 0 (463, 533) 8\n",
      "(420, 504) 0 (420, 504) 7\n",
      "(133, 544) 0 (133, 544) 7\n",
      "(305, 458) 0 (305, 458) 6\n"
     ]
    },
    {
     "name": "stderr",
     "output_type": "stream",
     "text": [
      "\n",
      "\n",
      "1876it [00:08, 221.80it/s]\u001b[A\u001b[A\n",
      "\n",
      "1901it [00:08, 222.05it/s]\u001b[A\u001b[A"
     ]
    },
    {
     "name": "stdout",
     "output_type": "stream",
     "text": [
      "(441, 474) 0 (441, 474) 3\n",
      "(626, 405) 0 (626, 405) 7\n",
      "(213, 392) 0 (213, 392) 1\n"
     ]
    },
    {
     "name": "stderr",
     "output_type": "stream",
     "text": [
      "\n",
      "\n",
      "1925it [00:08, 221.97it/s]\u001b[A\u001b[A\n",
      "\n",
      "1950it [00:08, 222.21it/s]\u001b[A\u001b[A\n",
      "\n",
      "1974it [00:08, 222.32it/s]\u001b[A\u001b[A"
     ]
    },
    {
     "name": "stdout",
     "output_type": "stream",
     "text": [
      "(275, 605) 0 (275, 605) 3\n"
     ]
    },
    {
     "name": "stderr",
     "output_type": "stream",
     "text": [
      "\n",
      "\n",
      "1998it [00:08, 222.32it/s]\u001b[A\u001b[A\n",
      "\n",
      "2021it [00:09, 222.37it/s]\u001b[A\u001b[A"
     ]
    },
    {
     "name": "stdout",
     "output_type": "stream",
     "text": [
      "(286, 494) 0 (286, 494) 4\n",
      "(376, 559) 1 (376, 559) 5\n",
      "(318, 334) 1 (318, 334) 7\n",
      "(8, 67) 1 (8, 67) 8\n",
      "(37, 548) 1 (37, 548) 8\n"
     ]
    },
    {
     "name": "stderr",
     "output_type": "stream",
     "text": [
      "\n",
      "\n",
      "2044it [00:09, 222.05it/s]\u001b[A\u001b[A\n",
      "\n",
      "2068it [00:09, 222.20it/s]\u001b[A\u001b[A"
     ]
    },
    {
     "name": "stdout",
     "output_type": "stream",
     "text": [
      "(217, 266) 1 (217, 266) 0\n",
      "(131, 403) 1 (131, 403) 6\n",
      "(41, 144) 1 (41, 144) 5\n",
      "(448, 642) 1 (448, 642) 7\n"
     ]
    },
    {
     "name": "stderr",
     "output_type": "stream",
     "text": [
      "\n",
      "\n",
      "2091it [00:09, 221.96it/s]\u001b[A\u001b[A\n",
      "\n",
      "2115it [00:09, 222.12it/s]\u001b[A\u001b[A\n",
      "\n"
     ]
    },
    {
     "name": "stdout",
     "output_type": "stream",
     "text": [
      "(41, 174) 1 (41, 174) 3\n",
      "(208, 540) 1 (208, 540) 5\n",
      "(132, 505) 1 (132, 505) 7\n",
      "(305, 383) 1 (305, 383) 9\n",
      "(273, 318) 1 (273, 318) 6\n",
      "(165, 262) 1 (165, 262) 0\n",
      "(171, 492) 1 (171, 492) 9\n",
      "(238, 403) 1 (238, 403) 0\n",
      "(295, 375) 1 (295, 375) 7\n",
      "(309, 403) 1 (309, 403) 4\n",
      "(187, 407) 1 (187, 407) 5\n",
      "(146, 401) 1 (146, 401) 2\n",
      "(132, 287) 1 (132, 287) 3\n",
      "(349, 474) 1 (349, 474) 0\n"
     ]
    },
    {
     "name": "stderr",
     "output_type": "stream",
     "text": [
      "2142it [00:09, 222.53it/s]\u001b[A\u001b[A\n",
      "\n",
      "2166it [00:09, 222.59it/s]\u001b[A\u001b[A\n",
      "\n",
      "2190it [00:09, 222.72it/s]\u001b[A\u001b[A"
     ]
    },
    {
     "name": "stdout",
     "output_type": "stream",
     "text": [
      "(10, 263) 1 (10, 263) 3\n",
      "(162, 397) 1 (162, 397) 4\n",
      "(125, 559) 1 (125, 559) 3\n",
      "(46, 133) 1 (46, 133) 4\n",
      "(365, 387) 1 (365, 387) 9\n",
      "(272, 334) 1 (272, 334) 5\n",
      "(485, 583) 1 (485, 583) 7\n"
     ]
    },
    {
     "name": "stderr",
     "output_type": "stream",
     "text": [
      "\n",
      "\n",
      "2214it [00:09, 222.78it/s]\u001b[A\u001b[A\n",
      "\n",
      "2239it [00:10, 223.01it/s]\u001b[A\u001b[A"
     ]
    },
    {
     "name": "stdout",
     "output_type": "stream",
     "text": [
      "(348, 585) 1 (348, 585) 2\n",
      "(22, 429) 1 (22, 429) 2\n",
      "(113, 605) 1 (113, 605) 8\n",
      "(231, 543) 1 (231, 543) 4\n",
      "(162, 426) 1 (162, 426) 8\n",
      "(61, 199) 1 (61, 199) 9\n",
      "(167, 312) 1 (167, 312) 0\n",
      "(295, 432) 1 (295, 432) 4\n",
      "(150, 628) 1 (150, 628) 8\n"
     ]
    },
    {
     "name": "stderr",
     "output_type": "stream",
     "text": [
      "\n",
      "\n",
      "2263it [00:10, 222.62it/s]\u001b[A\u001b[A\n",
      "\n",
      "2289it [00:10, 222.94it/s]\u001b[A\u001b[A"
     ]
    },
    {
     "name": "stdout",
     "output_type": "stream",
     "text": [
      "(337, 539) 1 (337, 539) 4\n",
      "(205, 594) 1 (205, 594) 0\n",
      "(420, 428) 1 (420, 428) 3\n",
      "(614, 624) 1 (614, 624) 4\n",
      "(88, 210) 1 (88, 210) 0\n",
      "(134, 335) 1 (134, 335) 3\n",
      "(190, 422) 1 (190, 422) 4\n",
      "(127, 594) 1 (127, 594) 8\n",
      "(127, 428) 1 (127, 428) 8\n",
      "(352, 512) 1 (352, 512) 5\n",
      "(109, 346) 1 (109, 346) 2\n"
     ]
    },
    {
     "name": "stderr",
     "output_type": "stream",
     "text": [
      "\n",
      "\n",
      "2313it [00:10, 222.80it/s]\u001b[A\u001b[A\n",
      "\n",
      "2336it [00:10, 222.81it/s]\u001b[A\u001b[A"
     ]
    },
    {
     "name": "stdout",
     "output_type": "stream",
     "text": [
      "(81, 380) 1 (81, 380) 4\n",
      "(184, 214) 1 (184, 214) 8\n",
      "(94, 213) 1 (94, 213) 2\n",
      "(35, 132) 1 (35, 132) 8\n",
      "(289, 383) 1 (289, 383) 7\n",
      "(444, 473) 1 (444, 473) 2\n",
      "(449, 607) 1 (449, 607) 0\n",
      "(98, 337) 1 (98, 337) 9\n",
      "(88, 232) 1 (88, 232) 3\n",
      "(290, 639) 1 (290, 639) 0\n",
      "(144, 398) 1 (144, 398) 2\n"
     ]
    },
    {
     "name": "stderr",
     "output_type": "stream",
     "text": [
      "\n",
      "\n",
      "2361it [00:10, 222.98it/s]\u001b[A\u001b[A\n",
      "\n",
      "2384it [00:10, 222.91it/s]\u001b[A\u001b[A"
     ]
    },
    {
     "name": "stdout",
     "output_type": "stream",
     "text": [
      "(108, 413) 1 (108, 413) 2\n",
      "(167, 573) 1 (167, 573) 7\n",
      "(162, 510) 1 (162, 510) 3\n",
      "(22, 607) 1 (22, 607) 7\n",
      "(125, 397) 1 (125, 397) 9\n",
      "(351, 479) 1 (351, 479) 5\n",
      "(107, 410) 1 (107, 410) 0\n",
      "(128, 310) 1 (128, 310) 0\n",
      "(290, 550) 1 (290, 550) 0\n",
      "(168, 228) 1 (168, 228) 8\n"
     ]
    },
    {
     "name": "stderr",
     "output_type": "stream",
     "text": [
      "\n",
      "\n",
      "2407it [00:10, 222.80it/s]\u001b[A\u001b[A\n",
      "\n",
      "2430it [00:10, 222.78it/s]\u001b[A\u001b[A"
     ]
    },
    {
     "name": "stdout",
     "output_type": "stream",
     "text": [
      "(380, 466) 1 (380, 466) 0\n",
      "(90, 413) 1 (90, 413) 9\n",
      "(330, 344) 1 (330, 344) 9\n",
      "(42, 628) 1 (42, 628) 3\n",
      "(112, 613) 1 (112, 613) 9\n",
      "(426, 495) 1 (426, 495) 6\n",
      "(158, 512) 1 (158, 512) 9\n",
      "(64, 108) 1 (64, 108) 5\n"
     ]
    },
    {
     "name": "stderr",
     "output_type": "stream",
     "text": [
      "\n",
      "\n",
      "2453it [00:11, 222.81it/s]\u001b[A\u001b[A\n",
      "\n",
      "2476it [00:11, 222.81it/s]\u001b[A\u001b[A\n",
      "\n",
      "2501it [00:11, 223.01it/s]\u001b[A\u001b[A"
     ]
    },
    {
     "name": "stdout",
     "output_type": "stream",
     "text": [
      "(187, 607) 1 (187, 607) 0\n",
      "(97, 441) 1 (97, 441) 5\n",
      "(168, 479) 1 (168, 479) 3\n",
      "(273, 297) 1 (273, 297) 9\n",
      "(260, 417) 1 (260, 417) 3\n",
      "(125, 191) 1 (125, 191) 8\n",
      "(478, 575) 1 (478, 575) 8\n",
      "(186, 637) 1 (186, 637) 6\n",
      "(226, 389) 1 (226, 389) 3\n",
      "(336, 481) 1 (336, 481) 4\n",
      "(10, 83) 1 (10, 83) 3\n"
     ]
    },
    {
     "name": "stderr",
     "output_type": "stream",
     "text": [
      "\n",
      "\n",
      "2524it [00:11, 222.84it/s]\u001b[A\u001b[A\n",
      "\n",
      "2548it [00:11, 222.93it/s]\u001b[A\u001b[A"
     ]
    },
    {
     "name": "stdout",
     "output_type": "stream",
     "text": [
      "(623, 624) 1 (623, 624) 4\n",
      "(164, 544) 1 (164, 544) 7\n",
      "(228, 576) 1 (228, 576) 3\n",
      "(11, 95) 1 (11, 95) 3\n",
      "(460, 512) 1 (460, 512) 3\n",
      "(334, 438) 1 (334, 438) 3\n",
      "(116, 137) 1 (116, 137) 2\n",
      "(228, 233) 1 (228, 233) 6\n",
      "(10, 253)"
     ]
    },
    {
     "name": "stderr",
     "output_type": "stream",
     "text": [
      "\n",
      "\n",
      "2571it [00:11, 222.81it/s]\u001b[A\u001b[A\n",
      "\n",
      "2598it [00:11, 223.21it/s]\u001b[A\u001b[A"
     ]
    },
    {
     "name": "stdout",
     "output_type": "stream",
     "text": [
      " 1 (10, 253) 9\n",
      "(275, 412) 1 (275, 412) 5\n",
      "(126, 206) 1 (126, 206) 6\n",
      "(274, 310) 1 (274, 310) 5\n",
      "(180, 318) 1 (180, 318) 3\n",
      "(327, 473) 1 (327, 473) 6\n",
      "(52, 208) 1 (52, 208) 7\n",
      "(246, 597) 1 (246, 597) 2\n",
      "(161, 235) 1 (161, 235) 2\n",
      "(510, 597) 1 (510, 597) 0\n",
      "(146, 426) 1 (146, 426) 2\n",
      "(30, 403) 1 (30, 403) 5\n",
      "(95, 305) 1 (95, 305) 7\n",
      "(298, 401) 1 (298, 401) 7\n",
      "(435, 629) 1 (435, 629) 8\n",
      "(146, 520) 1 (146, 520) 5\n"
     ]
    },
    {
     "name": "stderr",
     "output_type": "stream",
     "text": [
      "\n",
      "\n",
      "2622it [00:11, 223.18it/s]\u001b[A\u001b[A\n",
      "\n",
      "2646it [00:11, 223.29it/s]\u001b[A\u001b[A"
     ]
    },
    {
     "name": "stdout",
     "output_type": "stream",
     "text": [
      "(229, 435) 1 (229, 435) 7\n",
      "(375, 403) 1 (375, 403) 4\n",
      "(54, 70) 1 (54, 70) 6\n",
      "(305, 395) 1 (305, 395) 2\n",
      "(210, 220) 1 (210, 220) 0\n",
      "(79, 215) 1 (79, 215) 6\n",
      "(165, 358) 1 (165, 358) 8\n",
      "(88, 338) 1 (88, 338) 5\n",
      "(113, 136) 1 (113, 136) 7\n"
     ]
    },
    {
     "name": "stderr",
     "output_type": "stream",
     "text": [
      "\n",
      "\n",
      "2670it [00:11, 223.18it/s]\u001b[A\u001b[A\n",
      "\n",
      "2697it [00:12, 223.51it/s]\u001b[A\u001b[A"
     ]
    },
    {
     "name": "stdout",
     "output_type": "stream",
     "text": [
      "(335, 352) 1 (335, 352) 9\n",
      "(209, 214) 1 (209, 214) 7\n",
      "(23, 146) 1 (23, 146) 7\n",
      "(199, 460) 1 (199, 460) 9\n",
      "(262, 639) 1 (262, 639) 8\n",
      "(232, 486) 1 (232, 486) 6\n",
      "(62, 124) 1 (62, 124) 7\n",
      "(297, 380) 1 (297, 380) 2\n",
      "(272, 452) 1 (272, 452) 0\n",
      "(186, 307) 1 (186, 307) 0\n",
      "(175, 205) 1 (175, 205) 3\n"
     ]
    },
    {
     "name": "stderr",
     "output_type": "stream",
     "text": [
      "\n",
      "\n",
      "2721it [00:12, 223.40it/s]\u001b[A\u001b[A\n",
      "\n",
      "2746it [00:12, 223.53it/s]\u001b[A\u001b[A"
     ]
    },
    {
     "name": "stdout",
     "output_type": "stream",
     "text": [
      "(256, 418) 1 (256, 418) 2\n",
      "(217, 380) 1 (217, 380) 5\n",
      "(137, 255) 1 (137, 255) 8\n",
      "(131, 334) 1 (131, 334) 5\n",
      "(109, 467) 1 (109, 467) 0\n",
      "(233, 387) 1 (233, 387) 5\n",
      "(246, 460) 1 (246, 460) 5\n"
     ]
    },
    {
     "name": "stderr",
     "output_type": "stream",
     "text": [
      "\n",
      "\n",
      "2770it [00:12, 223.51it/s]\u001b[A\u001b[A\n",
      "\n",
      "2795it [00:12, 223.69it/s]\u001b[A\u001b[A"
     ]
    },
    {
     "name": "stdout",
     "output_type": "stream",
     "text": [
      "(225, 310) 1 (225, 310) 2\n",
      "(94, 297) 1 (94, 297) 3\n",
      "(54, 221) 1 (54, 221) 0\n",
      "(369, 563) 1 (369, 563) 0\n",
      "(108, 521) 1 (108, 521) 5\n",
      "(214, 290) 1 (214, 290) 5\n",
      "(132, 266) 1 (132, 266) 2\n",
      "(253, 346) 1 (253, 346) 2\n",
      "(430, 460) 1 (430, 460) 4\n",
      "(150, 339) 1 (150, 339) 2\n"
     ]
    },
    {
     "name": "stderr",
     "output_type": "stream",
     "text": [
      "\n",
      "\n",
      "2819it [00:12, 223.64it/s]\u001b[A\u001b[A\n",
      "\n",
      "2843it [00:12, 223.72it/s]\u001b[A\u001b[A"
     ]
    },
    {
     "name": "stdout",
     "output_type": "stream",
     "text": [
      "(61, 635) 1 (61, 635) 7\n",
      "(125, 127) 1 (125, 127) 4\n",
      "(97, 182) 1 (97, 182) 9\n",
      "(311, 336) 1 (311, 336) 9\n",
      "(218, 332) 1 (218, 332) 3\n",
      "(441, 467) 1 (441, 467) 2\n",
      "(257, 568) 1 (257, 568) 7\n"
     ]
    },
    {
     "name": "stderr",
     "output_type": "stream",
     "text": [
      "\n",
      "\n",
      "2867it [00:12, 223.49it/s]\u001b[A\u001b[A\n",
      "\n",
      "2890it [00:12, 223.53it/s]\u001b[A\u001b[A"
     ]
    },
    {
     "name": "stdout",
     "output_type": "stream",
     "text": [
      "(422, 607) 1 (422, 607) 4\n",
      "(210, 391) 1 (210, 391) 3\n",
      "(187, 483) 1 (187, 483) 2\n",
      "(210, 543) 1 (210, 543) 5\n",
      "(374, 418) 1 (374, 418) 4\n",
      "(391, 407) 1 (391, 407) 3\n",
      "(226, 544) 1 (226, 544) 3\n",
      "(332, 544) 1 (332, 544) 4\n",
      "(208, 369) 1 (208, 369) 5\n",
      "(184, 568) 1 (184, 568) 8\n"
     ]
    },
    {
     "name": "stderr",
     "output_type": "stream",
     "text": [
      "\n",
      "\n",
      "2913it [00:13, 223.43it/s]\u001b[A\u001b[A\n",
      "\n",
      "2936it [00:13, 223.47it/s]\u001b[A\u001b[A\n",
      "\n",
      "2959it [00:13, 223.43it/s]\u001b[A\u001b[A"
     ]
    },
    {
     "name": "stdout",
     "output_type": "stream",
     "text": [
      "(70, 327) 1 (70, 327) 8\n",
      "(484, 619) 1 (484, 619) 4\n",
      "(20, 190) 1 (20, 190) 3\n",
      "(27, 553) 1 (27, 553) 2\n",
      "(137, 150) 1 (137, 150) 4\n",
      "(247, 458) 1 (247, 458) 4\n",
      "(405, 521) 1 (405, 521) 6\n",
      "(230, 293) 1 (230, 293) 9\n",
      "(158, 233) 1 (158, 233) 8\n",
      "(387, 510) 1 (387, 510) 3\n",
      "(297, 401) 1 (297, 401) 8\n",
      "(565, 571) 1 (565, 571) 2\n"
     ]
    },
    {
     "name": "stderr",
     "output_type": "stream",
     "text": [
      "\n",
      "\n",
      "2982it [00:13, 223.37it/s]\u001b[A\u001b[A\n",
      "\n",
      "3007it [00:13, 223.54it/s]\u001b[A\u001b[A"
     ]
    },
    {
     "name": "stdout",
     "output_type": "stream",
     "text": [
      "(58, 262) 1 (58, 262) 3\n",
      "(225, 539) 1 (225, 539) 7\n",
      "(144, 430) 1 (144, 430) 8\n",
      "(35, 351) 1 (35, 351) 0\n"
     ]
    },
    {
     "name": "stderr",
     "output_type": "stream",
     "text": [
      "\n",
      "\n",
      "3030it [00:13, 223.39it/s]\u001b[A\u001b[A\n",
      "\n",
      "3054it [00:13, 223.48it/s]\u001b[A\u001b[A"
     ]
    },
    {
     "name": "stdout",
     "output_type": "stream",
     "text": [
      "(420, 364) 1 (420, 364) 4\n",
      "(295, 258) 1 (295, 258) 7\n",
      "(273, 396) 1 (273, 396) 9\n",
      "(14, 531) 1 (14, 531) 9\n"
     ]
    },
    {
     "name": "stderr",
     "output_type": "stream",
     "text": [
      "\n",
      "\n",
      "3077it [00:13, 223.45it/s]\u001b[A\u001b[A\n",
      "\n",
      "3102it [00:13, 223.59it/s]\u001b[A\u001b[A\n",
      "\n",
      "3127it [00:13, 223.75it/s]\u001b[A\u001b[A"
     ]
    },
    {
     "name": "stdout",
     "output_type": "stream",
     "text": [
      "(50, 151) 1 (50, 151) 5\n",
      "(344, 199) 1 (344, 199) 7\n"
     ]
    },
    {
     "name": "stderr",
     "output_type": "stream",
     "text": [
      "\n",
      "\n",
      "3151it [00:14, 223.71it/s]\u001b[A\u001b[A\n",
      "\n",
      "3175it [00:14, 223.82it/s]\u001b[A\u001b[A\n",
      "\n",
      "3200it [00:14, 223.98it/s]\u001b[A\u001b[A\n",
      "\n",
      "3225it [00:14, 224.15it/s]\u001b[A\u001b[A\n",
      "\n",
      "3251it [00:14, 224.39it/s]\u001b[A\u001b[A\n",
      "\n",
      "3277it [00:14, 224.60it/s]\u001b[A\u001b[A"
     ]
    },
    {
     "name": "stdout",
     "output_type": "stream",
     "text": [
      "(391, 619) 1 (391, 619) 2\n",
      "(641, 509) 1 (641, 509) 3\n",
      "(48, 512) 1 (48, 512) 5\n",
      "(441, 151) 1 (441, 151) 7\n"
     ]
    },
    {
     "name": "stderr",
     "output_type": "stream",
     "text": [
      "\n",
      "\n",
      "3302it [00:14, 224.68it/s]\u001b[A\u001b[A\n",
      "\n",
      "3328it [00:14, 224.88it/s]\u001b[A\u001b[A\n",
      "\n",
      "3353it [00:14, 225.01it/s]\u001b[A\u001b[A\n",
      "\n",
      "3379it [00:15, 225.23it/s]\u001b[A\u001b[A\n",
      "\n",
      "3404it [00:15, 225.35it/s]\u001b[A\u001b[A\n",
      "\n",
      "3429it [00:15, 225.47it/s]\u001b[A\u001b[A\n",
      "\n",
      "3455it [00:15, 225.67it/s]\u001b[A\u001b[A"
     ]
    },
    {
     "name": "stdout",
     "output_type": "stream",
     "text": [
      "(569, 618) 1 (569, 618) 7\n",
      "(150, 172) 1 (150, 172) 2\n",
      "(640, 456) 1 (640, 456) 2\n"
     ]
    },
    {
     "name": "stderr",
     "output_type": "stream",
     "text": [
      "\n",
      "\n",
      "3480it [00:15, 225.72it/s]\u001b[A\u001b[A\n",
      "\n",
      "3506it [00:15, 225.94it/s]\u001b[A\u001b[A\n",
      "\n",
      "3532it [00:15, 226.14it/s]\u001b[A\u001b[A"
     ]
    },
    {
     "name": "stdout",
     "output_type": "stream",
     "text": [
      "(564, 470) 1 (564, 470) 0\n",
      "(389, 599) 1 (389, 599) 3\n",
      "(147, 390) 1 (147, 390) 8\n",
      "(472, 93) 1 (472, 93) 2\n",
      "(86, 468) 1 (86, 468) 8\n"
     ]
    },
    {
     "name": "stderr",
     "output_type": "stream",
     "text": [
      "\n",
      "\n",
      "3558it [00:15, 226.13it/s]\u001b[A\u001b[A\n",
      "\n",
      "3583it [00:15, 226.27it/s]\u001b[A\u001b[A"
     ]
    },
    {
     "name": "stdout",
     "output_type": "stream",
     "text": [
      "(64, 237) 1 (64, 237) 4\n",
      "(40, 209) 1 (40, 209) 0\n",
      "(270, 399) 1 (270, 399) 5\n"
     ]
    },
    {
     "name": "stderr",
     "output_type": "stream",
     "text": [
      "\n",
      "\n",
      "3608it [00:15, 226.31it/s]\u001b[A\u001b[A\n",
      "\n",
      "3633it [00:16, 226.42it/s]\u001b[A\u001b[A"
     ]
    },
    {
     "name": "stdout",
     "output_type": "stream",
     "text": [
      "(320, 335) 1 (320, 335) 5\n",
      "(17, 214) 1 (17, 214) 9\n",
      "(347, 113) 1 (347, 113) 8\n",
      "(174, 401) 1 (174, 401) 9\n"
     ]
    },
    {
     "name": "stderr",
     "output_type": "stream",
     "text": [
      "\n",
      "\n",
      "3658it [00:16, 226.33it/s]\u001b[A\u001b[A\n",
      "\n",
      "3682it [00:16, 226.40it/s]\u001b[A\u001b[A\n",
      "\n",
      "3708it [00:16, 226.58it/s]\u001b[A\u001b[A"
     ]
    },
    {
     "name": "stdout",
     "output_type": "stream",
     "text": [
      "(623, 325) 1 (623, 325) 4\n"
     ]
    },
    {
     "name": "stderr",
     "output_type": "stream",
     "text": [
      "\n",
      "\n",
      "3733it [00:16, 226.54it/s]\u001b[A\u001b[A\n",
      "\n",
      "3757it [00:16, 226.61it/s]\u001b[A\u001b[A\n",
      "\n",
      "3781it [00:16, 226.68it/s]\u001b[A\u001b[A\n",
      "\n",
      "3806it [00:16, 226.81it/s]\u001b[A\u001b[A"
     ]
    },
    {
     "name": "stdout",
     "output_type": "stream",
     "text": [
      "(423, 246) 1 (423, 246) 4\n",
      "(509, 531) 1 (509, 531) 2\n"
     ]
    },
    {
     "name": "stderr",
     "output_type": "stream",
     "text": [
      "\n",
      "\n",
      "3831it [00:16, 226.79it/s]\u001b[A\u001b[A\n",
      "\n",
      "3856it [00:16, 226.92it/s]\u001b[A\u001b[A\n",
      "\n",
      "3881it [00:17, 227.05it/s]\u001b[A\u001b[A\n",
      "\n",
      "3906it [00:17, 227.15it/s]\u001b[A\u001b[A"
     ]
    },
    {
     "name": "stdout",
     "output_type": "stream",
     "text": [
      "(540, 453) 1 (540, 453) 3\n"
     ]
    },
    {
     "name": "stderr",
     "output_type": "stream",
     "text": [
      "\n",
      "\n",
      "3931it [00:17, 227.12it/s]\u001b[A\u001b[A\n",
      "\n",
      "3955it [00:17, 227.18it/s]\u001b[A\u001b[A\n",
      "\n",
      "3979it [00:17, 227.24it/s]\u001b[A\u001b[A"
     ]
    },
    {
     "name": "stdout",
     "output_type": "stream",
     "text": [
      "(36, 11) 1 (36, 11) 5\n"
     ]
    },
    {
     "name": "stderr",
     "output_type": "stream",
     "text": [
      "\n",
      "\n",
      "4003it [00:17, 227.21it/s]\u001b[A\u001b[A\n",
      "\n",
      "4027it [00:17, 227.23it/s]\u001b[A\u001b[A"
     ]
    },
    {
     "name": "stdout",
     "output_type": "stream",
     "text": [
      "(92, 137) 2 (92, 137) 3\n",
      "(335, 395) 2 (335, 395) 7\n",
      "(149, 374) 2 (149, 374) 3\n",
      "(246, 345) 2 (246, 345) 4\n",
      "(126, 629) 2 (126, 629) 9\n",
      "(11, 283) 2 (11, 283) 8\n",
      "(22, 263) 2 (22, 263) 3\n",
      "(142, 398) 2 (142, 398) 0\n",
      "(191, 212) 2 (191, 212) 3\n",
      "(273, 637) 2 (273, 637) 4\n",
      "(235, 399) 2 (235, 399) 0\n"
     ]
    },
    {
     "name": "stderr",
     "output_type": "stream",
     "text": [
      "\n",
      "\n",
      "4051it [00:17, 227.27it/s]\u001b[A\u001b[A\n",
      "\n",
      "4075it [00:17, 227.31it/s]\u001b[A\u001b[A\n",
      "\n",
      "4099it [00:18, 227.35it/s]\u001b[A\u001b[A"
     ]
    },
    {
     "name": "stdout",
     "output_type": "stream",
     "text": [
      "(229, 412) 2 (229, 412) 5\n",
      "(9, 612) 2 (9, 612) 1\n",
      "(90, 460) 2 (90, 460) 5\n",
      "(95, 391) 2 (95, 391) 0\n",
      "(558, 624) 2 (558, 624) 7\n",
      "(133, 328) 2 (133, 328) 0\n",
      "(210, 474) 2 (210, 474) 9\n",
      "(161, 320) 2 (161, 320) 8\n"
     ]
    },
    {
     "name": "stderr",
     "output_type": "stream",
     "text": [
      "\n",
      "\n",
      "4123it [00:18, 227.28it/s]\u001b[A\u001b[A\n",
      "\n",
      "4150it [00:18, 227.49it/s]\u001b[A\u001b[A"
     ]
    },
    {
     "name": "stdout",
     "output_type": "stream",
     "text": [
      "(63, 421) 2 (63, 421) 3\n",
      "(88, 338) 2 (88, 338) 5\n",
      "(238, 336) 2 (238, 336) 9\n",
      "(37, 343) 2 (37, 343) 7\n",
      "(442, 543) 2 (442, 543) 6\n",
      "(155, 293) 2 (155, 293) 1\n",
      "(137, 392) 2 (137, 392) 0\n",
      "(109, 397) 2 (109, 397) 0\n",
      "(395, 529) 2 (395, 529) 8\n",
      "(155, 509) 2 (155, 509) 1\n",
      "(245, 392) 2 (245, 392) 3\n"
     ]
    },
    {
     "name": "stderr",
     "output_type": "stream",
     "text": [
      "\n",
      "\n",
      "4176it [00:18, 227.66it/s]\u001b[A\u001b[A\n",
      "\n",
      "4201it [00:18, 227.70it/s]\u001b[A\u001b[A"
     ]
    },
    {
     "name": "stdout",
     "output_type": "stream",
     "text": [
      "(264, 378) 2 (264, 378) 6\n",
      "(576, 637) 2 (576, 637) 4\n",
      "(42, 247) 2 (42, 247) 0\n",
      "(332, 460) 2 (332, 460) 3\n",
      "(374, 457) 2 (374, 457) 9\n",
      "(467, 510) 2 (467, 510) 5\n",
      "(541, 634) 2 (541, 634) 5\n",
      "(41, 301) 2 (41, 301) 5\n"
     ]
    },
    {
     "name": "stderr",
     "output_type": "stream",
     "text": [
      "\n",
      "\n",
      "4226it [00:18, 227.52it/s]\u001b[A\u001b[A\n",
      "\n",
      "4250it [00:18, 227.57it/s]\u001b[A\u001b[A"
     ]
    },
    {
     "name": "stdout",
     "output_type": "stream",
     "text": [
      "(41, 568) 2 (41, 568) 3\n",
      "(185, 187) 2 (185, 187) 6\n",
      "(346, 370) 2 (346, 370) 5\n",
      "(165, 460) 2 (165, 460) 9\n",
      "(352, 388) 2 (352, 388) 7\n",
      "(305, 346) 2 (305, 346) 7\n",
      "(113, 572) 2 (113, 572) 8\n",
      "(172, 380) 2 (172, 380) 6\n",
      "(51, 297) 2 (51, 297) 4\n"
     ]
    },
    {
     "name": "stderr",
     "output_type": "stream",
     "text": [
      "\n",
      "\n",
      "4274it [00:18, 227.58it/s]\u001b[A\u001b[A\n",
      "\n",
      "4298it [00:18, 227.59it/s]\u001b[A\u001b[A"
     ]
    },
    {
     "name": "stdout",
     "output_type": "stream",
     "text": [
      "(113, 404) 2 (113, 404) 3\n",
      "(20, 420) 2 (20, 420) 0\n",
      "(52, 101) 2 (52, 101) 0\n",
      "(265, 270) 2 (265, 270) 9\n",
      "(79, 247) 2 (79, 247) 9\n",
      "(42, 421) 2 (42, 421) 0\n"
     ]
    },
    {
     "name": "stderr",
     "output_type": "stream",
     "text": [
      "\n",
      "\n",
      "4322it [00:18, 227.48it/s]\u001b[A\u001b[A\n",
      "\n",
      "4347it [00:19, 227.59it/s]\u001b[A\u001b[A"
     ]
    },
    {
     "name": "stdout",
     "output_type": "stream",
     "text": [
      "(133, 447) 2 (133, 447) 0\n",
      "(133, 291) 2 (133, 291) 0\n",
      "(63, 635) 2 (63, 635) 1\n",
      "(42, 529) 2 (42, 529) 6\n",
      "(63, 127) 2 (63, 127) 0\n",
      "(463, 571) 2 (463, 571) 0\n",
      "(482, 561) 2 (482, 561) 6\n",
      "(108, 127) 2 (108, 127) 0\n",
      "(378, 568) 2 (378, 568) 5\n",
      "(126, 627) 2 (126, 627) 3\n"
     ]
    },
    {
     "name": "stderr",
     "output_type": "stream",
     "text": [
      "\n",
      "\n",
      "4371it [00:19, 227.52it/s]\u001b[A\u001b[A\n",
      "\n",
      "4397it [00:19, 227.65it/s]\u001b[A\u001b[A"
     ]
    },
    {
     "name": "stdout",
     "output_type": "stream",
     "text": [
      "(373, 458) 2 (373, 458) 0\n",
      "(334, 339) 2 (334, 339) 5\n",
      "(460, 626) 2 (460, 626) 1\n",
      "(167, 629) 2 (167, 629) 9\n",
      "(345, 487) 2 (345, 487) 9\n",
      "(196, 270) 2 (196, 270) 0\n",
      "(284, 457) 2 (284, 457) 8\n",
      "(142, 576) 2 (142, 576) 4\n",
      "(61, 205) 2 (61, 205) 6\n",
      "(343, 351) 2 (343, 351) 4\n"
     ]
    },
    {
     "name": "stderr",
     "output_type": "stream",
     "text": [
      "\n",
      "\n",
      "4421it [00:19, 227.46it/s]\u001b[A\u001b[A\n",
      "\n",
      "4444it [00:19, 227.40it/s]\u001b[A\u001b[A"
     ]
    },
    {
     "name": "stdout",
     "output_type": "stream",
     "text": [
      "(37, 374) 2 (37, 374) 7\n",
      "(32, 521) 2 (32, 521) 8\n",
      "(52, 138) 2 (52, 138) 5\n",
      "(26, 491) 2 (26, 491) 6\n",
      "(270, 391) 2 (270, 391) 8\n",
      "(313, 495) 2 (313, 495) 4\n"
     ]
    },
    {
     "name": "stderr",
     "output_type": "stream",
     "text": [
      "\n",
      "\n",
      "4467it [00:19, 227.21it/s]\u001b[A\u001b[A\n",
      "\n",
      "4492it [00:19, 227.29it/s]\u001b[A\u001b[A"
     ]
    },
    {
     "name": "stdout",
     "output_type": "stream",
     "text": [
      "(40, 163) 2 (40, 163) 3\n",
      "(113, 257) 2 (113, 257) 8\n",
      "(127, 333) 2 (127, 333) 9\n",
      "(278, 544) 2 (278, 544) 3\n",
      "(222, 322) 2 (222, 322) 7\n",
      "(419, 544) 2 (419, 544) 4\n",
      "(209, 544) 2 (209, 544) 7\n",
      "(92, 225) 2 (92, 225) 8\n",
      "(221, 441) 2 (221, 441) 9\n",
      "(41, 449) 2 (41, 449) 6\n",
      "(19, 126) 2 (19, 126) 1\n",
      "(183, 248) 2 (183, 248) 1\n",
      "(185, 229) 2 (185, 229) 0\n",
      "(137, 286) 2 (137, 286) 5\n"
     ]
    },
    {
     "name": "stderr",
     "output_type": "stream",
     "text": [
      "\n",
      "\n",
      "4515it [00:19, 227.27it/s]\u001b[A\u001b[A\n",
      "\n",
      "4541it [00:19, 227.43it/s]\u001b[A\u001b[A\n",
      "\n",
      "4566it [00:20, 227.52it/s]\u001b[A\u001b[A"
     ]
    },
    {
     "name": "stdout",
     "output_type": "stream",
     "text": [
      "(27, 334) 2 (27, 334) 1\n",
      "(90, 138) 2 (90, 138) 3\n",
      "(183, 433) 2 (183, 433) 7\n",
      "(149, 284) 2 (149, 284) 0\n",
      "(109, 124) 2 (109, 124) 4\n",
      "(92, 309) 2 (92, 309) 3\n",
      "(10, 475) 2 (10, 475) 9\n",
      "(10, 209) 2 (10, 209) 3\n",
      "(187, 460) 2 (187, 460) 4\n",
      "(339, 401) 2 (339, 401) 4\n",
      "(469, 592) 2 (469, 592) 1\n"
     ]
    },
    {
     "name": "stderr",
     "output_type": "stream",
     "text": [
      "\n",
      "\n",
      "4590it [00:20, 227.42it/s]\u001b[A\u001b[A\n",
      "\n",
      "4616it [00:20, 227.54it/s]\u001b[A\u001b[A"
     ]
    },
    {
     "name": "stdout",
     "output_type": "stream",
     "text": [
      "(188, 199) 2 (188, 199) 8\n",
      "(137, 415) 2 (137, 415) 7\n",
      "(8, 561) 2 (8, 561) 4\n",
      "(46, 79) 2 (46, 79) 5\n",
      "(107, 212) 2 (107, 212) 0\n",
      "(51, 349) 2 (51, 349) 3\n",
      "(155, 309) 2 (155, 309) 0\n",
      "(113, 208) 2 (113, 208) 6\n",
      "(157, 309) 2 (157, 309) 4\n"
     ]
    },
    {
     "name": "stderr",
     "output_type": "stream",
     "text": [
      "\n",
      "\n",
      "4640it [00:20, 227.48it/s]\u001b[A\u001b[A\n",
      "\n",
      "4663it [00:20, 227.41it/s]\u001b[A\u001b[A"
     ]
    },
    {
     "name": "stdout",
     "output_type": "stream",
     "text": [
      "(380, 568) 2 (380, 568) 8\n",
      "(381, 558) 2 (381, 558) 6\n",
      "(184, 370) 2 (184, 370) 4\n",
      "(172, 188) 2 (172, 188) 5\n",
      "(136, 216) 2 (136, 216) 3\n",
      "(41, 187) 2 (41, 187) 4\n",
      "(349, 474)"
     ]
    },
    {
     "name": "stderr",
     "output_type": "stream",
     "text": [
      "\n",
      "\n",
      "4686it [00:20, 227.05it/s]\u001b[A\u001b[A\n",
      "\n",
      "4707it [00:20, 226.90it/s]\u001b[A\u001b[A"
     ]
    },
    {
     "name": "stdout",
     "output_type": "stream",
     "text": [
      " 2 (349, 474) 0\n",
      "(137, 439) 2 (137, 439) 6\n",
      "(133, 380) 2 (133, 380) 9\n",
      "(373, 541) 2 (373, 541) 8\n",
      "(172, 275) 2 (172, 275) 0\n",
      "(137, 343) 2 (137, 343) 9\n",
      "(217, 395) 2 (217, 395) 3\n",
      "(428, 561) 2 (428, 561) 9\n",
      "(337, 495) 2 (337, 495) 7\n"
     ]
    },
    {
     "name": "stderr",
     "output_type": "stream",
     "text": [
      "\n",
      "\n",
      "4728it [00:20, 226.61it/s]\u001b[A\u001b[A\n",
      "\n",
      "4749it [00:20, 226.51it/s]\u001b[A\u001b[A"
     ]
    },
    {
     "name": "stdout",
     "output_type": "stream",
     "text": [
      "(172, 378) 2 (172, 378) 0\n",
      "(229, 310) 2 (229, 310) 9\n",
      "(255, 266) 2 (255, 266) 1\n",
      "(185, 199) 2 (185, 199) 4\n",
      "(334, 456) 2 (334, 456) 5\n",
      "(150, 628) 2 (150, 628) 8\n",
      "(261, 458) 2 (261, 458) 7\n",
      "(97, 246) 2 (97, 246) 9\n",
      "(595, 626) 2 (595, 626) 0\n"
     ]
    },
    {
     "name": "stderr",
     "output_type": "stream",
     "text": [
      "\n",
      "\n",
      "4773it [00:21, 226.51it/s]\u001b[A\u001b[A\n",
      "\n",
      "4794it [00:21, 226.39it/s]\u001b[A\u001b[A"
     ]
    },
    {
     "name": "stdout",
     "output_type": "stream",
     "text": [
      "(210, 235) 2 (210, 235) 1\n",
      "(295, 369) 2 (295, 369) 3\n",
      "(543, 571) 2 (543, 571) 6\n",
      "(297, 336) 2 (297, 336) 6\n",
      "(15, 389) 2 (15, 389) 5\n"
     ]
    },
    {
     "name": "stderr",
     "output_type": "stream",
     "text": [
      "\n",
      "\n",
      "4815it [00:21, 226.10it/s]\u001b[A\u001b[A\n",
      "\n",
      "4839it [00:21, 226.12it/s]\u001b[A\u001b[A\n",
      "\n",
      "4865it [00:21, 226.24it/s]\u001b[A\u001b[A"
     ]
    },
    {
     "name": "stdout",
     "output_type": "stream",
     "text": [
      "(132, 638) 2 (132, 638) 6\n",
      "(378, 438) 2 (378, 438) 3\n",
      "(257, 540) 2 (257, 540) 0\n",
      "(199, 240) 2 (199, 240) 4\n",
      "(312, 444) 2 (312, 444) 4\n",
      "(286, 332) 2 (286, 332) 4\n",
      "(214, 487) 2 (214, 487) 7\n",
      "(441, 495) 2 (441, 495) 7\n",
      "(125, 273) 2 (125, 273) 3\n",
      "(185, 387) 2 (185, 387) 7\n",
      "(91, 345) 2 (91, 345) 7\n",
      "(90, 188) 2 (90, 188) 1\n",
      "(181, 188) 2 (181, 188) 6\n"
     ]
    },
    {
     "name": "stderr",
     "output_type": "stream",
     "text": [
      "\n",
      "\n",
      "4887it [00:21, 226.11it/s]\u001b[A\u001b[A\n",
      "\n",
      "4912it [00:21, 226.18it/s]\u001b[A\u001b[A"
     ]
    },
    {
     "name": "stdout",
     "output_type": "stream",
     "text": [
      "(10, 187) 2 (10, 187) 6\n",
      "(264, 333) 2 (264, 333) 1\n",
      "(208, 369) 2 (208, 369) 5\n",
      "(371, 430) 2 (371, 430) 1\n",
      "(474, 607) 2 (474, 607) 1\n",
      "(61, 509) 2 (61, 509) 1\n",
      "(199, 460) 2 (199, 460) 9\n"
     ]
    },
    {
     "name": "stderr",
     "output_type": "stream",
     "text": [
      "\n",
      "\n",
      "4935it [00:21, 225.98it/s]\u001b[A\u001b[A\n",
      "\n",
      "4958it [00:21, 225.99it/s]\u001b[A\u001b[A"
     ]
    },
    {
     "name": "stdout",
     "output_type": "stream",
     "text": [
      "(298, 610) 2 (298, 610) 7\n",
      "(325, 512) 2 (325, 512) 9\n",
      "(248, 624) 2 (248, 624) 0\n",
      "(146, 614) 2 (146, 614) 9\n",
      "(252, 614) 2 (252, 614) 1\n",
      "(343, 391) 2 (343, 391) 6\n",
      "(113, 509) 2 (113, 509) 3\n"
     ]
    },
    {
     "name": "stderr",
     "output_type": "stream",
     "text": [
      "\n",
      "\n",
      "4980it [00:22, 225.83it/s]\u001b[A\u001b[A\n",
      "\n",
      "5003it [00:22, 225.83it/s]\u001b[A\u001b[A"
     ]
    },
    {
     "name": "stdout",
     "output_type": "stream",
     "text": [
      "(35, 297) 2 (35, 297) 7\n",
      "(388, 512) 2 (388, 512) 9\n",
      "(247, 430) 2 (247, 430) 6\n",
      "(229, 272) 2 (229, 272) 6\n",
      "(435, 629) 2 (435, 629) 8\n"
     ]
    },
    {
     "name": "stderr",
     "output_type": "stream",
     "text": [
      "\n",
      "\n",
      "5025it [00:22, 225.73it/s]\u001b[A\u001b[A\n",
      "\n",
      "5049it [00:22, 225.79it/s]\u001b[A\u001b[A"
     ]
    },
    {
     "name": "stdout",
     "output_type": "stream",
     "text": [
      "(46, 190) 2 (46, 190) 5\n"
     ]
    },
    {
     "name": "stderr",
     "output_type": "stream",
     "text": [
      "\n",
      "\n",
      "5073it [00:22, 225.84it/s]\u001b[A\u001b[A\n",
      "\n",
      "5097it [00:22, 225.91it/s]\u001b[A\u001b[A"
     ]
    },
    {
     "name": "stdout",
     "output_type": "stream",
     "text": [
      "(263, 583) 2 (263, 583) 8\n",
      "(425, 301) 2 (425, 301) 6\n",
      "(539, 353) 2 (539, 353) 8\n"
     ]
    },
    {
     "name": "stderr",
     "output_type": "stream",
     "text": [
      "\n",
      "\n",
      "5121it [00:22, 225.95it/s]\u001b[A\u001b[A\n",
      "\n",
      "5146it [00:22, 226.04it/s]\u001b[A\u001b[A\n",
      "\n",
      "5172it [00:22, 226.16it/s]\u001b[A\u001b[A"
     ]
    },
    {
     "name": "stdout",
     "output_type": "stream",
     "text": [
      "(351, 562) 2 (351, 562) 0\n",
      "(179, 263) 2 (179, 263) 0\n"
     ]
    },
    {
     "name": "stderr",
     "output_type": "stream",
     "text": [
      "\n",
      "\n",
      "5197it [00:22, 226.11it/s]\u001b[A\u001b[A\n",
      "\n",
      "5222it [00:23, 226.19it/s]\u001b[A\u001b[A\n",
      "\n",
      "5247it [00:23, 226.27it/s]\u001b[A\u001b[A\n",
      "\n",
      "5272it [00:23, 226.37it/s]\u001b[A\u001b[A"
     ]
    },
    {
     "name": "stdout",
     "output_type": "stream",
     "text": [
      "(496, 204) 2 (496, 204) 7\n",
      "(91, 185) 2 (91, 185) 1\n"
     ]
    },
    {
     "name": "stderr",
     "output_type": "stream",
     "text": [
      "\n",
      "\n",
      "5297it [00:23, 226.37it/s]\u001b[A\u001b[A\n",
      "\n",
      "5323it [00:23, 226.50it/s]\u001b[A\u001b[A\n",
      "\n",
      "5348it [00:23, 226.58it/s]\u001b[A\u001b[A"
     ]
    },
    {
     "name": "stdout",
     "output_type": "stream",
     "text": [
      "(181, 358) 2 (181, 358) 6\n",
      "(396, 409) 2 (396, 409) 8\n",
      "(24, 481) 2 (24, 481) 1\n"
     ]
    },
    {
     "name": "stderr",
     "output_type": "stream",
     "text": [
      "\n",
      "\n",
      "5373it [00:23, 226.55it/s]\u001b[A\u001b[A\n",
      "\n",
      "5399it [00:23, 226.67it/s]\u001b[A\u001b[A\n",
      "\n",
      "5424it [00:23, 226.65it/s]\u001b[A\u001b[A\n",
      "\n",
      "5449it [00:24, 226.72it/s]\u001b[A\u001b[A\n",
      "\n",
      "5474it [00:24, 226.78it/s]\u001b[A\u001b[A"
     ]
    },
    {
     "name": "stdout",
     "output_type": "stream",
     "text": [
      "(128, 218) 2 (128, 218) 7\n",
      "(480, 506) 2 (480, 506) 8\n",
      "(365, 460) 2 (365, 460) 1\n",
      "(352, 544) 2 (352, 544) 1\n"
     ]
    },
    {
     "name": "stderr",
     "output_type": "stream",
     "text": [
      "\n",
      "\n",
      "5499it [00:24, 226.84it/s]\u001b[A\u001b[A\n",
      "\n",
      "5525it [00:24, 226.96it/s]\u001b[A\u001b[A\n",
      "\n",
      "5550it [00:24, 226.99it/s]\u001b[A\u001b[A"
     ]
    },
    {
     "name": "stdout",
     "output_type": "stream",
     "text": [
      "(111, 139) 2 (111, 139) 0\n",
      "(88, 13) 2 (88, 13) 0\n",
      "(158, 477) 2 (158, 477) 6\n"
     ]
    },
    {
     "name": "stderr",
     "output_type": "stream",
     "text": [
      "\n",
      "\n",
      "5575it [00:24, 226.99it/s]\u001b[A\u001b[A\n",
      "\n",
      "5599it [00:24, 227.04it/s]\u001b[A\u001b[A\n",
      "\n",
      "5624it [00:24, 227.09it/s]\u001b[A\u001b[A"
     ]
    },
    {
     "name": "stdout",
     "output_type": "stream",
     "text": [
      "(254, 296) 2 (254, 296) 6\n",
      "(140, 590) 2 (140, 590) 9\n"
     ]
    },
    {
     "name": "stderr",
     "output_type": "stream",
     "text": [
      "\n",
      "\n",
      "5648it [00:24, 227.09it/s]\u001b[A\u001b[A\n",
      "\n",
      "5672it [00:24, 227.14it/s]\u001b[A\u001b[A\n",
      "\n",
      "5697it [00:25, 227.22it/s]\u001b[A\u001b[A\n",
      "\n",
      "5723it [00:25, 227.32it/s]\u001b[A\u001b[A"
     ]
    },
    {
     "name": "stdout",
     "output_type": "stream",
     "text": [
      "(267, 621) 2 (267, 621) 7\n",
      "(48, 366) 2 (48, 366) 5\n",
      "(82, 118) 2 (82, 118) 3\n"
     ]
    },
    {
     "name": "stderr",
     "output_type": "stream",
     "text": [
      "\n",
      "\n",
      "5748it [00:25, 227.34it/s]\u001b[A\u001b[A\n",
      "\n",
      "5773it [00:25, 227.41it/s]\u001b[A\u001b[A"
     ]
    },
    {
     "name": "stdout",
     "output_type": "stream",
     "text": [
      "(571, 601) 2 (571, 601) 5\n",
      "(43, 77) 2 (43, 77) 7\n"
     ]
    },
    {
     "name": "stderr",
     "output_type": "stream",
     "text": [
      "\n",
      "\n",
      "5798it [00:25, 227.43it/s]\u001b[A\u001b[A\n",
      "\n",
      "5823it [00:25, 227.50it/s]\u001b[A\u001b[A\n",
      "\n",
      "5848it [00:25, 227.58it/s]\u001b[A\u001b[A\n",
      "\n",
      "5873it [00:25, 227.66it/s]\u001b[A\u001b[A"
     ]
    },
    {
     "name": "stdout",
     "output_type": "stream",
     "text": [
      "(350, 567) 2 (350, 567) 6\n"
     ]
    },
    {
     "name": "stderr",
     "output_type": "stream",
     "text": [
      "\n",
      "\n",
      "5898it [00:25, 227.60it/s]\u001b[A\u001b[A\n",
      "\n",
      "5924it [00:26, 227.70it/s]\u001b[A\u001b[A"
     ]
    },
    {
     "name": "stdout",
     "output_type": "stream",
     "text": [
      "(285, 535) 2 (285, 535) 9\n",
      "(195, 343) 2 (195, 343) 4\n"
     ]
    },
    {
     "name": "stderr",
     "output_type": "stream",
     "text": [
      "\n",
      "\n",
      "5949it [00:26, 227.67it/s]\u001b[A\u001b[A\n",
      "\n",
      "5975it [00:26, 227.77it/s]\u001b[A\u001b[A\n",
      "\n",
      "6001it [00:26, 227.87it/s]\u001b[A\u001b[A\n",
      "\n",
      "6026it [00:26, 227.89it/s]\u001b[A\u001b[A"
     ]
    },
    {
     "name": "stdout",
     "output_type": "stream",
     "text": [
      "(94, 568) 3 (94, 568) 4\n",
      "(186, 365) 3 (186, 365) 1\n",
      "(228, 261) 3 (228, 261) 2\n",
      "(132, 505) 3 (132, 505) 7\n",
      "(37, 67) 3 (37, 67) 5\n",
      "(401, 410) 3 (401, 410) 4\n",
      "(444, 484) 3 (444, 484) 8\n",
      "(66, 221) 3 (66, 221) 2\n",
      "(94, 146) 3 (94, 146) 0\n"
     ]
    },
    {
     "name": "stderr",
     "output_type": "stream",
     "text": [
      "\n",
      "\n",
      "6051it [00:26, 227.96it/s]\u001b[A\u001b[A\n",
      "\n",
      "6076it [00:26, 228.02it/s]\u001b[A\u001b[A\n",
      "\n",
      "6101it [00:26, 228.07it/s]\u001b[A\u001b[A"
     ]
    },
    {
     "name": "stdout",
     "output_type": "stream",
     "text": [
      "(164, 531) 3 (164, 531) 2\n",
      "(80, 184) 3 (80, 184) 4\n",
      "(142, 374) 3 (142, 374) 5\n",
      "(237, 484) 3 (237, 484) 2\n"
     ]
    },
    {
     "name": "stderr",
     "output_type": "stream",
     "text": [
      "\n",
      "\n",
      "6126it [00:26, 227.89it/s]\u001b[A\u001b[A\n",
      "\n",
      "6149it [00:26, 227.88it/s]\u001b[A\u001b[A"
     ]
    },
    {
     "name": "stdout",
     "output_type": "stream",
     "text": [
      "(209, 303) 3 (209, 303) 8\n",
      "(297, 594) 3 (297, 594) 0\n",
      "(10, 502) 3 (10, 502) 9\n",
      "(11, 235) 3 (11, 235) 0\n",
      "(45, 149) 3 (45, 149) 8\n"
     ]
    },
    {
     "name": "stderr",
     "output_type": "stream",
     "text": [
      "\n",
      "\n",
      "6172it [00:27, 227.74it/s]\u001b[A\u001b[A\n",
      "\n",
      "6197it [00:27, 227.82it/s]\u001b[A\u001b[A"
     ]
    },
    {
     "name": "stdout",
     "output_type": "stream",
     "text": [
      "(149, 383) 3 (149, 383) 2\n",
      "(108, 186) 3 (108, 186) 4\n",
      "(32, 294) 3 (32, 294) 9\n",
      "(179, 407) 3 (179, 407) 4\n",
      "(108, 570) 3 (108, 570) 9\n",
      "(310, 429) 3 (310, 429) 4\n",
      "(41, 76) 3 (41, 76) 9\n",
      "(209, 490) 3 (209, 490) 8\n",
      "(337, 636) 3 (337, 636) 2\n",
      "(149, 571) 3 (149, 571) 7\n",
      "(295, 346) 3 (295, 346) 1\n"
     ]
    },
    {
     "name": "stderr",
     "output_type": "stream",
     "text": [
      "\n",
      "\n",
      "6220it [00:27, 227.75it/s]\u001b[A\u001b[A\n",
      "\n",
      "6244it [00:27, 227.80it/s]\u001b[A\u001b[A"
     ]
    },
    {
     "name": "stdout",
     "output_type": "stream",
     "text": [
      "(109, 332) 3 (109, 332) 7\n",
      "(51, 575) 3 (51, 575) 1\n",
      "(166, 345) 3 (166, 345) 6\n",
      "(448, 642) 3 (448, 642) 7\n",
      "(308, 635) 3 (308, 635) 7\n",
      "(157, 416) 3 (157, 416) 2\n",
      "(572, 612) 3 (572, 612) 8\n",
      "(264, 521) 3 (264, 521) 6\n",
      "(52, 548) 3 (52, 548) 5\n",
      "(273, 401) 3 (273, 401) 2\n"
     ]
    },
    {
     "name": "stderr",
     "output_type": "stream",
     "text": [
      "\n",
      "\n",
      "6267it [00:27, 227.66it/s]\u001b[A\u001b[A\n",
      "\n",
      "6292it [00:27, 227.72it/s]\u001b[A\u001b[A\n",
      "\n",
      "6315it [00:27, 227.68it/s]\u001b[A\u001b[A"
     ]
    },
    {
     "name": "stdout",
     "output_type": "stream",
     "text": [
      "(108, 225) 3 (108, 225) 1\n",
      "(400, 457) 3 (400, 457) 8\n",
      "(11, 278) 3 (11, 278) 4\n",
      "(64, 407) 3 (64, 407) 5\n",
      "(297, 378) 3 (297, 378) 8\n",
      "(337, 395) 3 (337, 395) 9\n",
      "(146, 458) 3 (146, 458) 8\n"
     ]
    },
    {
     "name": "stderr",
     "output_type": "stream",
     "text": [
      "\n",
      "\n",
      "6338it [00:27, 227.64it/s]\u001b[A\u001b[A\n",
      "\n",
      "6361it [00:27, 227.52it/s]\u001b[A\u001b[A"
     ]
    },
    {
     "name": "stdout",
     "output_type": "stream",
     "text": [
      "(63, 403) 3 (63, 403) 9\n",
      "(208, 352) 3 (208, 352) 7\n",
      "(146, 411) 3 (146, 411) 2\n",
      "(415, 486) 3 (415, 486) 4\n",
      "(83, 634) 3 (83, 634) 1\n",
      "(101, 290) 3 (101, 290) 8\n",
      "(133, 433) 3 (133, 433) 4\n",
      "(22, 284) 3 (22, 284) 4\n",
      "(52, 401) 3 (52, 401) 9\n"
     ]
    },
    {
     "name": "stderr",
     "output_type": "stream",
     "text": [
      "\n",
      "\n",
      "6383it [00:28, 227.49it/s]\u001b[A\u001b[A\n",
      "\n",
      "6405it [00:28, 227.45it/s]\u001b[A\u001b[A\n",
      "\n",
      "6432it [00:28, 227.57it/s]\u001b[A\u001b[A"
     ]
    },
    {
     "name": "stdout",
     "output_type": "stream",
     "text": [
      "(395, 401) 3 (395, 401) 4\n",
      "(63, 575) 3 (63, 575) 9\n",
      "(63, 309) 3 (63, 309) 5\n",
      "(318, 374) 3 (318, 374) 0\n",
      "(149, 395) 3 (149, 395) 1\n",
      "(108, 302) 3 (108, 302) 2\n",
      "(484, 540) 3 (484, 540) 1\n",
      "(127, 349) 3 (127, 349) 5\n",
      "(336, 512) 3 (336, 512) 5\n",
      "(62, 392) 3 (62, 392) 7\n"
     ]
    },
    {
     "name": "stderr",
     "output_type": "stream",
     "text": [
      "\n",
      "\n",
      "6455it [00:28, 227.50it/s]\u001b[A\u001b[A\n",
      "\n",
      "6480it [00:28, 227.57it/s]\u001b[A\u001b[A"
     ]
    },
    {
     "name": "stdout",
     "output_type": "stream",
     "text": [
      "(305, 343) 3 (305, 343) 9\n",
      "(113, 563) 3 (113, 563) 8\n",
      "(338, 592) 3 (338, 592) 9\n",
      "(401, 544) 3 (401, 544) 5\n",
      "(274, 380) 3 (274, 380) 1\n",
      "(233, 420) 3 (233, 420) 5\n",
      "(61, 262) 3 (61, 262) 7\n",
      "(247, 272) 3 (247, 272) 4\n",
      "(146, 383) 3 (146, 383) 2\n"
     ]
    },
    {
     "name": "stderr",
     "output_type": "stream",
     "text": [
      "\n",
      "\n",
      "6504it [00:28, 227.54it/s]\u001b[A\u001b[A\n",
      "\n",
      "6527it [00:28, 227.51it/s]\u001b[A\u001b[A"
     ]
    },
    {
     "name": "stdout",
     "output_type": "stream",
     "text": [
      "(109, 492) 3 (109, 492) 6\n",
      "(146, 164) 3 (146, 164) 8\n",
      "(346, 380) 3 (346, 380) 2\n",
      "(120, 137) 3 (120, 137) 9\n",
      "(127, 533) 3 (127, 533) 2\n"
     ]
    },
    {
     "name": "stderr",
     "output_type": "stream",
     "text": [
      "\n",
      "\n",
      "6550it [00:28, 227.35it/s]\u001b[A\u001b[A\n",
      "\n",
      "6572it [00:28, 227.19it/s]\u001b[A\u001b[A"
     ]
    },
    {
     "name": "stdout",
     "output_type": "stream",
     "text": [
      "(20, 108) 3 (20, 108) 1\n",
      "(392, 430) 3 (392, 430) 0\n",
      "(188, 374) 3 (188, 374) 4\n",
      "(205, 447) 3 (205, 447) 0\n",
      "(131, 348) 3 (131, 348) 2\n",
      "(352, 592) 3 (352, 592) 0\n",
      "(132, 137) 3 (132, 137) 9\n"
     ]
    },
    {
     "name": "stderr",
     "output_type": "stream",
     "text": [
      "\n",
      "\n",
      "6593it [00:29, 226.94it/s]\u001b[A\u001b[A\n",
      "\n",
      "6613it [00:29, 226.80it/s]\u001b[A\u001b[A"
     ]
    },
    {
     "name": "stdout",
     "output_type": "stream",
     "text": [
      "(137, 150) 3 (137, 150) 4\n",
      "(42, 256) 3 (42, 256) 9\n",
      "(106, 212) 3 (106, 212) 8\n",
      "(275, 389) 3 (275, 389) 0\n",
      "(424, 473) 3 (424, 473) 5\n",
      "(150, 374) 3 (150, 374) 4\n",
      "(2, 449) 3 (2, 449) 6\n",
      "(21, 157) 3 (21, 157) 1\n",
      "(328, 478) 3 (328, 478) 4\n"
     ]
    },
    {
     "name": "stderr",
     "output_type": "stream",
     "text": [
      "\n",
      "\n",
      "6634it [00:29, 226.74it/s]\u001b[A\u001b[A\n",
      "\n",
      "6659it [00:29, 226.79it/s]\u001b[A\u001b[A"
     ]
    },
    {
     "name": "stdout",
     "output_type": "stream",
     "text": [
      "(107, 262) 3 (107, 262) 7\n",
      "(265, 461) 3 (265, 461) 4\n",
      "(225, 523) 3 (225, 523) 4\n",
      "(131, 429) 3 (131, 429) 1\n",
      "(240, 462) 3 (240, 462) 4\n",
      "(44, 149) 3 (44, 149) 8\n",
      "(221, 334) 3 (221, 334) 4\n",
      "(203, 210) 3 (203, 210) 1\n",
      "(379, 531) 3 (379, 531) 7\n",
      "(200, 246) 3 (200, 246) 5\n"
     ]
    },
    {
     "name": "stderr",
     "output_type": "stream",
     "text": [
      "\n",
      "\n",
      "6681it [00:29, 226.72it/s]\u001b[A\u001b[A\n",
      "\n",
      "6706it [00:29, 226.77it/s]\u001b[A\u001b[A"
     ]
    },
    {
     "name": "stdout",
     "output_type": "stream",
     "text": [
      "(94, 397) 3 (94, 397) 4\n",
      "(23, 183) 3 (23, 183) 9\n",
      "(190, 444) 3 (190, 444) 7\n",
      "(293, 307) 3 (293, 307) 1\n",
      "(157, 215) 3 (157, 215) 9\n",
      "(51, 568) 3 (51, 568) 5\n",
      "(217, 228) 3 (217, 228) 7\n",
      "(2, 213) 3 (2, 213) 0\n",
      "(222, 305) 3 (222, 305) 7\n"
     ]
    },
    {
     "name": "stderr",
     "output_type": "stream",
     "text": [
      "\n",
      "\n",
      "6728it [00:29, 226.71it/s]\u001b[A\u001b[A\n",
      "\n",
      "6753it [00:29, 226.78it/s]\u001b[A\u001b[A"
     ]
    },
    {
     "name": "stdout",
     "output_type": "stream",
     "text": [
      "(389, 568) 3 (389, 568) 8\n",
      "(172, 352) 3 (172, 352) 0\n",
      "(90, 297) 3 (90, 297) 9\n",
      "(286, 392) 3 (286, 392) 1\n",
      "(42, 413) 3 (42, 413) 0\n",
      "(262, 461) 3 (262, 461) 0\n"
     ]
    },
    {
     "name": "stderr",
     "output_type": "stream",
     "text": [
      "\n",
      "\n",
      "6778it [00:29, 226.82it/s]\u001b[A\u001b[A\n",
      "\n",
      "6802it [00:29, 226.86it/s]\u001b[A\u001b[A"
     ]
    },
    {
     "name": "stdout",
     "output_type": "stream",
     "text": [
      "(149, 352) 3 (149, 352) 4\n",
      "(233, 401) 3 (233, 401) 1\n",
      "(30, 37) 3 (30, 37) 1\n",
      "(64, 217) 3 (64, 217) 8\n",
      "(17, 559) 3 (17, 559) 0\n",
      "(281, 334) 3 (281, 334) 7\n",
      "(61, 628) 3 (61, 628) 0\n",
      "(37, 126) 3 (37, 126) 5\n",
      "(305, 512) 3 (305, 512) 5\n"
     ]
    },
    {
     "name": "stderr",
     "output_type": "stream",
     "text": [
      "\n",
      "\n",
      "6826it [00:30, 226.88it/s]\u001b[A\u001b[A\n",
      "\n",
      "6851it [00:30, 226.93it/s]\u001b[A\u001b[A\n",
      "\n",
      "6876it [00:30, 226.99it/s]"
     ]
    },
    {
     "name": "stdout",
     "output_type": "stream",
     "text": [
      "(221, 556) 3 (221, 556) 6\n",
      "(374, 430) 3 (374, 430) 1\n",
      "(398, 415) 3 (398, 415) 8\n",
      "(134, 401) 3 (134, 401) 8\n",
      "(230, 273) 3 (230, 273) 2\n",
      "(2, 407) 3 (2, 407) 9\n",
      "(100, 270) 3 (100, 270) 2\n"
     ]
    },
    {
     "name": "stderr",
     "output_type": "stream",
     "text": [
      "\u001b[A\u001b[A\n",
      "\n",
      "6900it [00:30, 227.01it/s]\u001b[A\u001b[A\n",
      "\n",
      "6928it [00:30, 227.17it/s]\u001b[A\u001b[A"
     ]
    },
    {
     "name": "stdout",
     "output_type": "stream",
     "text": [
      "(16, 456) 3 (16, 456) 9\n",
      "(134, 190) 3 (134, 190) 4\n",
      "(149, 421) 3 (149, 421) 5\n",
      "(10, 95) 3 (10, 95) 0\n",
      "(158, 435) 3 (158, 435) 2\n",
      "(58, 272) 3 (58, 272) 4\n",
      "(184, 264) 3 (184, 264) 0\n",
      "(264, 405) 3 (264, 405) 1\n",
      "(157, 418) 3 (157, 418) 4\n",
      "(126, 144) 3 (126, 144) 2\n",
      "(183, 371) 3 (183, 371) 1\n"
     ]
    },
    {
     "name": "stderr",
     "output_type": "stream",
     "text": [
      "\n",
      "\n",
      "6953it [00:30, 227.14it/s]\u001b[A\u001b[A\n",
      "\n",
      "6977it [00:30, 227.15it/s]\u001b[A\u001b[A"
     ]
    },
    {
     "name": "stdout",
     "output_type": "stream",
     "text": [
      "(128, 442) 3 (128, 442) 2\n",
      "(289, 374) 3 (289, 374) 7\n",
      "(233, 463) 3 (233, 463) 7\n",
      "(32, 97) 3 (32, 97) 1\n",
      "(128, 139) 3 (128, 139) 5\n",
      "(61, 368) 3 (61, 368) 9\n",
      "(109, 467) 3 (109, 467) 0\n",
      "(339, 371) 3 (339, 371) 1\n"
     ]
    },
    {
     "name": "stderr",
     "output_type": "stream",
     "text": [
      "\n",
      "\n",
      "7001it [00:30, 227.05it/s]\u001b[A\u001b[A\n",
      "\n",
      "7026it [00:30, 227.10it/s]\u001b[A\u001b[A"
     ]
    },
    {
     "name": "stdout",
     "output_type": "stream",
     "text": [
      "(90, 188) 3 (90, 188) 1\n",
      "(94, 400) 3 (94, 400) 7\n",
      "(105, 220) 3 (105, 220) 2\n"
     ]
    },
    {
     "name": "stderr",
     "output_type": "stream",
     "text": [
      "\n",
      "\n",
      "7050it [00:31, 227.02it/s]\u001b[A\u001b[A\n",
      "\n",
      "7074it [00:31, 227.06it/s]\u001b[A\u001b[A"
     ]
    },
    {
     "name": "stdout",
     "output_type": "stream",
     "text": [
      "(351, 594) 3 (351, 594) 7\n",
      "(290, 358) 3 (290, 358) 2\n",
      "(474, 607) 3 (474, 607) 1\n"
     ]
    },
    {
     "name": "stderr",
     "output_type": "stream",
     "text": [
      "\n",
      "\n",
      "7098it [00:31, 227.05it/s]\u001b[A\u001b[A\n",
      "\n",
      "7123it [00:31, 227.11it/s]\u001b[A\u001b[A\n",
      "\n",
      "7149it [00:31, 227.20it/s]\u001b[A\u001b[A\n",
      "\n",
      "7174it [00:31, 227.26it/s]\u001b[A\u001b[A"
     ]
    },
    {
     "name": "stdout",
     "output_type": "stream",
     "text": [
      "(479, 211) 3 (479, 211) 0\n",
      "(20, 234) 3 (20, 234) 8\n",
      "(124, 392) 3 (124, 392) 9\n"
     ]
    },
    {
     "name": "stderr",
     "output_type": "stream",
     "text": [
      "\n",
      "\n",
      "7199it [00:31, 227.22it/s]\u001b[A\u001b[A\n",
      "\n",
      "7223it [00:31, 227.26it/s]\u001b[A\u001b[A\n",
      "\n",
      "7247it [00:31, 227.28it/s]\u001b[A\u001b[A"
     ]
    },
    {
     "name": "stdout",
     "output_type": "stream",
     "text": [
      "(401, 572) 3 (401, 572) 6\n"
     ]
    },
    {
     "name": "stderr",
     "output_type": "stream",
     "text": [
      "\n",
      "\n",
      "7271it [00:31, 227.22it/s]\u001b[A\u001b[A\n",
      "\n",
      "7295it [00:32, 227.25it/s]\u001b[A\u001b[A\n",
      "\n",
      "7320it [00:32, 227.32it/s]\u001b[A\u001b[A\n",
      "\n",
      "7344it [00:32, 227.36it/s]\u001b[A\u001b[A\n",
      "\n",
      "7370it [00:32, 227.43it/s]\u001b[A\u001b[A\n",
      "\n",
      "7396it [00:32, 227.52it/s]\u001b[A\u001b[A\n",
      "\n",
      "7422it [00:32, 227.60it/s]\u001b[A\u001b[A\n",
      "\n",
      "7448it [00:32, 227.68it/s]\u001b[A\u001b[A"
     ]
    },
    {
     "name": "stdout",
     "output_type": "stream",
     "text": [
      "(544, 385) 3 (544, 385) 4\n",
      "(312, 478) 3 (312, 478) 2\n",
      "(422, 168) 3 (422, 168) 4\n"
     ]
    },
    {
     "name": "stderr",
     "output_type": "stream",
     "text": [
      "\n",
      "\n",
      "7473it [00:32, 227.71it/s]\u001b[A\u001b[A\n",
      "\n",
      "7498it [00:32, 227.62it/s]\u001b[A\u001b[A\n",
      "\n",
      "7523it [00:33, 227.69it/s]\u001b[A\u001b[A"
     ]
    },
    {
     "name": "stdout",
     "output_type": "stream",
     "text": [
      "(53, 541) 3 (53, 541) 4\n",
      "(258, 261) 3 (258, 261) 7\n",
      "(82, 523) 3 (82, 523) 7\n",
      "(414, 502) 3 (414, 502) 9\n"
     ]
    },
    {
     "name": "stderr",
     "output_type": "stream",
     "text": [
      "\n",
      "\n",
      "7547it [00:33, 227.68it/s]\u001b[A\u001b[A\n",
      "\n",
      "7573it [00:33, 227.78it/s]\u001b[A\u001b[A"
     ]
    },
    {
     "name": "stdout",
     "output_type": "stream",
     "text": [
      "(72, 307) 3 (72, 307) 2\n"
     ]
    },
    {
     "name": "stderr",
     "output_type": "stream",
     "text": [
      "\n",
      "\n",
      "7598it [00:33, 227.79it/s]\u001b[A\u001b[A\n",
      "\n",
      "7623it [00:33, 227.76it/s]\u001b[A\u001b[A\n",
      "\n",
      "7647it [00:33, 227.78it/s]\u001b[A\u001b[A"
     ]
    },
    {
     "name": "stdout",
     "output_type": "stream",
     "text": [
      "(292, 96) 3 (292, 96) 6\n"
     ]
    },
    {
     "name": "stderr",
     "output_type": "stream",
     "text": [
      "\n",
      "\n",
      "7671it [00:33, 227.74it/s]\u001b[A\u001b[A\n",
      "\n",
      "7696it [00:33, 227.81it/s]\u001b[A\u001b[A\n",
      "\n",
      "7722it [00:33, 227.88it/s]\u001b[A\u001b[A"
     ]
    },
    {
     "name": "stdout",
     "output_type": "stream",
     "text": [
      "(272, 470) 3 (272, 470) 6\n",
      "(256, 131) 3 (256, 131) 1\n"
     ]
    },
    {
     "name": "stderr",
     "output_type": "stream",
     "text": [
      "\n",
      "\n",
      "7747it [00:34, 227.82it/s]\u001b[A\u001b[A\n",
      "\n",
      "7771it [00:34, 227.73it/s]\u001b[A\u001b[A\n",
      "\n",
      "7795it [00:34, 227.75it/s]\u001b[A\u001b[A"
     ]
    },
    {
     "name": "stdout",
     "output_type": "stream",
     "text": [
      "(132, 619) 3 (132, 619) 8\n",
      "(130, 319) 3 (130, 319) 2\n",
      "(285, 535) 3 (285, 535) 9\n"
     ]
    },
    {
     "name": "stderr",
     "output_type": "stream",
     "text": [
      "\n",
      "\n",
      "7818it [00:34, 227.73it/s]\u001b[A\u001b[A\n",
      "\n",
      "7841it [00:34, 227.68it/s]\u001b[A\u001b[A"
     ]
    },
    {
     "name": "stdout",
     "output_type": "stream",
     "text": [
      "(6, 104) 3 (6, 104) 6\n",
      "(383, 456) 3 (383, 456) 1\n",
      "(533, 127) 3 (533, 127) 1\n",
      "(297, 106) 3 (297, 106) 7\n"
     ]
    },
    {
     "name": "stderr",
     "output_type": "stream",
     "text": [
      "\n",
      "\n",
      "7865it [00:34, 227.69it/s]\u001b[A\u001b[A\n",
      "\n",
      "7888it [00:34, 227.69it/s]\u001b[A\u001b[A\n",
      "\n",
      "7911it [00:34, 227.59it/s]\u001b[A\u001b[A\n",
      "\n",
      "7933it [00:34, 227.42it/s]\u001b[A\u001b[A"
     ]
    },
    {
     "name": "stdout",
     "output_type": "stream",
     "text": [
      "(134, 534) 3 (134, 534) 4\n",
      "(53, 204) 3 (53, 204) 8\n"
     ]
    },
    {
     "name": "stderr",
     "output_type": "stream",
     "text": [
      "\n",
      "\n",
      "7954it [00:35, 227.16it/s]\u001b[A\u001b[A\n",
      "\n",
      "7974it [00:35, 226.97it/s]\u001b[A\u001b[A"
     ]
    },
    {
     "name": "stdout",
     "output_type": "stream",
     "text": [
      "(34, 546) 3 (34, 546) 8\n",
      "(162, 168) 3 (162, 168) 1\n"
     ]
    },
    {
     "name": "stderr",
     "output_type": "stream",
     "text": [
      "\n",
      "\n",
      "7993it [00:35, 226.75it/s]\u001b[A\u001b[A\n",
      "\n",
      "8011it [00:35, 226.60it/s]\u001b[A\u001b[A\n",
      "\n",
      "8029it [00:35, 226.44it/s]\u001b[A\u001b[A"
     ]
    },
    {
     "name": "stdout",
     "output_type": "stream",
     "text": [
      "(329, 342) 3 (329, 342) 5\n",
      "(42, 448) 4 (42, 448) 3\n",
      "(337, 561) 4 (337, 561) 3\n",
      "(351, 575) 4 (351, 575) 3\n",
      "(41, 519) 4 (41, 519) 2\n",
      "(136, 463) 4 (136, 463) 8\n",
      "(22, 556) 4 (22, 556) 6\n"
     ]
    },
    {
     "name": "stderr",
     "output_type": "stream",
     "text": [
      "\n",
      "\n",
      "8047it [00:35, 226.28it/s]\u001b[A\u001b[A\n",
      "\n",
      "8065it [00:35, 226.10it/s]\u001b[A\u001b[A"
     ]
    },
    {
     "name": "stdout",
     "output_type": "stream",
     "text": [
      "(401, 575) 4 (401, 575) 1\n",
      "(51, 157) 4 (51, 157) 1\n",
      "(395, 492) 4 (395, 492) 2\n",
      "(225, 380) 4 (225, 380) 8\n",
      "(416, 624) 4 (416, 624) 1\n",
      "(125, 220) 4 (125, 220) 8\n",
      "(185, 592) 4 (185, 592) 0\n",
      "(126, 365) 4 (126, 365) 3\n",
      "(264, 534) 4 (264, 534) 2\n"
     ]
    },
    {
     "name": "stderr",
     "output_type": "stream",
     "text": [
      "\n",
      "\n",
      "8083it [00:35, 225.87it/s]\u001b[A\u001b[A\n",
      "\n",
      "8101it [00:35, 225.75it/s]\u001b[A\u001b[A"
     ]
    },
    {
     "name": "stdout",
     "output_type": "stream",
     "text": [
      "(146, 264) 4 (146, 264) 1\n",
      "(132, 419) 4 (132, 419) 6\n",
      "(97, 131) 4 (97, 131) 7\n",
      "(427, 512) 4 (427, 512) 7\n",
      "(180, 318) 4 (180, 318) 3\n",
      "(7, 565) 4 (7, 565) 0\n",
      "(228, 474) 4 (228, 474) 2\n",
      "(94, 98) 4 (94, 98) 6\n"
     ]
    },
    {
     "name": "stderr",
     "output_type": "stream",
     "text": [
      "\n",
      "\n",
      "8119it [00:36, 225.47it/s]\u001b[A\u001b[A\n",
      "\n",
      "8141it [00:36, 225.44it/s]\u001b[A\u001b[A\n",
      "\n",
      "8167it [00:36, 225.52it/s]\u001b[A\u001b[A"
     ]
    },
    {
     "name": "stdout",
     "output_type": "stream",
     "text": [
      "(10, 479) 4 (10, 479) 9\n",
      "(139, 459) 4 (139, 459) 9\n",
      "(127, 210) 4 (127, 210) 8\n",
      "(70, 133) 4 (70, 133) 7\n",
      "(320, 378) 4 (320, 378) 0\n",
      "(37, 419) 4 (37, 419) 0\n",
      "(256, 418) 4 (256, 418) 2\n",
      "(188, 213) 4 (188, 213) 6\n"
     ]
    },
    {
     "name": "stderr",
     "output_type": "stream",
     "text": [
      "\n",
      "\n",
      "8190it [00:36, 225.51it/s]\u001b[A\u001b[A\n",
      "\n",
      "8213it [00:36, 225.51it/s]\u001b[A\u001b[A"
     ]
    },
    {
     "name": "stdout",
     "output_type": "stream",
     "text": [
      "(294, 335) 4 (294, 335) 7\n",
      "(144, 163) 4 (144, 163) 6\n",
      "(95, 327) 4 (95, 327) 6\n",
      "(256, 312) 4 (256, 312) 6\n",
      "(310, 346) 4 (310, 346) 1\n",
      "(312, 478) 4 (312, 478) 2\n",
      "(108, 447) 4 (108, 447) 3\n",
      "(11, 458) 4 (11, 458) 1\n",
      "(83, 88) 4 (83, 88) 9\n"
     ]
    },
    {
     "name": "stderr",
     "output_type": "stream",
     "text": [
      "\n",
      "\n",
      "8235it [00:36, 225.24it/s]\u001b[A\u001b[A\n",
      "\n",
      "8255it [00:36, 225.08it/s]\u001b[A\u001b[A"
     ]
    },
    {
     "name": "stdout",
     "output_type": "stream",
     "text": [
      "(460, 636) 4 (460, 636) 1\n",
      "(41, 583) 4 (41, 583) 2\n",
      "(83, 453) 4 (83, 453) 8\n",
      "(183, 424) 4 (183, 424) 7\n",
      "(149, 424) 4 (149, 424) 5\n"
     ]
    },
    {
     "name": "stderr",
     "output_type": "stream",
     "text": [
      "\n",
      "\n",
      "8274it [00:36, 224.94it/s]\u001b[A\u001b[A\n",
      "\n",
      "8293it [00:36, 224.84it/s]\u001b[A\u001b[A"
     ]
    },
    {
     "name": "stdout",
     "output_type": "stream",
     "text": [
      "(257, 374) 4 (257, 374) 0\n",
      "(190, 484) 4 (190, 484) 5\n",
      "(94, 146) 4 (94, 146) 0\n",
      "(309, 407) 4 (309, 407) 0\n",
      "(294, 532) 4 (294, 532) 5\n",
      "(316, 592) 4 (316, 592) 5\n",
      "(45, 173) 4 (45, 173) 3\n",
      "(296, 322) 4 (296, 322) 3\n",
      "(25, 336) 4 (25, 336) 0\n",
      "(146, 444) 4 (146, 444) 6\n",
      "(30, 403) 4 (30, 403) 5\n"
     ]
    },
    {
     "name": "stderr",
     "output_type": "stream",
     "text": [
      "\n",
      "\n",
      "8312it [00:36, 224.69it/s]\u001b[A\u001b[A\n",
      "\n",
      "8338it [00:37, 224.76it/s]\u001b[A\u001b[A"
     ]
    },
    {
     "name": "stdout",
     "output_type": "stream",
     "text": [
      "(204, 272) 4 (204, 272) 6\n",
      "(449, 463) 4 (449, 463) 3\n",
      "(262, 460) 4 (262, 460) 3\n",
      "(487, 520) 4 (487, 520) 5\n",
      "(42, 441) 4 (42, 441) 2\n",
      "(380, 474) 4 (380, 474) 8\n",
      "(83, 238) 4 (83, 238) 1\n",
      "(130, 535) 4 (130, 535) 5\n",
      "(231, 346) 4 (231, 346) 2\n"
     ]
    },
    {
     "name": "stderr",
     "output_type": "stream",
     "text": [
      "\n",
      "\n",
      "8360it [00:37, 224.72it/s]\u001b[A\u001b[A\n",
      "\n",
      "8381it [00:37, 224.50it/s]\u001b[A\u001b[A"
     ]
    },
    {
     "name": "stdout",
     "output_type": "stream",
     "text": [
      "(237, 369) 4 (237, 369) 1\n",
      "(127, 225) 4 (127, 225) 0\n",
      "(107, 457) 4 (107, 457) 8\n",
      "(168, 424) 4 (168, 424) 8\n",
      "(20, 195) 4 (20, 195) 8\n",
      "(174, 456) 4 (174, 456) 5\n"
     ]
    },
    {
     "name": "stderr",
     "output_type": "stream",
     "text": [
      "\n",
      "\n",
      "8401it [00:37, 224.31it/s]\u001b[A\u001b[A\n",
      "\n",
      "8420it [00:37, 224.21it/s]\u001b[A\u001b[A"
     ]
    },
    {
     "name": "stdout",
     "output_type": "stream",
     "text": [
      "(58, 199) 4 (58, 199) 7\n",
      "(200, 305) 4 (200, 305) 3\n",
      "(231, 256) 4 (231, 256) 2\n",
      "(173, 183) 4 (173, 183) 2\n",
      "(262, 294) 4 (262, 294) 0\n",
      "(30, 421) 4 (30, 421) 3\n"
     ]
    },
    {
     "name": "stderr",
     "output_type": "stream",
     "text": [
      "\n",
      "\n",
      "8439it [00:37, 224.00it/s]\u001b[A\u001b[A\n",
      "\n",
      "8457it [00:37, 223.85it/s]\u001b[A\u001b[A"
     ]
    },
    {
     "name": "stdout",
     "output_type": "stream",
     "text": [
      "(41, 638) 4 (41, 638) 6\n",
      "(235, 575) 4 (235, 575) 3\n",
      "(295, 447) 4 (295, 447) 2\n",
      "(413, 572) 4 (413, 572) 5\n",
      "(428, 460) 4 (428, 460) 3\n",
      "(410, 420) 4 (410, 420) 7\n",
      "(134, 535) 4 (134, 535) 6\n"
     ]
    },
    {
     "name": "stderr",
     "output_type": "stream",
     "text": [
      "\n",
      "\n",
      "8475it [00:37, 223.68it/s]\u001b[A\u001b[A\n",
      "\n",
      "8493it [00:37, 223.53it/s]\u001b[A\u001b[A"
     ]
    },
    {
     "name": "stdout",
     "output_type": "stream",
     "text": [
      "(30, 327) 4 (30, 327) 2\n",
      "(271, 581) 4 (271, 581) 9\n",
      "(113, 556) 4 (113, 556) 1\n",
      "(536, 588) 4 (536, 588) 9\n",
      "(336, 433) 4 (336, 433) 0\n",
      "(230, 521) 4 (230, 521) 9\n",
      "(334, 575) 4 (334, 575) 6\n"
     ]
    },
    {
     "name": "stderr",
     "output_type": "stream",
     "text": [
      "\n",
      "\n",
      "8516it [00:38, 223.54it/s]\u001b[A\u001b[A\n",
      "\n",
      "8543it [00:38, 223.65it/s]\u001b[A\u001b[A"
     ]
    },
    {
     "name": "stdout",
     "output_type": "stream",
     "text": [
      "(226, 389) 4 (226, 389) 3\n",
      "(337, 395) 4 (337, 395) 9\n",
      "(402, 612) 4 (402, 612) 1\n",
      "(186, 281) 4 (186, 281) 2\n",
      "(11, 563) 4 (11, 563) 2\n",
      "(97, 636) 4 (97, 636) 2\n",
      "(230, 261) 4 (230, 261) 6\n",
      "(61, 434) 4 (61, 434) 6\n",
      "(70, 447) 4 (70, 447) 0\n",
      "(81, 401) 4 (81, 401) 7\n"
     ]
    },
    {
     "name": "stderr",
     "output_type": "stream",
     "text": [
      "\n",
      "\n",
      "8565it [00:38, 223.58it/s]\u001b[A\u001b[A\n",
      "\n",
      "8591it [00:38, 223.66it/s]\u001b[A\u001b[A"
     ]
    },
    {
     "name": "stdout",
     "output_type": "stream",
     "text": [
      "(17, 383) 4 (17, 383) 1\n",
      "(441, 550) 4 (441, 550) 3\n",
      "(217, 351) 4 (217, 351) 5\n",
      "(152, 370) 4 (152, 370) 9\n",
      "(11, 627) 4 (11, 627) 2\n",
      "(168, 273) 4 (168, 273) 0\n",
      "(374, 467) 4 (374, 467) 6\n",
      "(20, 501) 4 (20, 501) 1\n",
      "(109, 346) 4 (109, 346) 2\n"
     ]
    },
    {
     "name": "stderr",
     "output_type": "stream",
     "text": [
      "\n",
      "\n",
      "8614it [00:38, 223.45it/s]\u001b[A\u001b[A"
     ]
    },
    {
     "name": "stdout",
     "output_type": "stream",
     "text": [
      "(122, 287) 4 (122, 287) 8\n",
      "(142, 598) 4 (142, 598) 9\n",
      "(370, 430) 4 (370, 430) 2\n",
      "(132, 451) 4 (132, 451) 9\n",
      "(41, 544) 4 (41, 544) 1\n"
     ]
    },
    {
     "name": "stderr",
     "output_type": "stream",
     "text": [
      "\n",
      "\n",
      "8635it [00:38, 223.23it/s]\u001b[A\u001b[A\n",
      "\n",
      "8655it [00:38, 223.15it/s]\u001b[A\u001b[A\n",
      "\n",
      "8680it [00:38, 223.21it/s]\u001b[A\u001b[A"
     ]
    },
    {
     "name": "stdout",
     "output_type": "stream",
     "text": [
      "(458, 613) 4 (458, 613) 0\n",
      "(390, 583) 4 (390, 583) 6\n",
      "(235, 346) 4 (235, 346) 0\n",
      "(272, 467) 4 (272, 467) 1\n",
      "(187, 296) 4 (187, 296) 7\n",
      "(273, 491) 4 (273, 491) 3\n",
      "(184, 416) 4 (184, 416) 1\n"
     ]
    },
    {
     "name": "stderr",
     "output_type": "stream",
     "text": [
      "\n",
      "\n",
      "8701it [00:38, 223.16it/s]\u001b[A\u001b[A\n",
      "\n",
      "8723it [00:39, 223.14it/s]\u001b[A\u001b[A"
     ]
    },
    {
     "name": "stdout",
     "output_type": "stream",
     "text": [
      "(45, 284) 4 (45, 284) 5\n",
      "(380, 472) 4 (380, 472) 6\n",
      "(80, 365) 4 (80, 365) 9\n",
      "(187, 337) 4 (187, 337) 3\n",
      "(95, 336) 4 (95, 336) 5\n",
      "(109, 309) 4 (109, 309) 7\n",
      "(374, 434) 4 (374, 434) 2\n",
      "(253, 397) 4 (253, 397) 0\n"
     ]
    },
    {
     "name": "stderr",
     "output_type": "stream",
     "text": [
      "\n",
      "\n",
      "8744it [00:39, 222.92it/s]\u001b[A\u001b[A\n",
      "\n",
      "8764it [00:39, 222.76it/s]\u001b[A\u001b[A"
     ]
    },
    {
     "name": "stdout",
     "output_type": "stream",
     "text": [
      "(283, 460) 4 (283, 460) 9\n",
      "(190, 444) 4 (190, 444) 7\n",
      "(123, 272) 4 (123, 272) 1\n",
      "(70, 460) 4 (70, 460) 8\n",
      "(348, 458) 4 (348, 458) 5\n",
      "(351, 372) 4 (351, 372) 1\n"
     ]
    },
    {
     "name": "stderr",
     "output_type": "stream",
     "text": [
      "\n",
      "\n",
      "8783it [00:39, 222.66it/s]\u001b[A\u001b[A\n",
      "\n",
      "8809it [00:39, 222.72it/s]\u001b[A\u001b[A"
     ]
    },
    {
     "name": "stdout",
     "output_type": "stream",
     "text": [
      "(357, 558) 4 (357, 558) 0\n",
      "(20, 293) 4 (20, 293) 7\n",
      "(131, 599) 4 (131, 599) 1\n",
      "(392, 410) 4 (392, 410) 5\n",
      "(257, 467) 4 (257, 467) 0\n",
      "(42, 257) 4 (42, 257) 5\n",
      "(181, 558) 4 (181, 558) 5\n",
      "(168, 305) 4 (168, 305) 1\n"
     ]
    },
    {
     "name": "stderr",
     "output_type": "stream",
     "text": [
      "\n",
      "\n",
      "8833it [00:39, 222.75it/s]\u001b[A\u001b[A\n",
      "\n",
      "8857it [00:39, 222.79it/s]\u001b[A\u001b[A"
     ]
    },
    {
     "name": "stdout",
     "output_type": "stream",
     "text": [
      "(467, 520) 4 (467, 520) 7\n",
      "(88, 279) 4 (88, 279) 2\n",
      "(186, 588) 4 (186, 588) 5\n",
      "(305, 512) 4 (305, 512) 5\n",
      "(309, 410) 4 (309, 410) 0\n",
      "(541, 634) 4 (541, 634) 5\n",
      "(420, 599) 4 (420, 599) 2\n",
      "(365, 483) 4 (365, 483) 3\n",
      "(94, 208) 4 (94, 208) 1\n",
      "(41, 150) 4 (41, 150) 1\n",
      "(64, 186) 4 (64, 186) 8\n",
      "(146, 426) 4 (146, 426) 2\n",
      "(348, 424) 4 (348, 424) 1\n",
      "(346, 460) 4 (346, 460) 2\n"
     ]
    },
    {
     "name": "stderr",
     "output_type": "stream",
     "text": [
      "\n",
      "\n",
      "8880it [00:39, 222.66it/s]\u001b[A\u001b[A\n",
      "\n",
      "8901it [00:40, 222.52it/s]\u001b[A\u001b[A"
     ]
    },
    {
     "name": "stdout",
     "output_type": "stream",
     "text": [
      "(305, 383) 4 (305, 383) 9\n",
      "(322, 484) 4 (322, 484) 2\n",
      "(0, 270) 4 (0, 270) 9\n",
      "(217, 304) 4 (217, 304) 8\n",
      "(332, 335) 4 (332, 335) 8\n",
      "(19, 322) 4 (19, 322) 5\n",
      "(205, 387) 4 (205, 387) 5\n",
      "(287, 612) 4 (287, 612) 2\n"
     ]
    },
    {
     "name": "stderr",
     "output_type": "stream",
     "text": [
      "\n",
      "\n",
      "8922it [00:40, 222.48it/s]\u001b[A\u001b[A\n",
      "\n",
      "8946it [00:40, 222.52it/s]\u001b[A\u001b[A"
     ]
    },
    {
     "name": "stdout",
     "output_type": "stream",
     "text": [
      "(271, 351) 4 (271, 351) 5\n",
      "(262, 576) 4 (262, 576) 0\n",
      "(338, 351) 4 (338, 351) 3\n",
      "(95, 157) 4 (95, 157) 3\n",
      "(253, 459) 4 (253, 459) 7\n",
      "(10, 398) 4 (10, 398) 6\n",
      "(92, 380) 4 (92, 380) 6\n",
      "(272, 390) 4 (272, 390) 5\n",
      "(199, 313) 4 (199, 313) 8\n",
      "(458, 539) 4 (458, 539) 3\n",
      "(348, 428) 4 (348, 428) 7\n"
     ]
    },
    {
     "name": "stderr",
     "output_type": "stream",
     "text": [
      "\n",
      "\n",
      "8968it [00:40, 222.45it/s]\u001b[A\u001b[A\n",
      "\n",
      "8993it [00:40, 222.51it/s]\u001b[A\u001b[A"
     ]
    },
    {
     "name": "stdout",
     "output_type": "stream",
     "text": [
      "(33, 401) 4 (33, 401) 7\n",
      "(231, 568) 4 (231, 568) 9\n",
      "(84, 212) 4 (84, 212) 0\n",
      "(233, 492) 4 (233, 492) 6\n",
      "(41, 402) 4 (41, 402) 9\n",
      "(378, 438) 4 (378, 438) 3\n",
      "(58, 534) 4 (58, 534) 1\n",
      "(151, 352) 4 (151, 352) 8\n"
     ]
    },
    {
     "name": "stderr",
     "output_type": "stream",
     "text": [
      "\n",
      "\n",
      "9015it [00:40, 222.39it/s]\u001b[A\u001b[A\n",
      "\n",
      "9036it [00:40, 222.29it/s]\u001b[A\u001b[A\n",
      "\n",
      "9057it [00:40, 222.17it/s]\u001b[A\u001b[A\n",
      "\n",
      "9082it [00:40, 222.21it/s]\u001b[A\u001b[A"
     ]
    },
    {
     "name": "stdout",
     "output_type": "stream",
     "text": [
      "(235, 333) 4 (235, 333) 0\n",
      "(287, 564) 4 (287, 564) 2\n"
     ]
    },
    {
     "name": "stderr",
     "output_type": "stream",
     "text": [
      "\n",
      "\n",
      "9106it [00:40, 222.23it/s]\u001b[A\u001b[A\n",
      "\n",
      "9132it [00:41, 222.32it/s]\u001b[A\u001b[A"
     ]
    },
    {
     "name": "stdout",
     "output_type": "stream",
     "text": [
      "(372, 42) 4 (372, 42) 0\n",
      "(2, 175) 4 (2, 175) 6\n"
     ]
    },
    {
     "name": "stderr",
     "output_type": "stream",
     "text": [
      "\n",
      "\n",
      "9158it [00:41, 222.39it/s]\u001b[A\u001b[A\n",
      "\n",
      "9183it [00:41, 222.45it/s]\u001b[A\u001b[A\n",
      "\n",
      "9210it [00:41, 222.55it/s]\u001b[A\u001b[A\n",
      "\n",
      "9235it [00:41, 222.61it/s]\u001b[A\u001b[A"
     ]
    },
    {
     "name": "stdout",
     "output_type": "stream",
     "text": [
      "(12, 356) 4 (12, 356) 5\n"
     ]
    },
    {
     "name": "stderr",
     "output_type": "stream",
     "text": [
      "\n",
      "\n",
      "9260it [00:41, 222.60it/s]\u001b[A\u001b[A\n",
      "\n",
      "9287it [00:41, 222.70it/s]\u001b[A\u001b[A\n",
      "\n",
      "9312it [00:41, 222.76it/s]\u001b[A\u001b[A"
     ]
    },
    {
     "name": "stdout",
     "output_type": "stream",
     "text": [
      "(359, 622) 4 (359, 622) 2\n",
      "(410, 15) 4 (410, 15) 8\n",
      "(343, 292) 4 (343, 292) 9\n",
      "(570, 620) 4 (570, 620) 3\n"
     ]
    },
    {
     "name": "stderr",
     "output_type": "stream",
     "text": [
      "\n",
      "\n",
      "9337it [00:41, 222.75it/s]\u001b[A\u001b[A\n",
      "\n",
      "9362it [00:42, 222.80it/s]\u001b[A\u001b[A\n",
      "\n",
      "9387it [00:42, 222.85it/s]\u001b[A\u001b[A"
     ]
    },
    {
     "name": "stdout",
     "output_type": "stream",
     "text": [
      "(54, 125) 4 (54, 125) 0\n",
      "(247, 407) 4 (247, 407) 7\n",
      "(59, 196) 4 (59, 196) 5\n"
     ]
    },
    {
     "name": "stderr",
     "output_type": "stream",
     "text": [
      "\n",
      "\n",
      "9412it [00:42, 222.88it/s]\u001b[A\u001b[A\n",
      "\n",
      "9438it [00:42, 222.96it/s]\u001b[A\u001b[A\n",
      "\n",
      "9464it [00:42, 223.04it/s]\u001b[A\u001b[A\n",
      "\n",
      "9489it [00:42, 223.10it/s]\u001b[A\u001b[A"
     ]
    },
    {
     "name": "stdout",
     "output_type": "stream",
     "text": [
      "(250, 348) 4 (250, 348) 6\n",
      "(498, 517) 4 (498, 517) 0\n",
      "(607, 578) 4 (607, 578) 2\n"
     ]
    },
    {
     "name": "stderr",
     "output_type": "stream",
     "text": [
      "\n",
      "\n",
      "9515it [00:42, 223.18it/s]\u001b[A\u001b[A\n",
      "\n",
      "9541it [00:42, 223.23it/s]\u001b[A\u001b[A\n",
      "\n",
      "9567it [00:42, 223.31it/s]\u001b[A\u001b[A\n",
      "\n",
      "9594it [00:42, 223.40it/s]\u001b[A\u001b[A"
     ]
    },
    {
     "name": "stdout",
     "output_type": "stream",
     "text": [
      "(24, 606) 4 (24, 606) 2\n",
      "(104, 266) 4 (104, 266) 1\n",
      "(396, 321) 4 (396, 321) 1\n",
      "(156, 96) 4 (156, 96) 5\n",
      "(249, 639) 4 (249, 639) 0\n"
     ]
    },
    {
     "name": "stderr",
     "output_type": "stream",
     "text": [
      "\n",
      "\n",
      "9620it [00:43, 223.43it/s]\u001b[A\u001b[A\n",
      "\n",
      "9645it [00:43, 223.49it/s]\u001b[A\u001b[A\n",
      "\n",
      "9671it [00:43, 223.57it/s]\u001b[A\u001b[A"
     ]
    },
    {
     "name": "stdout",
     "output_type": "stream",
     "text": [
      "(444, 132) 4 (444, 132) 7\n"
     ]
    },
    {
     "name": "stderr",
     "output_type": "stream",
     "text": [
      "\n",
      "\n",
      "9697it [00:43, 223.62it/s]\u001b[A\u001b[A\n",
      "\n",
      "9722it [00:43, 223.65it/s]\u001b[A\u001b[A"
     ]
    },
    {
     "name": "stdout",
     "output_type": "stream",
     "text": [
      "(285, 377) 4 (285, 377) 9\n",
      "(287, 0) 4 (287, 0) 9\n",
      "(313, 476) 4 (313, 476) 2\n",
      "(417, 257) 4 (417, 257) 1\n",
      "(41, 614) 4 (41, 614) 5\n"
     ]
    },
    {
     "name": "stderr",
     "output_type": "stream",
     "text": [
      "\n",
      "\n",
      "9747it [00:43, 223.67it/s]\u001b[A\u001b[A\n",
      "\n",
      "9772it [00:43, 223.68it/s]\u001b[A\u001b[A\n",
      "\n",
      "9796it [00:43, 223.70it/s]"
     ]
    },
    {
     "name": "stdout",
     "output_type": "stream",
     "text": [
      "(226, 417) 4 (226, 417) 9\n",
      "(318, 379) 4 (318, 379) 3\n"
     ]
    },
    {
     "name": "stderr",
     "output_type": "stream",
     "text": [
      "\u001b[A\u001b[A\n",
      "\n",
      "9820it [00:43, 223.70it/s]\u001b[A\u001b[A\n",
      "\n",
      "9845it [00:43, 223.75it/s]\u001b[A\u001b[A"
     ]
    },
    {
     "name": "stdout",
     "output_type": "stream",
     "text": [
      "(592, 480) 4 (592, 480) 8\n",
      "(370, 63) 4 (370, 63) 0\n"
     ]
    },
    {
     "name": "stderr",
     "output_type": "stream",
     "text": [
      "\n",
      "\n",
      "9871it [00:44, 223.82it/s]\u001b[A\u001b[A\n",
      "\n",
      "9897it [00:44, 223.89it/s]\u001b[A\u001b[A"
     ]
    },
    {
     "name": "stdout",
     "output_type": "stream",
     "text": [
      "(334, 356) 4 (334, 356) 3\n",
      "(341, 596) 4 (341, 596) 8\n",
      "(490, 609) 4 (490, 609) 2\n",
      "(641, 423) 4 (641, 423) 9\n"
     ]
    },
    {
     "name": "stderr",
     "output_type": "stream",
     "text": [
      "\n",
      "\n",
      "9922it [00:44, 223.88it/s]\u001b[A\u001b[A\n",
      "\n",
      "9947it [00:44, 223.93it/s]\u001b[A\u001b[A\n",
      "\n",
      "9974it [00:44, 224.02it/s]\u001b[A\u001b[A\n",
      "\n",
      "10002it [00:44, 224.14it/s]\u001b[A\u001b[A"
     ]
    },
    {
     "name": "stdout",
     "output_type": "stream",
     "text": [
      "(470, 159) 4 (470, 159) 5\n",
      "(410, 261) 4 (410, 261) 3\n",
      "(11, 310) 5 (11, 310) 2\n",
      "(374, 512) 5 (374, 512) 2\n",
      "(309, 348) 5 (309, 348) 2\n"
     ]
    },
    {
     "name": "stderr",
     "output_type": "stream",
     "text": [
      "\n",
      "\n",
      "10028it [00:44, 224.15it/s]\u001b[A\u001b[A\n",
      "\n",
      "10054it [00:44, 224.22it/s]\u001b[A\u001b[A"
     ]
    },
    {
     "name": "stdout",
     "output_type": "stream",
     "text": [
      "(126, 221) 5 (126, 221) 3\n",
      "(32, 627) 5 (32, 627) 6\n",
      "(60, 61) 5 (60, 61) 8\n",
      "(484, 540) 5 (484, 540) 1\n",
      "(52, 387) 5 (52, 387) 0\n",
      "(275, 335) 5 (275, 335) 6\n",
      "(531, 532) 5 (531, 532) 3\n"
     ]
    },
    {
     "name": "stderr",
     "output_type": "stream",
     "text": [
      "\n",
      "\n",
      "10079it [00:44, 224.18it/s]\u001b[A\u001b[A\n",
      "\n",
      "10106it [00:45, 224.27it/s]\u001b[A\u001b[A"
     ]
    },
    {
     "name": "stdout",
     "output_type": "stream",
     "text": [
      "(71, 77) 5 (71, 77) 2\n",
      "(334, 335) 5 (334, 335) 1\n",
      "(264, 298) 5 (264, 298) 0\n",
      "(196, 209) 5 (196, 209) 7\n",
      "(30, 348) 5 (30, 348) 9\n",
      "(67, 465) 5 (67, 465) 0\n",
      "(12, 217) 5 (12, 217) 2\n",
      "(42, 136) 5 (42, 136) 3\n",
      "(208, 458) 5 (208, 458) 4\n",
      "(260, 417) 5 (260, 417) 3\n"
     ]
    },
    {
     "name": "stderr",
     "output_type": "stream",
     "text": [
      "\n",
      "\n",
      "10131it [00:45, 224.27it/s]\u001b[A\u001b[A\n",
      "\n",
      "10158it [00:45, 224.36it/s]\u001b[A\u001b[A"
     ]
    },
    {
     "name": "stdout",
     "output_type": "stream",
     "text": [
      "(166, 556) 5 (166, 556) 2\n",
      "(336, 484) 5 (336, 484) 0\n",
      "(310, 556) 5 (310, 556) 2\n",
      "(395, 401) 5 (395, 401) 4\n",
      "(375, 441) 5 (375, 441) 2\n",
      "(540, 630) 5 (540, 630) 0\n",
      "(182, 349) 5 (182, 349) 4\n",
      "(289, 419) 5 (289, 419) 0\n",
      "(286, 378) 5 (286, 378) 3\n"
     ]
    },
    {
     "name": "stderr",
     "output_type": "stream",
     "text": [
      "\n",
      "\n",
      "10183it [00:45, 224.40it/s]\u001b[A\u001b[A\n",
      "\n",
      "10208it [00:45, 224.45it/s]\u001b[A\u001b[A"
     ]
    },
    {
     "name": "stdout",
     "output_type": "stream",
     "text": [
      "(419, 544) 5 (419, 544) 4\n",
      "(8, 561) 5 (8, 561) 4\n",
      "(467, 528) 5 (467, 528) 1\n",
      "(392, 521) 5 (392, 521) 8\n",
      "(370, 510) 5 (370, 510) 3\n",
      "(122, 558) 5 (122, 558) 1\n",
      "(22, 598) 5 (22, 598) 4\n",
      "(199, 638) 5 (199, 638) 6\n",
      "(312, 374) 5 (312, 374) 7\n",
      "(109, 388) 5 (109, 388) 0\n",
      "(131, 428) 5 (131, 428) 0\n",
      "(149, 463) 5 (149, 463) 0\n",
      "(91, 168) 5 (91, 168) 7\n",
      "(199, 211) 5 (199, 211) 7\n",
      "(474, 612) 5 (474, 612) 8\n",
      "(218, 474) 5 (218, 474) 1\n"
     ]
    },
    {
     "name": "stderr",
     "output_type": "stream",
     "text": [
      "\n",
      "\n",
      "10233it [00:45, 224.46it/s]\u001b[A\u001b[A\n",
      "\n",
      "10258it [00:45, 224.50it/s]\u001b[A\u001b[A"
     ]
    },
    {
     "name": "stdout",
     "output_type": "stream",
     "text": [
      "(11, 410) 5 (11, 410) 4\n",
      "(305, 580) 5 (305, 580) 4\n",
      "(297, 398) 5 (297, 398) 2\n",
      "(183, 623) 5 (183, 623) 8\n",
      "(309, 366) 5 (309, 366) 0\n",
      "(438, 529) 5 (438, 529) 6\n",
      "(167, 209) 5 (167, 209) 8\n",
      "(246, 352) 5 (246, 352) 2\n",
      "(136, 372) 5 (136, 372) 8\n",
      "(179, 543) 5 (179, 543) 4\n",
      "(67, 571) 5 (67, 571) 1\n"
     ]
    },
    {
     "name": "stderr",
     "output_type": "stream",
     "text": [
      "\n",
      "\n",
      "10283it [00:45, 224.51it/s]\u001b[A\u001b[A\n",
      "\n",
      "10308it [00:45, 224.55it/s]\u001b[A\u001b[A"
     ]
    },
    {
     "name": "stdout",
     "output_type": "stream",
     "text": [
      "(71, 210) 5 (71, 210) 0\n",
      "(10, 599) 5 (10, 599) 3\n",
      "(225, 339) 5 (225, 339) 4\n",
      "(262, 273) 5 (262, 273) 9\n",
      "(128, 478) 5 (128, 478) 6\n",
      "(444, 532) 5 (444, 532) 4\n",
      "(413, 449) 5 (413, 449) 4\n",
      "(149, 428) 5 (149, 428) 6\n",
      "(295, 473) 5 (295, 473) 3\n"
     ]
    },
    {
     "name": "stderr",
     "output_type": "stream",
     "text": [
      "\n",
      "\n",
      "10332it [00:46, 224.58it/s]\u001b[A\u001b[A\n",
      "\n",
      "10358it [00:46, 224.64it/s]\u001b[A\u001b[A"
     ]
    },
    {
     "name": "stdout",
     "output_type": "stream",
     "text": [
      "(184, 383) 5 (184, 383) 9\n",
      "(128, 487) 5 (128, 487) 1\n",
      "(516, 612) 5 (516, 612) 1\n",
      "(127, 158) 5 (127, 158) 1\n",
      "(67, 332) 5 (67, 332) 2\n",
      "(165, 327) 5 (165, 327) 8\n",
      "(381, 558) 5 (381, 558) 6\n",
      "(364, 467) 5 (364, 467) 7\n",
      "(237, 478) 5 (237, 478) 9\n"
     ]
    },
    {
     "name": "stderr",
     "output_type": "stream",
     "text": [
      "\n",
      "\n",
      "10383it [00:46, 224.67it/s]\u001b[A\u001b[A\n",
      "\n",
      "10410it [00:46, 224.75it/s]\u001b[A\u001b[A"
     ]
    },
    {
     "name": "stdout",
     "output_type": "stream",
     "text": [
      "(558, 624) 5 (558, 624) 7\n",
      "(98, 392) 5 (98, 392) 1\n",
      "(322, 428) 5 (322, 428) 4\n",
      "(23, 284) 5 (23, 284) 1\n",
      "(290, 571) 5 (290, 571) 3\n",
      "(586, 590) 5 (586, 590) 0\n",
      "(168, 334) 5 (168, 334) 8\n",
      "(25, 474) 5 (25, 474) 6\n",
      "(181, 332) 5 (181, 332) 0\n",
      "(307, 484) 5 (307, 484) 4\n",
      "(222, 415) 5 (222, 415) 0\n"
     ]
    },
    {
     "name": "stderr",
     "output_type": "stream",
     "text": [
      "\n",
      "\n",
      "10435it [00:46, 224.73it/s]\u001b[A\u001b[A\n",
      "\n",
      "10459it [00:46, 224.72it/s]\u001b[A\u001b[A"
     ]
    },
    {
     "name": "stdout",
     "output_type": "stream",
     "text": [
      "(83, 463) 5 (83, 463) 4\n",
      "(383, 467) 5 (383, 467) 3\n",
      "(42, 562) 5 (42, 562) 7\n",
      "(251, 272) 5 (251, 272) 4\n",
      "(239, 295) 5 (239, 295) 8\n"
     ]
    },
    {
     "name": "stderr",
     "output_type": "stream",
     "text": [
      "\n",
      "\n",
      "10483it [00:46, 224.71it/s]\u001b[A\u001b[A\n",
      "\n",
      "10509it [00:46, 224.78it/s]\u001b[A\u001b[A"
     ]
    },
    {
     "name": "stdout",
     "output_type": "stream",
     "text": [
      "(168, 387) 5 (168, 387) 9\n",
      "(161, 298) 5 (161, 298) 3\n",
      "(373, 416) 5 (373, 416) 8\n",
      "(11, 190) 5 (11, 190) 3\n",
      "(6, 509) 5 (6, 509) 6\n",
      "(334, 352) 5 (334, 352) 8\n",
      "(475, 543) 5 (475, 543) 0\n",
      "(79, 510) 5 (79, 510) 1\n",
      "(435, 444) 5 (435, 444) 1\n"
     ]
    },
    {
     "name": "stderr",
     "output_type": "stream",
     "text": [
      "\n",
      "\n",
      "10533it [00:46, 224.75it/s]\u001b[A\u001b[A\n",
      "\n",
      "10559it [00:46, 224.81it/s]\u001b[A\u001b[A"
     ]
    },
    {
     "name": "stdout",
     "output_type": "stream",
     "text": [
      "(137, 327) 5 (137, 327) 4\n",
      "(22, 607) 5 (22, 607) 7\n",
      "(37, 618) 5 (37, 618) 0\n",
      "(209, 211) 5 (209, 211) 4\n",
      "(186, 380) 5 (186, 380) 2\n",
      "(78, 638) 5 (78, 638) 1\n",
      "(146, 340) 5 (146, 340) 8\n",
      "(469, 570) 5 (469, 570) 1\n",
      "(255, 297) 5 (255, 297) 9\n",
      "(305, 332) 5 (305, 332) 3\n"
     ]
    },
    {
     "name": "stderr",
     "output_type": "stream",
     "text": [
      "\n",
      "\n",
      "10583it [00:47, 224.82it/s]\u001b[A\u001b[A\n",
      "\n",
      "10612it [00:47, 224.95it/s]\u001b[A\u001b[A"
     ]
    },
    {
     "name": "stdout",
     "output_type": "stream",
     "text": [
      "(462, 531) 5 (462, 531) 3\n",
      "(139, 224) 5 (139, 224) 9\n",
      "(17, 629) 5 (17, 629) 1\n",
      "(262, 298) 5 (262, 298) 0\n",
      "(297, 378) 5 (297, 378) 8\n",
      "(35, 127) 5 (35, 127) 2\n",
      "(15, 475) 5 (15, 475) 6\n",
      "(61, 607) 5 (61, 607) 2\n",
      "(67, 378) 5 (67, 378) 0\n",
      "(54, 221) 5 (54, 221) 0\n",
      "(413, 558) 5 (413, 558) 6\n",
      "(426, 447) 5 (426, 447) 7\n",
      "(52, 345) 5 (52, 345) 6\n"
     ]
    },
    {
     "name": "stderr",
     "output_type": "stream",
     "text": [
      "\n",
      "\n",
      "10637it [00:47, 224.93it/s]\u001b[A\u001b[A\n",
      "\n",
      "10663it [00:47, 225.00it/s]\u001b[A\u001b[A"
     ]
    },
    {
     "name": "stdout",
     "output_type": "stream",
     "text": [
      "(190, 290) 5 (190, 290) 8\n",
      "(188, 335) 5 (188, 335) 2\n",
      "(97, 146) 5 (97, 146) 4\n",
      "(138, 161) 5 (138, 161) 9\n",
      "(395, 397) 5 (395, 397) 2\n",
      "(216, 592) 5 (216, 592) 9\n",
      "(346, 627) 5 (346, 627) 1\n",
      "(210, 271) 5 (210, 271) 2\n",
      "(61, 190) 5 (61, 190) 1\n",
      "(271, 603) 5 (271, 603) 8\n",
      "(274, 407) 5 (274, 407) 7\n",
      "(257, 397) 5 (257, 397) 7\n"
     ]
    },
    {
     "name": "stderr",
     "output_type": "stream",
     "text": [
      "\n",
      "\n",
      "10688it [00:47, 224.97it/s]\u001b[A\u001b[A\n",
      "\n",
      "10713it [00:47, 225.00it/s]\u001b[A\u001b[A"
     ]
    },
    {
     "name": "stdout",
     "output_type": "stream",
     "text": [
      "(98, 149) 5 (98, 149) 7\n",
      "(226, 496) 5 (226, 496) 2\n",
      "(61, 351) 5 (61, 351) 2\n",
      "(61, 502) 5 (61, 502) 8\n",
      "(172, 428) 5 (172, 428) 3\n"
     ]
    },
    {
     "name": "stderr",
     "output_type": "stream",
     "text": [
      "\n",
      "\n",
      "10737it [00:47, 224.98it/s]\u001b[A\u001b[A\n",
      "\n",
      "10761it [00:47, 225.00it/s]\u001b[A\u001b[A"
     ]
    },
    {
     "name": "stdout",
     "output_type": "stream",
     "text": [
      "(45, 598) 5 (45, 598) 3\n",
      "(308, 426) 5 (308, 426) 8\n",
      "(23, 346) 5 (23, 346) 0\n",
      "(130, 510) 5 (130, 510) 6\n",
      "(45, 240) 5 (45, 240) 7\n",
      "(127, 405) 5 (127, 405) 7\n"
     ]
    },
    {
     "name": "stderr",
     "output_type": "stream",
     "text": [
      "\n",
      "\n",
      "10785it [00:47, 224.97it/s]\u001b[A\u001b[A\n",
      "\n",
      "10810it [00:48, 225.01it/s]\u001b[A\u001b[A"
     ]
    },
    {
     "name": "stdout",
     "output_type": "stream",
     "text": [
      "(108, 413) 5 (108, 413) 2\n",
      "(92, 452) 5 (92, 452) 2\n",
      "(106, 397) 5 (106, 397) 2\n",
      "(113, 310) 5 (113, 310) 2\n",
      "(270, 335) 5 (270, 335) 1\n",
      "(351, 447) 5 (351, 447) 9\n",
      "(248, 346) 5 (248, 346) 8\n",
      "(401, 510) 5 (401, 510) 8\n"
     ]
    },
    {
     "name": "stderr",
     "output_type": "stream",
     "text": [
      "\n",
      "\n",
      "10834it [00:48, 224.88it/s]\u001b[A\u001b[A\n",
      "\n",
      "10856it [00:48, 224.87it/s]\u001b[A\u001b[A"
     ]
    },
    {
     "name": "stdout",
     "output_type": "stream",
     "text": [
      "(278, 568) 5 (278, 568) 8\n",
      "(374, 487) 5 (374, 487) 8\n",
      "(221, 402) 5 (221, 402) 1\n",
      "(97, 246) 5 (97, 246) 9\n",
      "(45, 561) 5 (45, 561) 8\n",
      "(132, 516) 5 (132, 516) 0\n"
     ]
    },
    {
     "name": "stderr",
     "output_type": "stream",
     "text": [
      "\n",
      "\n",
      "10878it [00:48, 224.83it/s]\u001b[A\u001b[A\n",
      "\n",
      "10900it [00:48, 224.79it/s]\u001b[A\u001b[A\n",
      "\n",
      "10924it [00:48, 224.81it/s]\u001b[A\u001b[A"
     ]
    },
    {
     "name": "stdout",
     "output_type": "stream",
     "text": [
      "(52, 405) 5 (52, 405) 9\n",
      "(11, 131) 5 (11, 131) 1\n",
      "(106, 475) 5 (106, 475) 3\n",
      "(326, 534) 5 (326, 534) 6\n",
      "(200, 378) 5 (200, 378) 8\n",
      "(247, 430) 5 (247, 430) 6\n",
      "(256, 351) 5 (256, 351) 8\n"
     ]
    },
    {
     "name": "stderr",
     "output_type": "stream",
     "text": [
      "\n",
      "\n",
      "10946it [00:48, 224.74it/s]\u001b[A\u001b[A\n",
      "\n",
      "10969it [00:48, 224.74it/s]\u001b[A\u001b[A"
     ]
    },
    {
     "name": "stdout",
     "output_type": "stream",
     "text": [
      "(416, 457) 5 (416, 457) 7\n",
      "(290, 458) 5 (290, 458) 1\n",
      "(205, 326) 5 (205, 326) 7\n",
      "(430, 505) 5 (430, 505) 6\n",
      "(283, 575) 5 (283, 575) 0\n",
      "(14, 41) 5 (14, 41) 9\n",
      "(153, 352) 5 (153, 352) 6\n"
     ]
    },
    {
     "name": "stderr",
     "output_type": "stream",
     "text": [
      "\n",
      "\n",
      "10991it [00:48, 224.71it/s]\u001b[A\u001b[A\n",
      "\n",
      "11014it [00:49, 224.72it/s]\u001b[A\u001b[A"
     ]
    },
    {
     "name": "stdout",
     "output_type": "stream",
     "text": [
      "(106, 456) 5 (106, 456) 2\n",
      "(258, 420) 5 (258, 420) 0\n",
      "(229, 374) 5 (229, 374) 4\n",
      "(33, 382) 5 (33, 382) 9\n",
      "(131, 430) 5 (131, 430) 4\n",
      "(63, 107) 5 (63, 107) 2\n"
     ]
    },
    {
     "name": "stderr",
     "output_type": "stream",
     "text": [
      "\n",
      "\n",
      "11037it [00:49, 224.72it/s]\u001b[A\u001b[A\n",
      "\n",
      "11063it [00:49, 224.79it/s]\u001b[A\u001b[A"
     ]
    },
    {
     "name": "stdout",
     "output_type": "stream",
     "text": [
      "(441, 263) 5 (441, 263) 8\n",
      "(500, 78) 5 (500, 78) 0\n"
     ]
    },
    {
     "name": "stderr",
     "output_type": "stream",
     "text": [
      "\n",
      "\n",
      "11088it [00:49, 224.83it/s]\u001b[A\u001b[A\n",
      "\n",
      "11114it [00:49, 224.88it/s]\u001b[A\u001b[A\n",
      "\n",
      "11140it [00:49, 224.94it/s]\u001b[A\u001b[A"
     ]
    },
    {
     "name": "stdout",
     "output_type": "stream",
     "text": [
      "(356, 77) 5 (356, 77) 6\n",
      "(549, 138) 5 (549, 138) 3\n",
      "(527, 449) 5 (527, 449) 2\n"
     ]
    },
    {
     "name": "stderr",
     "output_type": "stream",
     "text": [
      "\n",
      "\n",
      "11165it [00:49, 224.95it/s]\u001b[A\u001b[A\n",
      "\n",
      "11191it [00:49, 225.01it/s]\u001b[A\u001b[A"
     ]
    },
    {
     "name": "stdout",
     "output_type": "stream",
     "text": [
      "(20, 491) 5 (20, 491) 7\n",
      "(530, 135) 5 (530, 135) 9\n"
     ]
    },
    {
     "name": "stderr",
     "output_type": "stream",
     "text": [
      "\n",
      "\n",
      "11216it [00:49, 225.00it/s]\u001b[A\u001b[A\n",
      "\n",
      "11240it [00:49, 225.03it/s]\u001b[A\u001b[A\n",
      "\n",
      "11266it [00:50, 225.08it/s]\u001b[A\u001b[A\n",
      "\n",
      "11291it [00:50, 225.11it/s]\u001b[A\u001b[A"
     ]
    },
    {
     "name": "stdout",
     "output_type": "stream",
     "text": [
      "(592, 488) 5 (592, 488) 4\n"
     ]
    },
    {
     "name": "stderr",
     "output_type": "stream",
     "text": [
      "\n",
      "\n",
      "11316it [00:50, 225.15it/s]\u001b[A\u001b[A\n",
      "\n",
      "11344it [00:50, 225.24it/s]\u001b[A\u001b[A\n",
      "\n",
      "11370it [00:50, 225.29it/s]\u001b[A\u001b[A"
     ]
    },
    {
     "name": "stdout",
     "output_type": "stream",
     "text": [
      "(539, 159) 5 (539, 159) 2\n",
      "(502, 588) 5 (502, 588) 9\n",
      "(135, 547) 5 (135, 547) 3\n",
      "(318, 336) 5 (318, 336) 0\n",
      "(101, 327) 5 (101, 327) 9\n"
     ]
    },
    {
     "name": "stderr",
     "output_type": "stream",
     "text": [
      "\n",
      "\n",
      "11395it [00:50, 225.30it/s]\u001b[A\u001b[A\n",
      "\n",
      "11421it [00:50, 225.36it/s]\u001b[A\u001b[A"
     ]
    },
    {
     "name": "stdout",
     "output_type": "stream",
     "text": [
      "(45, 314) 5 (45, 314) 0\n",
      "(254, 327) 5 (254, 327) 9\n",
      "(549, 603) 5 (549, 603) 2\n"
     ]
    },
    {
     "name": "stderr",
     "output_type": "stream",
     "text": [
      "\n",
      "\n",
      "11446it [00:50, 225.35it/s]\u001b[A\u001b[A\n",
      "\n",
      "11471it [00:50, 225.38it/s]\u001b[A\u001b[A\n",
      "\n",
      "11497it [00:50, 225.44it/s]\u001b[A\u001b[A"
     ]
    },
    {
     "name": "stdout",
     "output_type": "stream",
     "text": [
      "(300, 371) 5 (300, 371) 8\n",
      "(84, 325) 5 (84, 325) 9\n"
     ]
    },
    {
     "name": "stderr",
     "output_type": "stream",
     "text": [
      "\n",
      "\n",
      "11522it [00:51, 225.45it/s]\u001b[A\u001b[A\n",
      "\n",
      "11548it [00:51, 225.51it/s]\u001b[A\u001b[A\n",
      "\n",
      "11575it [00:51, 225.58it/s]\u001b[A\u001b[A\n",
      "\n",
      "11602it [00:51, 225.65it/s]\u001b[A\u001b[A\n",
      "\n",
      "11628it [00:51, 225.71it/s]\u001b[A\u001b[A\n",
      "\n",
      "11654it [00:51, 225.76it/s]\u001b[A\u001b[A"
     ]
    },
    {
     "name": "stdout",
     "output_type": "stream",
     "text": [
      "(134, 65) 5 (134, 65) 9\n",
      "(137, 180) 5 (137, 180) 7\n",
      "(286, 462) 5 (286, 462) 2\n",
      "(41, 372) 5 (41, 372) 1\n"
     ]
    },
    {
     "name": "stderr",
     "output_type": "stream",
     "text": [
      "\n",
      "\n",
      "11680it [00:51, 225.77it/s]\u001b[A\u001b[A\n",
      "\n",
      "11705it [00:51, 225.79it/s]\u001b[A\u001b[A\n",
      "\n",
      "11730it [00:51, 225.71it/s]\u001b[A\u001b[A\n",
      "\n",
      "11753it [00:52, 225.60it/s]\u001b[A\u001b[A\n",
      "\n",
      "11775it [00:52, 225.50it/s]\u001b[A\u001b[A"
     ]
    },
    {
     "name": "stdout",
     "output_type": "stream",
     "text": [
      "(613, 421) 5 (613, 421) 3\n",
      "(515, 432) 5 (515, 432) 0\n",
      "(343, 534) 5 (343, 534) 7\n"
     ]
    },
    {
     "name": "stderr",
     "output_type": "stream",
     "text": [
      "\n",
      "\n",
      "11796it [00:52, 225.39it/s]\u001b[A\u001b[A\n",
      "\n",
      "11816it [00:52, 225.28it/s]\u001b[A\u001b[A\n",
      "\n",
      "11836it [00:52, 225.18it/s]\u001b[A\u001b[A\n",
      "\n",
      "11855it [00:52, 225.08it/s]\u001b[A\u001b[A\n",
      "\n",
      "11874it [00:52, 224.98it/s]\u001b[A\u001b[A"
     ]
    },
    {
     "name": "stdout",
     "output_type": "stream",
     "text": [
      "(642, 364) 5 (642, 364) 4\n",
      "(601, 146) 5 (601, 146) 7\n",
      "(536, 561) 5 (536, 561) 8\n"
     ]
    },
    {
     "name": "stderr",
     "output_type": "stream",
     "text": [
      "\n",
      "\n",
      "11896it [00:52, 224.97it/s]\u001b[A\u001b[A\n",
      "\n",
      "11922it [00:52, 225.03it/s]\u001b[A\u001b[A"
     ]
    },
    {
     "name": "stdout",
     "output_type": "stream",
     "text": [
      "(528, 455) 5 (528, 455) 3\n",
      "(82, 171) 5 (82, 171) 0\n",
      "(45, 535) 5 (45, 535) 6\n"
     ]
    },
    {
     "name": "stderr",
     "output_type": "stream",
     "text": [
      "\n",
      "\n",
      "11945it [00:53, 225.04it/s]\u001b[A\u001b[A\n",
      "\n",
      "11970it [00:53, 225.08it/s]\u001b[A\u001b[A\n",
      "\n",
      "11996it [00:53, 225.13it/s]\u001b[A\u001b[A"
     ]
    },
    {
     "name": "stdout",
     "output_type": "stream",
     "text": [
      "(605, 553) 5 (605, 553) 9\n",
      "(36, 209) 5 (36, 209) 9\n",
      "(536, 46) 5 (536, 46) 7\n",
      "(51, 162) 6 (51, 162) 1\n",
      "(184, 453) 6 (184, 453) 9\n",
      "(88, 379) 6 (88, 379) 2\n"
     ]
    },
    {
     "name": "stderr",
     "output_type": "stream",
     "text": [
      "\n",
      "\n",
      "12020it [00:53, 225.11it/s]\u001b[A\u001b[A\n",
      "\n",
      "12046it [00:53, 225.17it/s]\u001b[A\u001b[A\n",
      "\n",
      "12070it [00:53, 225.18it/s]\u001b[A\u001b[A"
     ]
    },
    {
     "name": "stdout",
     "output_type": "stream",
     "text": [
      "(364, 467) 6 (364, 467) 7\n",
      "(187, 614) 6 (187, 614) 0\n",
      "(101, 484) 6 (101, 484) 0\n",
      "(435, 484) 6 (435, 484) 3\n",
      "(162, 573) 6 (162, 573) 2\n"
     ]
    },
    {
     "name": "stderr",
     "output_type": "stream",
     "text": [
      "\n",
      "\n",
      "12094it [00:53, 225.09it/s]\u001b[A\u001b[A"
     ]
    },
    {
     "name": "stdout",
     "output_type": "stream",
     "text": [
      "(164, 290) 6 (164, 290) 9\n",
      "(204, 407) 6 (204, 407) 3\n",
      "(30, 348) 6 (30, 348) 9\n",
      "(556, 610) 6 (556, 610) 5\n",
      "(51, 428) 6 (51, 428) 4\n",
      "(36, 346) 6 (36, 346) 4\n",
      "(337, 595) 6 (337, 595) 5\n",
      "(209, 463) 6 (209, 463) 3\n"
     ]
    },
    {
     "name": "stderr",
     "output_type": "stream",
     "text": [
      "\n",
      "\n",
      "12117it [00:53, 224.90it/s]\u001b[A\u001b[A\n",
      "\n",
      "12139it [00:53, 224.88it/s]\u001b[A\u001b[A\n",
      "\n",
      "12163it [00:54, 224.91it/s]\u001b[A\u001b[A"
     ]
    },
    {
     "name": "stdout",
     "output_type": "stream",
     "text": [
      "(163, 461) 6 (163, 461) 1\n",
      "(247, 395) 6 (247, 395) 3\n",
      "(158, 217) 6 (158, 217) 0\n",
      "(152, 365) 6 (152, 365) 7\n",
      "(155, 561) 6 (155, 561) 5\n",
      "(272, 459) 6 (272, 459) 0\n",
      "(468, 559) 6 (468, 559) 0\n",
      "(8, 106) 6 (8, 106) 8\n",
      "(132, 369) 6 (132, 369) 7\n",
      "(125, 419) 6 (125, 419) 5\n"
     ]
    },
    {
     "name": "stderr",
     "output_type": "stream",
     "text": [
      "\n",
      "\n",
      "12185it [00:54, 224.87it/s]\u001b[A\u001b[A\n",
      "\n",
      "12207it [00:54, 224.81it/s]\u001b[A\u001b[A"
     ]
    },
    {
     "name": "stdout",
     "output_type": "stream",
     "text": [
      "(318, 327) 6 (318, 327) 1\n",
      "(388, 434) 6 (388, 434) 9\n",
      "(237, 438) 6 (237, 438) 4\n",
      "(55, 474) 6 (55, 474) 3\n",
      "(37, 343) 6 (37, 343) 7\n",
      "(345, 612) 6 (345, 612) 0\n"
     ]
    },
    {
     "name": "stderr",
     "output_type": "stream",
     "text": [
      "\n",
      "\n",
      "12228it [00:54, 224.69it/s]\u001b[A\u001b[A\n",
      "\n",
      "12248it [00:54, 224.61it/s]\u001b[A\u001b[A"
     ]
    },
    {
     "name": "stdout",
     "output_type": "stream",
     "text": [
      "(246, 597) 6 (246, 597) 2\n",
      "(346, 510) 6 (346, 510) 4\n",
      "(190, 413) 6 (190, 413) 4\n",
      "(82, 146) 6 (82, 146) 4\n",
      "(84, 212) 6 (84, 212) 0\n",
      "(79, 619) 6 (79, 619) 5\n",
      "(297, 476) 6 (297, 476) 5\n"
     ]
    },
    {
     "name": "stderr",
     "output_type": "stream",
     "text": [
      "\n",
      "\n",
      "12268it [00:54, 224.49it/s]\u001b[A\u001b[A\n",
      "\n",
      "12287it [00:54, 224.37it/s]\u001b[A\u001b[A"
     ]
    },
    {
     "name": "stdout",
     "output_type": "stream",
     "text": [
      "(272, 424) 6 (272, 424) 5\n",
      "(358, 420) 6 (358, 420) 9\n",
      "(332, 398) 6 (332, 398) 0\n",
      "(328, 556) 6 (328, 556) 7\n",
      "(205, 272) 6 (205, 272) 8\n",
      "(27, 414) 6 (27, 414) 1\n"
     ]
    },
    {
     "name": "stderr",
     "output_type": "stream",
     "text": [
      "\n",
      "\n",
      "12306it [00:54, 224.27it/s]\u001b[A\u001b[A\n",
      "\n",
      "12324it [00:54, 224.16it/s]\u001b[A\u001b[A"
     ]
    },
    {
     "name": "stdout",
     "output_type": "stream",
     "text": [
      "(139, 190) 6 (139, 190) 0\n",
      "(540, 637) 6 (540, 637) 4\n",
      "(393, 412) 6 (393, 412) 0\n"
     ]
    },
    {
     "name": "stderr",
     "output_type": "stream",
     "text": [
      "\n",
      "\n",
      "12342it [00:55, 224.03it/s]\u001b[A\u001b[A\n",
      "\n",
      "12360it [00:55, 223.93it/s]\u001b[A\u001b[A"
     ]
    },
    {
     "name": "stdout",
     "output_type": "stream",
     "text": [
      "(22, 543) 6 (22, 543) 7\n",
      "(157, 515) 6 (157, 515) 4\n",
      "(107, 253) 6 (107, 253) 8\n",
      "(305, 346) 6 (305, 346) 7\n",
      "(248, 614) 6 (248, 614) 9\n",
      "(327, 366) 6 (327, 366) 7\n",
      "(109, 309) 6 (109, 309) 7\n",
      "(149, 275) 6 (149, 275) 2\n"
     ]
    },
    {
     "name": "stderr",
     "output_type": "stream",
     "text": [
      "\n",
      "\n",
      "12378it [00:55, 223.79it/s]\u001b[A\u001b[A\n",
      "\n",
      "12397it [00:55, 223.71it/s]\u001b[A\u001b[A"
     ]
    },
    {
     "name": "stdout",
     "output_type": "stream",
     "text": [
      "(90, 225) 6 (90, 225) 3\n",
      "(215, 407) 6 (215, 407) 5\n",
      "(205, 363) 6 (205, 363) 4\n",
      "(61, 146) 6 (61, 146) 1\n",
      "(131, 594) 6 (131, 594) 1\n",
      "(50, 162) 6 (50, 162) 1\n"
     ]
    },
    {
     "name": "stderr",
     "output_type": "stream",
     "text": [
      "\n",
      "\n",
      "12415it [00:55, 223.59it/s]\u001b[A\u001b[A\n",
      "\n",
      "12433it [00:55, 223.49it/s]\u001b[A\u001b[A"
     ]
    },
    {
     "name": "stdout",
     "output_type": "stream",
     "text": [
      "(113, 563) 6 (113, 563) 8\n",
      "(142, 580) 6 (142, 580) 0\n",
      "(149, 543) 6 (149, 543) 5\n",
      "(17, 343) 6 (17, 343) 9\n",
      "(262, 460) 6 (262, 460) 3\n",
      "(22, 607) 6 (22, 607) 7\n",
      "(163, 460) 6 (163, 460) 3\n",
      "(273, 311) 6 (273, 311) 5\n",
      "(210, 438) 6 (210, 438) 7\n"
     ]
    },
    {
     "name": "stderr",
     "output_type": "stream",
     "text": [
      "\n",
      "\n",
      "12450it [00:55, 223.39it/s]\u001b[A\u001b[A\n",
      "\n",
      "12468it [00:55, 223.30it/s]\u001b[A\u001b[A"
     ]
    },
    {
     "name": "stdout",
     "output_type": "stream",
     "text": [
      "(40, 230) 6 (40, 230) 4\n",
      "(155, 369) 6 (155, 369) 0\n",
      "(61, 390) 6 (61, 390) 2\n",
      "(172, 378) 6 (172, 378) 0\n",
      "(95, 388) 6 (95, 388) 8\n",
      "(134, 614) 6 (134, 614) 1\n",
      "(62, 235) 6 (62, 235) 7\n",
      "(441, 510) 6 (441, 510) 5\n",
      "(305, 510) 6 (305, 510) 7\n"
     ]
    },
    {
     "name": "stderr",
     "output_type": "stream",
     "text": [
      "\n",
      "\n",
      "12487it [00:55, 223.23it/s]\u001b[A\u001b[A\n",
      "\n",
      "12505it [00:56, 223.14it/s]\u001b[A\u001b[A\n",
      "\n",
      "12525it [00:56, 223.09it/s]\u001b[A\u001b[A"
     ]
    },
    {
     "name": "stdout",
     "output_type": "stream",
     "text": [
      "(199, 332) 6 (199, 332) 7\n",
      "(368, 387) 6 (368, 387) 0\n",
      "(20, 495) 6 (20, 495) 1\n",
      "(392, 538) 6 (392, 538) 8\n",
      "(392, 415) 6 (392, 415) 4\n",
      "(401, 461) 6 (401, 461) 8\n",
      "(210, 478) 6 (210, 478) 4\n",
      "(30, 388) 6 (30, 388) 3\n",
      "(166, 361) 6 (166, 361) 3\n",
      "(98, 270) 6 (98, 270) 5\n",
      "(325, 559) 6 (325, 559) 1\n",
      "(172, 473) 6 (172, 473) 1\n",
      "(70, 576) 6 (70, 576) 4\n"
     ]
    },
    {
     "name": "stderr",
     "output_type": "stream",
     "text": [
      "\n",
      "\n",
      "12544it [00:56, 222.97it/s]\u001b[A\u001b[A\n",
      "\n",
      "12570it [00:56, 223.04it/s]\u001b[A\u001b[A"
     ]
    },
    {
     "name": "stdout",
     "output_type": "stream",
     "text": [
      "(312, 327) 6 (312, 327) 5\n",
      "(52, 112) 6 (52, 112) 7\n",
      "(113, 279) 6 (113, 279) 4\n",
      "(2, 27) 6 (2, 27) 7\n",
      "(48, 101) 6 (48, 101) 0\n",
      "(10, 83) 6 (10, 83) 3\n",
      "(373, 416) 6 (373, 416) 8\n",
      "(19, 592) 6 (19, 592) 0\n",
      "(66, 275) 6 (66, 275) 8\n",
      "(90, 336) 6 (90, 336) 7\n",
      "(399, 543) 6 (399, 543) 9\n"
     ]
    },
    {
     "name": "stderr",
     "output_type": "stream",
     "text": [
      "\n",
      "\n",
      "12591it [00:56, 223.01it/s]\u001b[A\u001b[A\n",
      "\n",
      "12612it [00:56, 222.91it/s]\u001b[A\u001b[A"
     ]
    },
    {
     "name": "stdout",
     "output_type": "stream",
     "text": [
      "(336, 566) 6 (336, 566) 0\n",
      "(79, 300) 6 (79, 300) 9\n",
      "(374, 383) 6 (374, 383) 0\n",
      "(281, 467) 6 (281, 467) 8\n",
      "(124, 185) 6 (124, 185) 4\n",
      "(132, 560) 6 (132, 560) 3\n",
      "(225, 533) 6 (225, 533) 3\n",
      "(187, 455) 6 (187, 455) 3\n",
      "(416, 556) 6 (416, 556) 9\n",
      "(10, 88) 6 (10, 88) 2\n",
      "(45, 235) 6 (45, 235) 0\n",
      "(218, 612) 6 (218, 612) 1\n"
     ]
    },
    {
     "name": "stderr",
     "output_type": "stream",
     "text": [
      "\n",
      "\n",
      "12632it [00:56, 222.80it/s]\u001b[A\u001b[A\n",
      "\n",
      "12651it [00:56, 222.70it/s]\u001b[A\u001b[A"
     ]
    },
    {
     "name": "stdout",
     "output_type": "stream",
     "text": [
      "(186, 390) 6 (186, 390) 8\n",
      "(188, 598) 6 (188, 598) 2\n",
      "(11, 283) 6 (11, 283) 8\n",
      "(298, 332) 6 (298, 332) 1\n",
      "(132, 289) 6 (132, 289) 5\n",
      "(233, 566) 6 (233, 566) 0\n",
      "(271, 509) 6 (271, 509) 0\n"
     ]
    },
    {
     "name": "stderr",
     "output_type": "stream",
     "text": [
      "\n",
      "\n",
      "12670it [00:56, 222.63it/s]\u001b[A\u001b[A\n",
      "\n",
      "12689it [00:57, 222.56it/s]\u001b[A\u001b[A"
     ]
    },
    {
     "name": "stdout",
     "output_type": "stream",
     "text": [
      "(225, 342) 6 (225, 342) 0\n",
      "(389, 571) 6 (389, 571) 0\n",
      "(54, 126) 6 (54, 126) 4\n",
      "(55, 183) 6 (55, 183) 5\n",
      "(40, 246) 6 (40, 246) 3\n",
      "(72, 246) 6 (72, 246) 1\n",
      "(79, 642) 6 (79, 642) 1\n",
      "(183, 424) 6 (183, 424) 7\n"
     ]
    },
    {
     "name": "stderr",
     "output_type": "stream",
     "text": [
      "\n",
      "\n",
      "12710it [00:57, 222.53it/s]\u001b[A\u001b[A\n",
      "\n",
      "12733it [00:57, 222.54it/s]\u001b[A\u001b[A"
     ]
    },
    {
     "name": "stdout",
     "output_type": "stream",
     "text": [
      "(251, 424) 6 (251, 424) 4\n",
      "(36, 52) 6 (36, 52) 1\n",
      "(161, 463) 6 (161, 463) 9\n",
      "(312, 424) 6 (312, 424) 2\n",
      "(42, 82) 6 (42, 82) 8\n"
     ]
    },
    {
     "name": "stderr",
     "output_type": "stream",
     "text": [
      "\n",
      "\n",
      "12754it [00:57, 222.50it/s]\u001b[A\u001b[A\n",
      "\n",
      "12781it [00:57, 222.58it/s]\u001b[A\u001b[A"
     ]
    },
    {
     "name": "stdout",
     "output_type": "stream",
     "text": [
      "(95, 146) 6 (95, 146) 3\n",
      "(61, 208) 6 (61, 208) 7\n",
      "(228, 351) 6 (228, 351) 4\n",
      "(105, 397) 6 (105, 397) 8\n",
      "(207, 309) 6 (207, 309) 0\n",
      "(17, 629) 6 (17, 629) 1\n",
      "(131, 410) 6 (131, 410) 2\n",
      "(228, 336) 6 (228, 336) 7\n",
      "(240, 428) 6 (240, 428) 8\n",
      "(246, 558) 6 (246, 558) 2\n",
      "(20, 284) 6 (20, 284) 7\n",
      "(378, 426) 6 (378, 426) 0\n",
      "(272, 390) 6 (272, 390) 5\n",
      "(4, 559) 6 (4, 559) 3\n",
      "(469, 535) 6 (469, 535) 1\n",
      "(70, 532) 6 (70, 532) 3\n",
      "(95, 305) 6 (95, 305) 7\n"
     ]
    },
    {
     "name": "stderr",
     "output_type": "stream",
     "text": [
      "\n",
      "\n",
      "12804it [00:57, 222.58it/s]\u001b[A\u001b[A\n",
      "\n",
      "12827it [00:57, 222.49it/s]\u001b[A\u001b[A"
     ]
    },
    {
     "name": "stdout",
     "output_type": "stream",
     "text": [
      "(487, 619) 6 (487, 619) 2\n",
      "(11, 529) 6 (11, 529) 4\n",
      "(174, 407) 6 (174, 407) 9\n",
      "(41, 52) 6 (41, 52) 1\n",
      "(298, 539) 6 (298, 539) 0\n",
      "(272, 466) 6 (272, 466) 8\n",
      "(32, 612) 6 (32, 612) 0\n",
      "(36, 370) 6 (36, 370) 9\n",
      "(294, 544) 6 (294, 544) 8\n"
     ]
    },
    {
     "name": "stderr",
     "output_type": "stream",
     "text": [
      "\n",
      "\n",
      "12848it [00:57, 222.34it/s]\u001b[A\u001b[A\n",
      "\n",
      "12868it [00:57, 222.24it/s]\u001b[A\u001b[A"
     ]
    },
    {
     "name": "stdout",
     "output_type": "stream",
     "text": [
      "(182, 541) 6 (182, 541) 5\n",
      "(150, 374) 6 (150, 374) 4\n",
      "(136, 209) 6 (136, 209) 8\n",
      "(312, 389) 6 (312, 389) 8\n",
      "(10, 262) 6 (10, 262) 4\n",
      "(290, 495) 6 (290, 495) 5\n",
      "(190, 412) 6 (190, 412) 7\n",
      "(214, 573) 6 (214, 573) 0\n",
      "(232, 510) 6 (232, 510) 9\n",
      "(343, 447) 6 (343, 447) 3\n"
     ]
    },
    {
     "name": "stderr",
     "output_type": "stream",
     "text": [
      "\n",
      "\n",
      "12887it [00:58, 222.13it/s]\u001b[A\u001b[A\n",
      "\n",
      "12906it [00:58, 221.99it/s]\u001b[A\u001b[A"
     ]
    },
    {
     "name": "stdout",
     "output_type": "stream",
     "text": [
      "(125, 273) 6 (125, 273) 3\n",
      "(131, 132) 6 (131, 132) 2\n",
      "(164, 286) 6 (164, 286) 5\n",
      "(58, 133) 6 (58, 133) 5\n",
      "(310, 379) 6 (310, 379) 7\n",
      "(97, 509) 6 (97, 509) 2\n"
     ]
    },
    {
     "name": "stderr",
     "output_type": "stream",
     "text": [
      "\n",
      "\n",
      "12924it [00:58, 221.89it/s]\u001b[A\u001b[A\n",
      "\n",
      "12943it [00:58, 221.83it/s]\u001b[A\u001b[A"
     ]
    },
    {
     "name": "stdout",
     "output_type": "stream",
     "text": [
      "(407, 467) 6 (407, 467) 9\n",
      "(37, 448) 6 (37, 448) 0\n",
      "(108, 351) 6 (108, 351) 2\n",
      "(106, 297) 6 (106, 297) 0\n",
      "(146, 149) 6 (146, 149) 0\n",
      "(235, 371) 6 (235, 371) 9\n",
      "(322, 638) 6 (322, 638) 1\n",
      "(139, 592) 6 (139, 592) 3\n"
     ]
    },
    {
     "name": "stderr",
     "output_type": "stream",
     "text": [
      "\n",
      "\n",
      "12961it [00:58, 221.71it/s]\u001b[A\u001b[A\n",
      "\n",
      "12980it [00:58, 221.64it/s]\u001b[A\u001b[A\n",
      "\n",
      "13003it [00:58, 221.65it/s]\u001b[A\u001b[A"
     ]
    },
    {
     "name": "stdout",
     "output_type": "stream",
     "text": [
      "(262, 387) 6 (262, 387) 2\n",
      "(230, 398) 6 (230, 398) 0\n",
      "(328, 419) 6 (328, 419) 0\n",
      "(20, 136) 6 (20, 136) 5\n"
     ]
    },
    {
     "name": "stderr",
     "output_type": "stream",
     "text": [
      "\n",
      "\n",
      "13025it [00:58, 221.63it/s]\u001b[A\u001b[A\n",
      "\n",
      "13049it [00:58, 221.65it/s]\u001b[A\u001b[A"
     ]
    },
    {
     "name": "stdout",
     "output_type": "stream",
     "text": [
      "(256, 387) 6 (256, 387) 0\n",
      "(281, 441) 6 (281, 441) 8\n"
     ]
    },
    {
     "name": "stderr",
     "output_type": "stream",
     "text": [
      "\n",
      "\n",
      "13070it [00:58, 221.60it/s]\u001b[A\u001b[A\n",
      "\n",
      "13091it [00:59, 221.52it/s]\u001b[A\u001b[A\n",
      "\n",
      "13111it [00:59, 221.43it/s]\u001b[A\u001b[A"
     ]
    },
    {
     "name": "stdout",
     "output_type": "stream",
     "text": [
      "(637, 561) 6 (637, 561) 9\n"
     ]
    },
    {
     "name": "stderr",
     "output_type": "stream",
     "text": [
      "\n",
      "\n",
      "13131it [00:59, 221.31it/s]\u001b[A\u001b[A\n",
      "\n",
      "13150it [00:59, 221.25it/s]\u001b[A\u001b[A\n",
      "\n",
      "13171it [00:59, 221.22it/s]\u001b[A\u001b[A\n",
      "\n",
      "13196it [00:59, 221.27it/s]\u001b[A\u001b[A\n",
      "\n",
      "13221it [00:59, 221.30it/s]\u001b[A\u001b[A"
     ]
    },
    {
     "name": "stdout",
     "output_type": "stream",
     "text": [
      "(439, 484) 6 (439, 484) 7\n"
     ]
    },
    {
     "name": "stderr",
     "output_type": "stream",
     "text": [
      "\n",
      "\n",
      "13243it [00:59, 221.20it/s]\u001b[A\u001b[A\n",
      "\n",
      "13264it [00:59, 221.12it/s]\u001b[A\u001b[A"
     ]
    },
    {
     "name": "stdout",
     "output_type": "stream",
     "text": [
      "(107, 84) 6 (107, 84) 9\n",
      "(96, 386) 6 (96, 386) 2\n"
     ]
    },
    {
     "name": "stderr",
     "output_type": "stream",
     "text": [
      "\n",
      "\n",
      "13284it [01:00, 221.05it/s]\u001b[A\u001b[A\n",
      "\n",
      "13309it [01:00, 221.10it/s]\u001b[A\u001b[A\n",
      "\n",
      "13334it [01:00, 221.14it/s]\u001b[A\u001b[A\n",
      "\n",
      "13360it [01:00, 221.20it/s]\u001b[A\u001b[A\n",
      "\n",
      "13385it [01:00, 221.23it/s]\u001b[A\u001b[A"
     ]
    },
    {
     "name": "stdout",
     "output_type": "stream",
     "text": [
      "(249, 231) 6 (249, 231) 4\n",
      "(552, 527) 6 (552, 527) 2\n",
      "(468, 439) 6 (468, 439) 7\n"
     ]
    },
    {
     "name": "stderr",
     "output_type": "stream",
     "text": [
      "\n",
      "\n",
      "13409it [01:00, 221.23it/s]\u001b[A\u001b[A\n",
      "\n",
      "13435it [01:00, 221.29it/s]\u001b[A\u001b[A"
     ]
    },
    {
     "name": "stdout",
     "output_type": "stream",
     "text": [
      "(101, 426) 6 (101, 426) 5\n",
      "(103, 361) 6 (103, 361) 3\n",
      "(137, 598) 6 (137, 598) 5\n"
     ]
    },
    {
     "name": "stderr",
     "output_type": "stream",
     "text": [
      "\n",
      "\n",
      "13459it [01:00, 221.27it/s]\u001b[A\u001b[A\n",
      "\n",
      "13482it [01:00, 221.17it/s]\u001b[A\u001b[A\n",
      "\n"
     ]
    },
    {
     "name": "stdout",
     "output_type": "stream",
     "text": [
      "(151, 289) 6 (151, 289) 7\n",
      "(133, 512) 6 (133, 512) 7\n",
      "(388, 612) 6 (388, 612) 8\n"
     ]
    },
    {
     "name": "stderr",
     "output_type": "stream",
     "text": [
      "13504it [01:01, 221.09it/s]\u001b[A\u001b[A\n",
      "\n",
      "13525it [01:01, 221.00it/s]\u001b[A\u001b[A\n",
      "\n",
      "13545it [01:01, 220.92it/s]\u001b[A\u001b[A"
     ]
    },
    {
     "name": "stdout",
     "output_type": "stream",
     "text": [
      "(303, 96) 6 (303, 96) 8\n",
      "(527, 594) 6 (527, 594) 7\n",
      "(374, 399) 6 (374, 399) 9\n",
      "(148, 213) 6 (148, 213) 3\n",
      "(432, 460) 6 (432, 460) 8\n"
     ]
    },
    {
     "name": "stderr",
     "output_type": "stream",
     "text": [
      "\n",
      "\n",
      "13565it [01:01, 220.81it/s]\u001b[A\u001b[A\n",
      "\n",
      "13584it [01:01, 220.74it/s]\u001b[A\u001b[A\n",
      "\n",
      "13603it [01:01, 220.68it/s]\u001b[A\u001b[A"
     ]
    },
    {
     "name": "stdout",
     "output_type": "stream",
     "text": [
      "(90, 586) 6 (90, 586) 4\n"
     ]
    },
    {
     "name": "stderr",
     "output_type": "stream",
     "text": [
      "\n",
      "\n",
      "13622it [01:01, 220.56it/s]\u001b[A\u001b[A\n",
      "\n",
      "13641it [01:01, 220.49it/s]\u001b[A\u001b[A\n",
      "\n",
      "13661it [01:01, 220.44it/s]\u001b[A\u001b[A"
     ]
    },
    {
     "name": "stdout",
     "output_type": "stream",
     "text": [
      "(422, 112) 6 (422, 112) 0\n",
      "(114, 332) 6 (114, 332) 8\n",
      "(265, 380) 6 (265, 380) 3\n",
      "(88, 415) 6 (88, 415) 7\n"
     ]
    },
    {
     "name": "stderr",
     "output_type": "stream",
     "text": [
      "\n",
      "\n",
      "13680it [01:02, 220.34it/s]\u001b[A\u001b[A\n",
      "\n",
      "13698it [01:02, 220.26it/s]\u001b[A\u001b[A"
     ]
    },
    {
     "name": "stdout",
     "output_type": "stream",
     "text": [
      "(507, 254) 6 (507, 254) 7\n",
      "(15, 262) 6 (15, 262) 0\n",
      "(63, 31) 6 (63, 31) 8\n"
     ]
    },
    {
     "name": "stderr",
     "output_type": "stream",
     "text": [
      "\n",
      "\n",
      "13716it [01:02, 220.17it/s]\u001b[A\u001b[A\n",
      "\n",
      "13734it [01:02, 220.10it/s]\u001b[A\u001b[A"
     ]
    },
    {
     "name": "stdout",
     "output_type": "stream",
     "text": [
      "(186, 494) 6 (186, 494) 5\n",
      "(272, 428) 6 (272, 428) 4\n",
      "(226, 510) 6 (226, 510) 9\n"
     ]
    },
    {
     "name": "stderr",
     "output_type": "stream",
     "text": [
      "\n",
      "\n",
      "13752it [01:02, 220.01it/s]\u001b[A\u001b[A\n",
      "\n",
      "13771it [01:02, 219.97it/s]\u001b[A\u001b[A\n",
      "\n",
      "13790it [01:02, 219.90it/s]\u001b[A\u001b[A"
     ]
    },
    {
     "name": "stdout",
     "output_type": "stream",
     "text": [
      "(183, 436) 6 (183, 436) 2\n",
      "(297, 322) 6 (297, 322) 7\n"
     ]
    },
    {
     "name": "stderr",
     "output_type": "stream",
     "text": [
      "\n",
      "\n",
      "13808it [01:02, 219.78it/s]\u001b[A\u001b[A\n",
      "\n",
      "13828it [01:02, 219.74it/s]\u001b[A\u001b[A\n",
      "\n",
      "13853it [01:03, 219.78it/s]\u001b[A\u001b[A\n",
      "\n",
      "13873it [01:03, 219.71it/s]\u001b[A\u001b[A"
     ]
    },
    {
     "name": "stdout",
     "output_type": "stream",
     "text": [
      "(640, 442) 6 (640, 442) 0\n"
     ]
    },
    {
     "name": "stderr",
     "output_type": "stream",
     "text": [
      "\n",
      "\n",
      "13893it [01:03, 219.63it/s]\u001b[A\u001b[A\n",
      "\n",
      "13913it [01:03, 219.59it/s]\u001b[A\u001b[A\n",
      "\n",
      "13937it [01:03, 219.61it/s]\u001b[A\u001b[A"
     ]
    },
    {
     "name": "stdout",
     "output_type": "stream",
     "text": [
      "(25, 285) 6 (25, 285) 1\n",
      "(310, 636) 6 (310, 636) 8\n",
      "(597, 49) 6 (597, 49) 8\n"
     ]
    },
    {
     "name": "stderr",
     "output_type": "stream",
     "text": [
      "\n",
      "\n",
      "13958it [01:03, 219.52it/s]\u001b[A\u001b[A"
     ]
    },
    {
     "name": "stdout",
     "output_type": "stream",
     "text": [
      "(312, 85) 6 (312, 85) 9\n"
     ]
    },
    {
     "name": "stderr",
     "output_type": "stream",
     "text": [
      "\n",
      "\n",
      "13978it [01:03, 219.44it/s]\u001b[A\u001b[A\n",
      "\n",
      "13997it [01:03, 219.38it/s]\u001b[A\u001b[A"
     ]
    },
    {
     "name": "stdout",
     "output_type": "stream",
     "text": [
      "(62, 133) 6 (62, 133) 9\n",
      "(17, 52) 7 (17, 52) 2\n",
      "(132, 289) 7 (132, 289) 5\n"
     ]
    },
    {
     "name": "stderr",
     "output_type": "stream",
     "text": [
      "\n",
      "\n",
      "14016it [01:03, 219.30it/s]\u001b[A\u001b[A\n",
      "\n",
      "14036it [01:04, 219.27it/s]\u001b[A\u001b[A"
     ]
    },
    {
     "name": "stdout",
     "output_type": "stream",
     "text": [
      "(100, 346) 7 (100, 346) 9\n",
      "(187, 349) 7 (187, 349) 1\n",
      "(246, 336) 7 (246, 336) 4\n",
      "(420, 520) 7 (420, 520) 9\n",
      "(22, 218) 7 (22, 218) 0\n",
      "(17, 252) 7 (17, 252) 2\n",
      "(194, 387) 7 (194, 387) 9\n"
     ]
    },
    {
     "name": "stderr",
     "output_type": "stream",
     "text": [
      "\n",
      "\n",
      "14055it [01:04, 219.16it/s]\u001b[A\u001b[A\n",
      "\n",
      "14074it [01:04, 219.10it/s]\u001b[A\u001b[A"
     ]
    },
    {
     "name": "stdout",
     "output_type": "stream",
     "text": [
      "(288, 444) 7 (288, 444) 1\n",
      "(97, 146) 7 (97, 146) 4\n",
      "(91, 450) 7 (91, 450) 8\n",
      "(137, 296) 7 (137, 296) 9\n",
      "(545, 622) 7 (545, 622) 1\n",
      "(262, 296) 7 (262, 296) 8\n",
      "(308, 378) 7 (308, 378) 2\n",
      "(149, 374) 7 (149, 374) 3\n",
      "(124, 185) 7 (124, 185) 4\n",
      "(51, 487) 7 (51, 487) 9\n"
     ]
    },
    {
     "name": "stderr",
     "output_type": "stream",
     "text": [
      "\n",
      "\n",
      "14092it [01:04, 219.00it/s]\u001b[A\u001b[A\n",
      "\n",
      "14110it [01:04, 218.93it/s]\u001b[A\u001b[A\n",
      "\n",
      "14129it [01:04, 218.87it/s]\u001b[A\u001b[A"
     ]
    },
    {
     "name": "stdout",
     "output_type": "stream",
     "text": [
      "(155, 172) 7 (155, 172) 3\n",
      "(345, 389) 7 (345, 389) 0\n",
      "(199, 328) 7 (199, 328) 0\n",
      "(336, 401) 7 (336, 401) 9\n",
      "(185, 199) 7 (185, 199) 4\n"
     ]
    },
    {
     "name": "stderr",
     "output_type": "stream",
     "text": [
      "\n",
      "\n",
      "14147it [01:04, 218.77it/s]\u001b[A\u001b[A\n",
      "\n",
      "14170it [01:04, 218.78it/s]\u001b[A\u001b[A"
     ]
    },
    {
     "name": "stdout",
     "output_type": "stream",
     "text": [
      "(40, 567) 7 (40, 567) 2\n",
      "(247, 365) 7 (247, 365) 1\n",
      "(51, 155) 7 (51, 155) 6\n",
      "(246, 371) 7 (246, 371) 2\n",
      "(166, 216) 7 (166, 216) 1\n",
      "(257, 388) 7 (257, 388) 0\n",
      "(221, 305) 7 (221, 305) 3\n",
      "(287, 373) 7 (287, 373) 3\n",
      "(237, 413) 7 (237, 413) 0\n",
      "(61, 346) 7 (61, 346) 4\n"
     ]
    },
    {
     "name": "stderr",
     "output_type": "stream",
     "text": [
      "\n",
      "\n",
      "14195it [01:04, 218.83it/s]\u001b[A\u001b[A\n",
      "\n",
      "14220it [01:04, 218.86it/s]\u001b[A\u001b[A"
     ]
    },
    {
     "name": "stdout",
     "output_type": "stream",
     "text": [
      "(186, 380) 7 (186, 380) 2\n",
      "(257, 271) 7 (257, 271) 2\n",
      "(363, 397) 7 (363, 397) 6\n",
      "(155, 413) 7 (155, 413) 6\n",
      "(107, 327) 7 (107, 327) 8\n",
      "(225, 584) 7 (225, 584) 9\n",
      "(2, 286) 7 (2, 286) 2\n",
      "(168, 629) 7 (168, 629) 2\n",
      "(333, 444) 7 (333, 444) 1\n",
      "(397, 403) 7 (397, 403) 0\n",
      "(113, 352) 7 (113, 352) 5\n"
     ]
    },
    {
     "name": "stderr",
     "output_type": "stream",
     "text": [
      "\n",
      "\n",
      "14242it [01:05, 218.81it/s]\u001b[A\u001b[A\n",
      "\n",
      "14263it [01:05, 218.72it/s]\u001b[A\u001b[A"
     ]
    },
    {
     "name": "stdout",
     "output_type": "stream",
     "text": [
      "(88, 133) 7 (88, 133) 5\n",
      "(167, 512) 7 (167, 512) 3\n",
      "(139, 253) 7 (139, 253) 5\n",
      "(21, 335) 7 (21, 335) 1\n",
      "(327, 343) 7 (327, 343) 1\n",
      "(309, 419) 7 (309, 419) 1\n",
      "(21, 305) 7 (21, 305) 0\n",
      "(128, 190) 7 (128, 190) 2\n",
      "(186, 383) 7 (186, 383) 6\n",
      "(50, 334) 7 (50, 334) 1\n",
      "(149, 462) 7 (149, 462) 4\n",
      "(30, 420) 7 (30, 420) 0\n"
     ]
    },
    {
     "name": "stderr",
     "output_type": "stream",
     "text": [
      "\n",
      "\n",
      "14285it [01:05, 218.71it/s]\u001b[A\u001b[A\n",
      "\n",
      "14309it [01:05, 218.73it/s]\u001b[A\u001b[A"
     ]
    },
    {
     "name": "stdout",
     "output_type": "stream",
     "text": [
      "(33, 293) 7 (33, 293) 5\n",
      "(134, 138) 7 (134, 138) 6\n",
      "(152, 458) 7 (152, 458) 1\n",
      "(274, 467) 7 (274, 467) 2\n"
     ]
    },
    {
     "name": "stderr",
     "output_type": "stream",
     "text": [
      "\n",
      "\n",
      "14331it [01:05, 218.64it/s]\u001b[A\u001b[A\n",
      "\n",
      "14351it [01:05, 218.58it/s]\u001b[A\u001b[A"
     ]
    },
    {
     "name": "stdout",
     "output_type": "stream",
     "text": [
      "(300, 407) 7 (300, 407) 6\n",
      "(342, 388) 7 (342, 388) 1\n",
      "(345, 375) 7 (345, 375) 0\n",
      "(345, 430) 7 (345, 430) 5\n",
      "(36, 237) 7 (36, 237) 1\n",
      "(203, 392) 7 (203, 392) 6\n",
      "(41, 430) 7 (41, 430) 6\n",
      "(95, 458) 7 (95, 458) 2\n"
     ]
    },
    {
     "name": "stderr",
     "output_type": "stream",
     "text": [
      "\n",
      "\n",
      "14371it [01:05, 218.53it/s]\u001b[A\u001b[A\n",
      "\n",
      "14394it [01:05, 218.53it/s]\u001b[A\u001b[A\n",
      "\n",
      "14420it [01:05, 218.59it/s]\u001b[A\u001b[A"
     ]
    },
    {
     "name": "stdout",
     "output_type": "stream",
     "text": [
      "(95, 388) 7 (95, 388) 8\n",
      "(278, 392) 7 (278, 392) 9\n",
      "(62, 327) 7 (62, 327) 3\n",
      "(260, 335) 7 (260, 335) 5\n",
      "(43, 309) 7 (43, 309) 6\n",
      "(11, 180) 7 (11, 180) 1\n",
      "(290, 438) 7 (290, 438) 8\n",
      "(37, 257) 7 (37, 257) 4\n"
     ]
    },
    {
     "name": "stderr",
     "output_type": "stream",
     "text": [
      "\n",
      "\n",
      "14444it [01:06, 218.62it/s]\u001b[A\u001b[A\n",
      "\n",
      "14468it [01:06, 218.65it/s]\u001b[A\u001b[A"
     ]
    },
    {
     "name": "stdout",
     "output_type": "stream",
     "text": [
      "(422, 466) 7 (422, 466) 2\n",
      "(270, 483) 7 (270, 483) 2\n",
      "(209, 430) 7 (209, 430) 8\n",
      "(295, 309) 7 (295, 309) 2\n",
      "(162, 510) 7 (162, 510) 3\n",
      "(259, 287) 7 (259, 287) 8\n",
      "(183, 248) 7 (183, 248) 1\n",
      "(33, 327) 7 (33, 327) 4\n",
      "(213, 348) 7 (213, 348) 2\n"
     ]
    },
    {
     "name": "stderr",
     "output_type": "stream",
     "text": [
      "\n",
      "\n",
      "14491it [01:06, 218.56it/s]\u001b[A\u001b[A"
     ]
    },
    {
     "name": "stdout",
     "output_type": "stream",
     "text": [
      "(312, 613) 7 (312, 613) 5\n",
      "(459, 580) 7 (459, 580) 2\n"
     ]
    },
    {
     "name": "stderr",
     "output_type": "stream",
     "text": [
      "\n",
      "\n",
      "14513it [01:06, 218.46it/s]\u001b[A\u001b[A\n",
      "\n",
      "14533it [01:06, 218.40it/s]\u001b[A\u001b[A"
     ]
    },
    {
     "name": "stdout",
     "output_type": "stream",
     "text": [
      "(62, 467) 7 (62, 467) 1\n",
      "(127, 502) 7 (127, 502) 5\n",
      "(298, 591) 7 (298, 591) 1\n",
      "(97, 246) 7 (97, 246) 9\n"
     ]
    },
    {
     "name": "stderr",
     "output_type": "stream",
     "text": [
      "\n",
      "\n",
      "14554it [01:06, 218.37it/s]\u001b[A\u001b[A\n",
      "\n",
      "14577it [01:06, 218.39it/s]\u001b[A\u001b[A\n",
      "\n",
      "14599it [01:06, 218.39it/s]\u001b[A\u001b[A"
     ]
    },
    {
     "name": "stdout",
     "output_type": "stream",
     "text": [
      "(209, 378) 7 (209, 378) 9\n",
      "(182, 352) 7 (182, 352) 5\n",
      "(205, 284) 7 (205, 284) 3\n",
      "(208, 287) 7 (208, 287) 9\n",
      "(270, 416) 7 (270, 416) 2\n",
      "(165, 607) 7 (165, 607) 6\n",
      "(52, 540)"
     ]
    },
    {
     "name": "stderr",
     "output_type": "stream",
     "text": [
      "\n",
      "\n",
      "14620it [01:06, 218.36it/s]\u001b[A\u001b[A\n",
      "\n",
      "14646it [01:07, 218.41it/s]\u001b[A\u001b[A"
     ]
    },
    {
     "name": "stdout",
     "output_type": "stream",
     "text": [
      " 7 (52, 540) 3\n",
      "(49, 467) 7 (49, 467) 0\n",
      "(161, 612) 7 (161, 612) 6\n",
      "(210, 478) 7 (210, 478) 4\n",
      "(72, 83) 7 (72, 83) 1\n",
      "(97, 636) 7 (97, 636) 2\n",
      "(363, 401) 7 (363, 401) 9\n"
     ]
    },
    {
     "name": "stderr",
     "output_type": "stream",
     "text": [
      "\n",
      "\n",
      "14669it [01:07, 218.38it/s]\u001b[A\u001b[A\n",
      "\n",
      "14696it [01:07, 218.45it/s]\u001b[A\u001b[A"
     ]
    },
    {
     "name": "stdout",
     "output_type": "stream",
     "text": [
      "(407, 563) 7 (407, 563) 4\n",
      "(612, 638) 7 (612, 638) 8\n",
      "(419, 449) 7 (419, 449) 2\n",
      "(167, 521) 7 (167, 521) 0\n",
      "(187, 293) 7 (187, 293) 5\n",
      "(38, 362) 7 (38, 362) 1\n",
      "(25, 380) 7 (25, 380) 8\n",
      "(460, 491) 7 (460, 491) 3\n",
      "(392, 460) 7 (392, 460) 0\n",
      "(293, 576) 7 (293, 576) 2\n"
     ]
    },
    {
     "name": "stderr",
     "output_type": "stream",
     "text": [
      "\n",
      "\n",
      "14719it [01:07, 218.44it/s]\u001b[A\u001b[A\n",
      "\n",
      "14744it [01:07, 218.48it/s]\u001b[A\u001b[A"
     ]
    },
    {
     "name": "stdout",
     "output_type": "stream",
     "text": [
      "(126, 346) 7 (126, 346) 1\n",
      "(383, 599) 7 (383, 599) 1\n",
      "(303, 401) 7 (303, 401) 0\n",
      "(54, 397) 7 (54, 397) 5\n",
      "(297, 550) 7 (297, 550) 5\n",
      "(61, 108) 7 (61, 108) 8\n",
      "(336, 339) 7 (336, 339) 3\n"
     ]
    },
    {
     "name": "stderr",
     "output_type": "stream",
     "text": [
      "\n",
      "\n",
      "14767it [01:07, 218.43it/s]\u001b[A\u001b[A\n",
      "\n",
      "14789it [01:07, 218.42it/s]\u001b[A\u001b[A"
     ]
    },
    {
     "name": "stdout",
     "output_type": "stream",
     "text": [
      "(67, 205) 7 (67, 205) 4\n",
      "(54, 378) 7 (54, 378) 2\n",
      "(238, 561) 7 (238, 561) 2\n",
      "(342, 638) 7 (342, 638) 4\n",
      "(136, 149) 7 (136, 149) 9\n",
      "(33, 307) 7 (33, 307) 3\n",
      "(213, 627) 7 (213, 627) 0\n",
      "(467, 527) 7 (467, 527) 4\n",
      "(295, 405) 7 (295, 405) 9\n",
      "(80, 305) 7 (80, 305) 6\n",
      "(322, 380) 7 (322, 380) 1\n"
     ]
    },
    {
     "name": "stderr",
     "output_type": "stream",
     "text": [
      "\n",
      "\n",
      "14811it [01:07, 218.37it/s]\u001b[A\u001b[A\n",
      "\n",
      "14832it [01:07, 218.34it/s]\u001b[A\u001b[A"
     ]
    },
    {
     "name": "stdout",
     "output_type": "stream",
     "text": [
      "(383, 563) 7 (383, 563) 9\n",
      "(146, 390) 7 (146, 390) 2\n",
      "(262, 541) 7 (262, 541) 0\n",
      "(383, 424) 7 (383, 424) 1\n",
      "(401, 474) 7 (401, 474) 0\n",
      "(281, 335) 7 (281, 335) 9\n",
      "(136, 441) 7 (136, 441) 6\n",
      "(244, 270) 7 (244, 270) 0\n",
      "(67, 334) 7 (67, 334) 4\n",
      "(199, 460) 7 (199, 460) 9\n",
      "(558, 637) 7 (558, 637) 2\n"
     ]
    },
    {
     "name": "stderr",
     "output_type": "stream",
     "text": [
      "\n",
      "\n",
      "14853it [01:08, 218.27it/s]\u001b[A\u001b[A\n",
      "\n",
      "14873it [01:08, 218.23it/s]\u001b[A\u001b[A"
     ]
    },
    {
     "name": "stdout",
     "output_type": "stream",
     "text": [
      "(205, 430) 7 (205, 430) 2\n",
      "(80, 365) 7 (80, 365) 9\n",
      "(32, 540) 7 (32, 540) 6\n",
      "(104, 510) 7 (104, 510) 5\n",
      "(389, 571) 7 (389, 571) 0\n",
      "(94, 188) 7 (94, 188) 2\n"
     ]
    },
    {
     "name": "stderr",
     "output_type": "stream",
     "text": [
      "\n",
      "\n",
      "14893it [01:08, 218.19it/s]\u001b[A\u001b[A\n",
      "\n",
      "14913it [01:08, 218.12it/s]\u001b[A\u001b[A"
     ]
    },
    {
     "name": "stdout",
     "output_type": "stream",
     "text": [
      "(8, 365) 7 (8, 365) 2\n",
      "(83, 318) 7 (83, 318) 9\n",
      "(64, 217) 7 (64, 217) 8\n",
      "(174, 322) 7 (174, 322) 8\n",
      "(374, 387) 7 (374, 387) 1\n",
      "(261, 478) 7 (261, 478) 5\n",
      "(208, 322) 7 (208, 322) 9\n",
      "(228, 270) 7 (228, 270) 1\n",
      "(305, 467) 7 (305, 467) 5\n"
     ]
    },
    {
     "name": "stderr",
     "output_type": "stream",
     "text": [
      "\n",
      "\n",
      "14932it [01:08, 218.08it/s]\u001b[A\u001b[A\n",
      "\n",
      "14952it [01:08, 218.04it/s]\u001b[A\u001b[A"
     ]
    },
    {
     "name": "stdout",
     "output_type": "stream",
     "text": [
      "(430, 627) 7 (430, 627) 1\n",
      "(252, 365) 7 (252, 365) 0\n",
      "(67, 157) 7 (67, 157) 9\n",
      "(133, 610) 7 (133, 610) 3\n",
      "(349, 467) 7 (349, 467) 5\n",
      "(200, 305) 7 (200, 305) 3\n",
      "(283, 374) 7 (283, 374) 2\n"
     ]
    },
    {
     "name": "stderr",
     "output_type": "stream",
     "text": [
      "\n",
      "\n",
      "14974it [01:08, 218.03it/s]\u001b[A\u001b[A\n",
      "\n",
      "14994it [01:08, 218.00it/s]\u001b[A\u001b[A\n",
      "\n",
      "15016it [01:08, 218.00it/s]\u001b[A\u001b[A"
     ]
    },
    {
     "name": "stdout",
     "output_type": "stream",
     "text": [
      "(358, 392) 7 (358, 392) 4\n",
      "(95, 639) 7 (95, 639) 6\n",
      "(42, 72) 7 (42, 72) 8\n",
      "(40, 328) 7 (40, 328) 5\n",
      "(83, 157) 7 (83, 157) 5\n",
      "(107, 639) 7 (107, 639) 1\n"
     ]
    },
    {
     "name": "stderr",
     "output_type": "stream",
     "text": [
      "\n",
      "\n",
      "15037it [01:08, 217.96it/s]\u001b[A\u001b[A\n",
      "\n",
      "15057it [01:09, 217.92it/s]\u001b[A\u001b[A\n",
      "\n",
      "15077it [01:09, 217.88it/s]\u001b[A\u001b[A\n",
      "\n"
     ]
    },
    {
     "name": "stdout",
     "output_type": "stream",
     "text": [
      "(347, 562) 7 (347, 562) 2\n",
      "(266, 356) 7 (266, 356) 0\n"
     ]
    },
    {
     "name": "stderr",
     "output_type": "stream",
     "text": [
      "15098it [01:09, 217.86it/s]\u001b[A\u001b[A\n",
      "\n",
      "15120it [01:09, 217.86it/s]\u001b[A\u001b[A\n",
      "\n",
      "15144it [01:09, 217.89it/s]\u001b[A\u001b[A\n",
      "\n",
      "15168it [01:09, 217.91it/s]\u001b[A\u001b[A"
     ]
    },
    {
     "name": "stdout",
     "output_type": "stream",
     "text": [
      "(3, 327) 7 (3, 327) 2\n",
      "(172, 622) 7 (172, 622) 2\n"
     ]
    },
    {
     "ename": "KeyboardInterrupt",
     "evalue": "",
     "output_type": "error",
     "traceback": [
      "\u001b[0;31m---------------------------------------------------------------------------\u001b[0m",
      "\u001b[0;31mKeyboardInterrupt\u001b[0m                         Traceback (most recent call last)",
      "\u001b[0;32m<ipython-input-55-aa4529ee0ff5>\u001b[0m in \u001b[0;36m<module>\u001b[0;34m()\u001b[0m\n\u001b[1;32m      2\u001b[0m \u001b[0;32mfor\u001b[0m \u001b[0mi\u001b[0m\u001b[0;34m,\u001b[0m \u001b[0mpair\u001b[0m \u001b[0;32min\u001b[0m \u001b[0mtqdm\u001b[0m\u001b[0;34m.\u001b[0m\u001b[0mtqdm\u001b[0m\u001b[0;34m(\u001b[0m\u001b[0menumerate\u001b[0m\u001b[0;34m(\u001b[0m\u001b[0mtrain_indices\u001b[0m\u001b[0;34m)\u001b[0m\u001b[0;34m)\u001b[0m\u001b[0;34m:\u001b[0m\u001b[0;34m\u001b[0m\u001b[0m\n\u001b[1;32m      3\u001b[0m     \u001b[0mflag\u001b[0m \u001b[0;34m=\u001b[0m \u001b[0mFalse\u001b[0m\u001b[0;34m\u001b[0m\u001b[0m\n\u001b[0;32m----> 4\u001b[0;31m     \u001b[0;32mfor\u001b[0m \u001b[0mj\u001b[0m\u001b[0;34m,\u001b[0m \u001b[0mpair2\u001b[0m \u001b[0;32min\u001b[0m \u001b[0menumerate\u001b[0m\u001b[0;34m(\u001b[0m\u001b[0mtest_indices\u001b[0m\u001b[0;34m)\u001b[0m\u001b[0;34m:\u001b[0m\u001b[0;34m\u001b[0m\u001b[0m\n\u001b[0m\u001b[1;32m      5\u001b[0m         \u001b[0;32mif\u001b[0m \u001b[0mpair\u001b[0m\u001b[0;34m[\u001b[0m\u001b[0;36m0\u001b[0m\u001b[0;34m]\u001b[0m \u001b[0;34m==\u001b[0m \u001b[0mpair2\u001b[0m\u001b[0;34m[\u001b[0m\u001b[0;36m0\u001b[0m\u001b[0;34m]\u001b[0m \u001b[0;32mand\u001b[0m \u001b[0mpair\u001b[0m\u001b[0;34m[\u001b[0m\u001b[0;36m1\u001b[0m\u001b[0;34m]\u001b[0m \u001b[0;34m==\u001b[0m \u001b[0mpair2\u001b[0m\u001b[0;34m[\u001b[0m\u001b[0;36m1\u001b[0m\u001b[0;34m]\u001b[0m\u001b[0;34m:\u001b[0m\u001b[0;34m\u001b[0m\u001b[0m\n\u001b[1;32m      6\u001b[0m             \u001b[0;32mprint\u001b[0m \u001b[0mpair\u001b[0m\u001b[0;34m,\u001b[0m \u001b[0my_train\u001b[0m\u001b[0;34m[\u001b[0m\u001b[0mi\u001b[0m\u001b[0;34m]\u001b[0m\u001b[0;34m,\u001b[0m \u001b[0mpair2\u001b[0m\u001b[0;34m,\u001b[0m \u001b[0my_test\u001b[0m\u001b[0;34m[\u001b[0m\u001b[0mj\u001b[0m\u001b[0;34m]\u001b[0m\u001b[0;34m\u001b[0m\u001b[0m\n",
      "\u001b[0;31mKeyboardInterrupt\u001b[0m: "
     ]
    }
   ],
   "source": [
    "c=0\n",
    "for i, pair in tqdm.tqdm(enumerate(train_indices)):\n",
    "    flag = False\n",
    "    for j, pair2 in enumerate(test_indices):\n",
    "        if pair[0] == pair2[0] and pair[1] == pair2[1]:\n",
    "            print pair, y_train[i], pair2, y_test[j]\n",
    "            c +=1\n",
    "            break\n",
    "    #if flag\n",
    "            #print pair, y_train[i], pair2 y_test[j]\n",
    "            #break\n",
    "print c"
   ]
  },
  {
   "cell_type": "code",
   "execution_count": 69,
   "metadata": {},
   "outputs": [
    {
     "name": "stdout",
     "output_type": "stream",
     "text": [
      "(645, 100)\n",
      "(645, 645)\n"
     ]
    }
   ],
   "source": [
    "print emb.shape\n",
    "print product_train.shape\n",
    "print ite"
   ]
  },
  {
   "cell_type": "code",
   "execution_count": 72,
   "metadata": {},
   "outputs": [
    {
     "name": "stderr",
     "output_type": "stream",
     "text": [
      "\n",
      "  0%|          | 0/15 [00:00<?, ?it/s]\u001b[A\n",
      "  7%|▋         | 1/15 [00:00<00:01,  8.82it/s]\u001b[A"
     ]
    },
    {
     "name": "stdout",
     "output_type": "stream",
     "text": [
      "DIM: 0\n"
     ]
    },
    {
     "name": "stderr",
     "output_type": "stream",
     "text": [
      "\n",
      " 20%|██        | 3/15 [00:00<00:01, 10.73it/s]\u001b[A\n",
      " 33%|███▎      | 5/15 [00:00<00:00, 11.14it/s]\u001b[A\n",
      " 47%|████▋     | 7/15 [00:00<00:00, 11.27it/s]\u001b[A\n",
      " 60%|██████    | 9/15 [00:00<00:00, 11.32it/s]\u001b[A\n",
      " 73%|███████▎  | 11/15 [00:00<00:00, 11.29it/s]\u001b[A\n",
      "\n",
      " 87%|████████▋ | 13/15 [00:01<00:00, 11.24it/s]\u001b[A\n",
      "100%|██████████| 15/15 [00:01<00:00, 11.25it/s]\u001b[A\n",
      "\u001b[A"
     ]
    },
    {
     "data": {
      "image/png": "[encoded data removed]",
      "text/plain": [
       "<Figure size 432x288 with 1 Axes>"
      ]
     },
     "metadata": {},
     "output_type": "display_data"
    },
    {
     "name": "stderr",
     "output_type": "stream",
     "text": [
      " 27%|██▋       | 4/15 [00:00<00:00, 38.64it/s]"
     ]
    },
    {
     "name": "stdout",
     "output_type": "stream",
     "text": [
      "DIM: 1\n"
     ]
    },
    {
     "name": "stderr",
     "output_type": "stream",
     "text": [
      "100%|██████████| 15/15 [00:00<00:00, 36.45it/s]\n"
     ]
    },
    {
     "data": {
      "image/png": "[encoded data removed]",
      "text/plain": [
       "<Figure size 432x288 with 1 Axes>"
      ]
     },
     "metadata": {},
     "output_type": "display_data"
    },
    {
     "name": "stderr",
     "output_type": "stream",
     "text": [
      "\r",
      "  0%|          | 0/15 [00:00<?, ?it/s]"
     ]
    },
    {
     "name": "stdout",
     "output_type": "stream",
     "text": [
      "DIM: 2\n"
     ]
    },
    {
     "name": "stderr",
     "output_type": "stream",
     "text": [
      "100%|██████████| 15/15 [00:23<00:00,  1.55s/it]\n"
     ]
    },
    {
     "data": {
      "image/png": "[encoded data removed]",
      "text/plain": [
       "<Figure size 432x288 with 1 Axes>"
      ]
     },
     "metadata": {},
     "output_type": "display_data"
    },
    {
     "name": "stderr",
     "output_type": "stream",
     "text": [
      " 13%|█▎        | 2/15 [00:00<00:00, 13.50it/s]"
     ]
    },
    {
     "name": "stdout",
     "output_type": "stream",
     "text": [
      "DIM: 3\n"
     ]
    },
    {
     "name": "stderr",
     "output_type": "stream",
     "text": [
      "100%|██████████| 15/15 [00:01<00:00, 12.33it/s]\n"
     ]
    },
    {
     "data": {
      "image/png": "[encoded data removed]",
      "text/plain": [
       "<Figure size 432x288 with 1 Axes>"
      ]
     },
     "metadata": {},
     "output_type": "display_data"
    },
    {
     "name": "stderr",
     "output_type": "stream",
     "text": [
      "\r",
      "  0%|          | 0/15 [00:00<?, ?it/s]"
     ]
    },
    {
     "name": "stdout",
     "output_type": "stream",
     "text": [
      "DIM: 4\n"
     ]
    },
    {
     "name": "stderr",
     "output_type": "stream",
     "text": [
      "100%|██████████| 15/15 [00:36<00:00,  2.45s/it]\n"
     ]
    },
    {
     "data": {
      "image/png": "[encoded data removed]",
      "text/plain": [
       "<Figure size 432x288 with 1 Axes>"
      ]
     },
     "metadata": {},
     "output_type": "display_data"
    },
    {
     "name": "stderr",
     "output_type": "stream",
     "text": [
      "\r",
      "  0%|          | 0/15 [00:00<?, ?it/s]"
     ]
    },
    {
     "name": "stdout",
     "output_type": "stream",
     "text": [
      "DIM: 5\n"
     ]
    },
    {
     "name": "stderr",
     "output_type": "stream",
     "text": [
      "100%|██████████| 15/15 [00:24<00:00,  1.60s/it]\n"
     ]
    },
    {
     "data": {
      "image/png": "[encoded data removed]",
      "text/plain": [
       "<Figure size 432x288 with 1 Axes>"
      ]
     },
     "metadata": {},
     "output_type": "display_data"
    },
    {
     "name": "stderr",
     "output_type": "stream",
     "text": [
      "\r",
      "  0%|          | 0/15 [00:00<?, ?it/s]"
     ]
    },
    {
     "name": "stdout",
     "output_type": "stream",
     "text": [
      "DIM: 6\n"
     ]
    },
    {
     "name": "stderr",
     "output_type": "stream",
     "text": [
      "100%|██████████| 15/15 [00:26<00:00,  1.79s/it]\n"
     ]
    },
    {
     "data": {
      "image/png": "[encoded data removed]",
      "text/plain": [
       "<Figure size 432x288 with 1 Axes>"
      ]
     },
     "metadata": {},
     "output_type": "display_data"
    },
    {
     "name": "stderr",
     "output_type": "stream",
     "text": [
      "\r",
      "  0%|          | 0/15 [00:00<?, ?it/s]"
     ]
    },
    {
     "name": "stdout",
     "output_type": "stream",
     "text": [
      "DIM: 7\n"
     ]
    },
    {
     "name": "stderr",
     "output_type": "stream",
     "text": [
      "100%|██████████| 15/15 [00:15<00:00,  1.02s/it]\n"
     ]
    },
    {
     "data": {
      "image/png": "[encoded data removed]",
      "text/plain": [
       "<Figure size 432x288 with 1 Axes>"
      ]
     },
     "metadata": {},
     "output_type": "display_data"
    },
    {
     "name": "stderr",
     "output_type": "stream",
     "text": [
      "\r",
      "  0%|          | 0/15 [00:00<?, ?it/s]"
     ]
    },
    {
     "name": "stdout",
     "output_type": "stream",
     "text": [
      "DIM: 8\n"
     ]
    },
    {
     "name": "stderr",
     "output_type": "stream",
     "text": [
      "100%|██████████| 15/15 [00:17<00:00,  1.19s/it]\n"
     ]
    },
    {
     "data": {
      "image/png": "[encoded data removed]",
      "text/plain": [
       "<Figure size 432x288 with 1 Axes>"
      ]
     },
     "metadata": {},
     "output_type": "display_data"
    },
    {
     "name": "stderr",
     "output_type": "stream",
     "text": [
      "\r",
      "  0%|          | 0/15 [00:00<?, ?it/s]"
     ]
    },
    {
     "name": "stdout",
     "output_type": "stream",
     "text": [
      "DIM: 9\n"
     ]
    },
    {
     "name": "stderr",
     "output_type": "stream",
     "text": [
      "100%|██████████| 15/15 [00:08<00:00,  1.67it/s]\n"
     ]
    },
    {
     "data": {
      "image/png": "[encoded data removed]",
      "text/plain": [
       "<Figure size 432x288 with 1 Axes>"
      ]
     },
     "metadata": {},
     "output_type": "display_data"
    }
   ],
   "source": [
    "import time\n",
    "from lightfm import LightFM\n",
    "from lightfm.evaluation import auc_score\n",
    "from lightfm.cross_validation import random_train_test_split\n",
    "import tqdm\n",
    "recsys = []\n",
    "alpha = 1e-05\n",
    "epochs = 15\n",
    "num_components = 32\n",
    "for k in xrange(len(R)):\n",
    "    print \"DIM: %d\" % k\n",
    "    product_train, product_test =random_train_test_split(scipy.sparse.csr_matrix(multiarray[k]), 0.1, random_state=np.random.RandomState(42))\n",
    "\n",
    "    warp_model = LightFM(no_components=num_components,\n",
    "                        loss='warp',\n",
    "                        learning_schedule='adagrad',\n",
    "                        max_sampled=100,\n",
    "                        user_alpha=alpha,\n",
    "                        item_alpha=alpha)\n",
    "    warp_duration = []\n",
    "    bpr_duration = []\n",
    "    warp_auc = []\n",
    "    bpr_auc = []\n",
    "    emb = np.dot(A, R[k])\n",
    "    emb = sp.csr_matrix(emb)\n",
    "    for epoch in tqdm.tqdm(range(epochs)):\n",
    "        start = time.time()\n",
    "        warp_model.fit_partial(product_train, epochs=1, user_features=emb, item_features=emb)\n",
    "        warp_duration.append(time.time() - start)\n",
    "        warp_auc.append(auc_score(warp_model, product_test, train_interactions=product_train, user_features=emb, item_features=emb).mean())\n",
    "    x = np.arange(epochs)\n",
    "    plt.plot(x, np.array(warp_auc))\n",
    "    #plt.plot(x, np.array(bpr_auc))\n",
    "    plt.legend(['WARP AUC'], loc='upper right')\n",
    "    plt.show()\n",
    "    recsys.append(warp_model)"
   ]
  },
  {
   "cell_type": "code",
   "execution_count": 78,
   "metadata": {},
   "outputs": [
    {
     "data": {
      "text/plain": [
       "array([351, 459, 334, 297, 369, 374, 558, 309, 380, 458, 336, 273, 612,\n",
       "       337, 209, 295, 407, 262, 467, 183, 401, 559, 190, 556, 510, 346,\n",
       "       449, 415, 420, 305, 274, 185, 298, 327, 392, 474, 391, 424, 475,\n",
       "       186, 205, 540, 378, 270, 187, 487, 225, 365, 638, 172, 430, 456,\n",
       "       373, 614, 512, 352, 561, 444, 521, 155, 149, 568, 389, 412, 287,\n",
       "       571, 217, 624, 413, 322, 161, 146, 157, 382, 563, 294, 127,  41,\n",
       "       210, 271, 460, 126, 246, 233, 544,  61, 235, 136, 627, 484, 441,\n",
       "       575, 531, 442, 520, 108, 133, 403,  63, 457, 486, 290, 231, 371,\n",
       "       383, 583, 576, 199, 502, 370, 139, 226, 181, 448, 335,  52, 541,\n",
       "       439, 168, 473,  62, 218, 619, 397, 228, 610,  37, 137, 390, 166,\n",
       "       478, 387, 428, 212, 222, 388, 362, 128, 426, 138,  20, 109, 272,\n",
       "       132,  45, 281, 402, 639, 348, 450, 598, 216,  97, 592, 220, 589,\n",
       "       546, 410,  92, 180, 495,  27, 472, 105, 275, 580, 131, 422, 398,\n",
       "       565, 532, 435, 113, 634, 101,  67, 150,  50, 445,  40, 393, 247,\n",
       "       142,  30, 344, 632, 572, 184, 603, 626,  17, 465, 198, 593, 308,\n",
       "       528,  51,  16, 395,  91, 419, 553, 188, 107, 469,  48, 543, 642,\n",
       "       535, 636, 182,  32, 549, 221,  90, 310, 240, 643, 623, 635, 144,\n",
       "       529, 164, 307,  35, 301, 630, 522, 476, 452, 349, 431, 253, 345,\n",
       "       232, 539, 490, 279, 605, 509,  14,  77, 179, 479,  33, 526, 591,\n",
       "       408, 177, 438, 416, 496, 191, 236, 443, 158,  83, 296, 595, 303,\n",
       "       451,  88,  12, 538, 470,  36, 421,  55, 207, 536, 585, 482, 579,\n",
       "       588, 622, 125,  94, 569, 507, 602, 513, 607, 566, 411, 516, 616,\n",
       "       514, 446, 140, 519, 641, 599, 625, 143,  68, 432, 615, 366, 102,\n",
       "       596, 406, 134, 606, 100, 119, 586,  15,  79,  84, 564, 537, 468,\n",
       "       501, 621, 405, 427, 523, 493, 637, 533,  38, 542, 578, 437, 500,\n",
       "       173, 261, 363, 567, 506,  76, 504, 534, 483, 488, 353, 381, 554,\n",
       "       573, 491, 174, 249, 425, 165,  57,  64,  89, 123, 581,  78, 330,\n",
       "       195, 325,  13,  22, 582, 214, 555,  42, 151, 517, 130, 350, 386,\n",
       "       608, 527, 117, 321, 574, 302,  46, 461, 481, 587,  82, 545, 372,\n",
       "       455,  39, 609, 385, 548,  85, 141, 505, 202, 633,  69,  44, 323,\n",
       "       293, 631, 417, 282, 552, 224, 550, 434, 557, 118, 489,  58, 251,\n",
       "       499, 618, 156, 628, 525, 291, 399, 597,  29, 480, 306, 120,  60,\n",
       "       466, 124, 342,  49, 267,  59, 494,   5, 354, 355, 414, 122, 260,\n",
       "        86, 154, 604, 269, 106, 129, 503, 640,  54,  47, 114, 148, 440,\n",
       "       111,  87, 121, 219, 498, 511, 508, 254, 175,  31, 227, 357, 110,\n",
       "       201, 160, 547,  21, 326, 600,   7,  93, 577, 299, 178,   1,   3,\n",
       "       189, 620,  65,  96,  75, 611, 436, 617,   0, 360, 147, 162, 644,\n",
       "       601, 170, 176,  24, 292, 429,  73, 277, 103, 454, 234, 364, 276,\n",
       "       153, 145, 241, 497, 423, 584, 404, 471,   9,  53,  81,  56, 193,\n",
       "       223, 319,  18, 377, 347,  28, 169, 239, 163, 242, 394,   6, 245,\n",
       "       316, 359,  23, 304, 197, 485,  26, 530, 464, 204,  80, 196, 243,\n",
       "       629, 264, 518, 250, 551, 590, 116,  43,   2,  74, 300,  99,  19,\n",
       "       171, 286, 315, 396,  98, 331, 570, 258, 192, 135,  71, 238, 477,\n",
       "        95, 341, 215, 112,   4, 268, 206, 594, 333, 613, 159, 266, 203,\n",
       "        72, 280, 324, 313, 358,  25, 115, 329, 384, 311, 379, 560, 447,\n",
       "       289,  11, 433, 356,  34, 515, 194, 256, 244, 259, 257,  66, 229,\n",
       "         8, 453, 283, 285, 263, 252, 492, 152, 375, 104, 213, 376, 211,\n",
       "       340, 320, 248,  10, 368, 278, 314, 208, 462, 237, 524, 418, 400,\n",
       "       167, 409, 562, 255, 288, 284,  70, 230, 318, 317, 265, 463, 312,\n",
       "       328, 361, 200, 367, 332, 339, 343, 338])"
      ]
     },
     "execution_count": 78,
     "metadata": {},
     "output_type": "execute_result"
    }
   ],
   "source": [
    "rr = 0\n",
    "emb = np.dot(A, R[rr])\n",
    "emb = sp.csr_matrix(emb)\n",
    "scores = recsys[0].predict(0, np.arange(A.shape[0]), user_features=emb, item_features=emb)\n",
    "top_items = np.argsort(-scores)\n",
    "top_"
   ]
  },
  {
   "cell_type": "code",
   "execution_count": 86,
   "metadata": {},
   "outputs": [
    {
     "name": "stdout",
     "output_type": "stream",
     "text": [
      "645\n"
     ]
    }
   ],
   "source": [
    "print len(names_of_rows)"
   ]
  },
  {
   "cell_type": "code",
   "execution_count": 84,
   "metadata": {},
   "outputs": [],
   "source": [
    "def convert_data_to_adjMatrix2(data):\n",
    "    # TODO:: refactor how to get columns\n",
    "    columns = (data.iloc[:, i] for i in range(2))\n",
    "    df = pd.crosstab(*columns)\n",
    "    #df = pd.crosstab(data.a, data.b)\n",
    "    idx = df.columns.union(df.index)\n",
    "    adj_matrix = df.reindex(index=idx, columns=idx, fill_value=0)\n",
    "    return idx, adj_matrix.values\n",
    "\n",
    "data_directory = \"../data/\"\n",
    "filenames = [#\"bio-decagon-ppi.csv\",\n",
    "             #    \"bio-decagon-targets.csv\",\n",
    "             #    \"bio-decagon-targets-all.csv\",\n",
    "                 \"bio-decagon-combo.csv\",\n",
    "             #    \"merged_data.csv\"\n",
    "]\n",
    "datasets = {}\n",
    "for f in filenames:\n",
    "    datafile = load_csvfile(data_directory+f)\n",
    "    names_of_rows, adj_matrix = convert_data_to_adjMatrix2(datafile)"
   ]
  },
  {
   "cell_type": "code",
   "execution_count": null,
   "metadata": {},
   "outputs": [],
   "source": [
    "model_params = {\"user_features\": user_features_concat}\n",
    "if not(mapper):\n",
    "    model_params['item_features'] = item_features_concat\n",
    "scores = model.predict(rid_to_idx[user_id], np.arange(n_items), **model_params)\n",
    "top_items = np.argsort(-scores)\n",
    "print('~' * 50)\n",
    "print(\"User %s\" % user_id)\n",
    "print(user_feats.set_index('user_id').loc[user_id])\n",
    "print('*' * 50)\n",
    "print(\"Known Purchases:\")"
   ]
  },
  {
   "cell_type": "code",
   "execution_count": 47,
   "metadata": {},
   "outputs": [
    {
     "name": "stderr",
     "output_type": "stream",
     "text": [
      "  0%|          | 0/15 [00:00<?, ?it/s]\n"
     ]
    },
    {
     "ename": "ValueError",
     "evalue": "Test interactions matrix and train interactions matrix share 1552 interactions. This will cause incorrect evaluation, check your data split.",
     "output_type": "error",
     "traceback": [
      "\u001b[0;31m---------------------------------------------------------------------------\u001b[0m",
      "\u001b[0;31mValueError\u001b[0m                                Traceback (most recent call last)",
      "\u001b[0;32m<ipython-input-47-02c6e8ca4bee>\u001b[0m in \u001b[0;36m<module>\u001b[0;34m()\u001b[0m\n\u001b[1;32m     32\u001b[0m     \u001b[0mwarp_model\u001b[0m\u001b[0;34m.\u001b[0m\u001b[0mfit_partial\u001b[0m\u001b[0;34m(\u001b[0m\u001b[0msp\u001b[0m\u001b[0;34m.\u001b[0m\u001b[0mcsr_matrix\u001b[0m\u001b[0;34m(\u001b[0m\u001b[0mcollab\u001b[0m\u001b[0;34m)\u001b[0m\u001b[0;34m,\u001b[0m \u001b[0mepochs\u001b[0m\u001b[0;34m=\u001b[0m\u001b[0;36m1\u001b[0m\u001b[0;34m)\u001b[0m\u001b[0;34m\u001b[0m\u001b[0m\n\u001b[1;32m     33\u001b[0m     \u001b[0mwarp_duration\u001b[0m\u001b[0;34m.\u001b[0m\u001b[0mappend\u001b[0m\u001b[0;34m(\u001b[0m\u001b[0mtime\u001b[0m\u001b[0;34m.\u001b[0m\u001b[0mtime\u001b[0m\u001b[0;34m(\u001b[0m\u001b[0;34m)\u001b[0m \u001b[0;34m-\u001b[0m \u001b[0mstart\u001b[0m\u001b[0;34m)\u001b[0m\u001b[0;34m\u001b[0m\u001b[0m\n\u001b[0;32m---> 34\u001b[0;31m     \u001b[0mwarp_auc\u001b[0m\u001b[0;34m.\u001b[0m\u001b[0mappend\u001b[0m\u001b[0;34m(\u001b[0m\u001b[0mauc_score\u001b[0m\u001b[0;34m(\u001b[0m\u001b[0mwarp_model\u001b[0m\u001b[0;34m,\u001b[0m \u001b[0msp\u001b[0m\u001b[0;34m.\u001b[0m\u001b[0mcsr_matrix\u001b[0m\u001b[0;34m(\u001b[0m\u001b[0mcollab_test\u001b[0m\u001b[0;34m)\u001b[0m\u001b[0;34m,\u001b[0m \u001b[0mtrain_interactions\u001b[0m\u001b[0;34m=\u001b[0m\u001b[0msp\u001b[0m\u001b[0;34m.\u001b[0m\u001b[0mcsr_matrix\u001b[0m\u001b[0;34m(\u001b[0m\u001b[0mcollab\u001b[0m\u001b[0;34m)\u001b[0m\u001b[0;34m)\u001b[0m\u001b[0;34m.\u001b[0m\u001b[0mmean\u001b[0m\u001b[0;34m(\u001b[0m\u001b[0;34m)\u001b[0m\u001b[0;34m)\u001b[0m\u001b[0;34m\u001b[0m\u001b[0m\n\u001b[0m",
      "\u001b[0;32m/usr/local/lib/python2.7/dist-packages/lightfm/evaluation.pyc\u001b[0m in \u001b[0;36mauc_score\u001b[0;34m(model, test_interactions, train_interactions, user_features, item_features, preserve_rows, num_threads, check_intersections)\u001b[0m\n\u001b[1;32m    197\u001b[0m                                \u001b[0mitem_features\u001b[0m\u001b[0;34m=\u001b[0m\u001b[0mitem_features\u001b[0m\u001b[0;34m,\u001b[0m\u001b[0;34m\u001b[0m\u001b[0m\n\u001b[1;32m    198\u001b[0m                                \u001b[0mnum_threads\u001b[0m\u001b[0;34m=\u001b[0m\u001b[0mnum_threads\u001b[0m\u001b[0;34m,\u001b[0m\u001b[0;34m\u001b[0m\u001b[0m\n\u001b[0;32m--> 199\u001b[0;31m                                \u001b[0mcheck_intersections\u001b[0m\u001b[0;34m=\u001b[0m\u001b[0mcheck_intersections\u001b[0m\u001b[0;34m,\u001b[0m\u001b[0;34m\u001b[0m\u001b[0m\n\u001b[0m\u001b[1;32m    200\u001b[0m                                )\n\u001b[1;32m    201\u001b[0m \u001b[0;34m\u001b[0m\u001b[0m\n",
      "\u001b[0;32m/usr/local/lib/python2.7/dist-packages/lightfm/lightfm.pyc\u001b[0m in \u001b[0;36mpredict_rank\u001b[0;34m(self, test_interactions, train_interactions, item_features, user_features, num_threads, check_intersections)\u001b[0m\n\u001b[1;32m    794\u001b[0m \u001b[0;34m\u001b[0m\u001b[0m\n\u001b[1;32m    795\u001b[0m         \u001b[0;32mif\u001b[0m \u001b[0mcheck_intersections\u001b[0m\u001b[0;34m:\u001b[0m\u001b[0;34m\u001b[0m\u001b[0m\n\u001b[0;32m--> 796\u001b[0;31m             \u001b[0mself\u001b[0m\u001b[0;34m.\u001b[0m\u001b[0m_check_test_train_intersections\u001b[0m\u001b[0;34m(\u001b[0m\u001b[0mtest_interactions\u001b[0m\u001b[0;34m,\u001b[0m \u001b[0mtrain_interactions\u001b[0m\u001b[0;34m)\u001b[0m\u001b[0;34m\u001b[0m\u001b[0m\n\u001b[0m\u001b[1;32m    797\u001b[0m \u001b[0;34m\u001b[0m\u001b[0m\n\u001b[1;32m    798\u001b[0m         \u001b[0mn_users\u001b[0m\u001b[0;34m,\u001b[0m \u001b[0mn_items\u001b[0m \u001b[0;34m=\u001b[0m \u001b[0mtest_interactions\u001b[0m\u001b[0;34m.\u001b[0m\u001b[0mshape\u001b[0m\u001b[0;34m\u001b[0m\u001b[0m\n",
      "\u001b[0;32m/usr/local/lib/python2.7/dist-packages/lightfm/lightfm.pyc\u001b[0m in \u001b[0;36m_check_test_train_intersections\u001b[0;34m(self, test_mat, train_mat)\u001b[0m\n\u001b[1;32m    740\u001b[0m                     \u001b[0;34m'Test interactions matrix and train interactions '\u001b[0m\u001b[0;34m\u001b[0m\u001b[0m\n\u001b[1;32m    741\u001b[0m                     \u001b[0;34m'matrix share %d interactions. This will cause '\u001b[0m\u001b[0;34m\u001b[0m\u001b[0m\n\u001b[0;32m--> 742\u001b[0;31m                     'incorrect evaluation, check your data split.' % n_intersections)\n\u001b[0m\u001b[1;32m    743\u001b[0m \u001b[0;34m\u001b[0m\u001b[0m\n\u001b[1;32m    744\u001b[0m     def predict_rank(self, test_interactions, train_interactions=None,\n",
      "\u001b[0;31mValueError\u001b[0m: Test interactions matrix and train interactions matrix share 1552 interactions. This will cause incorrect evaluation, check your data split."
     ]
    }
   ],
   "source": [
    "import time\n",
    "from lightfm import LightFM\n",
    "from lightfm.evaluation import auc_score\n",
    "from lightfm.cross_validation import random_train_test_split\n",
    "import tqdm\n",
    "alpha = 1e-05\n",
    "epochs = 15\n",
    "num_components = 32\n",
    "\n",
    "product_train, product_test =random_train_test_split(scipy.sparse.csr_matrix(aggr2), 0.1)\n",
    "\n",
    "warp_model = LightFM(no_components=num_components,\n",
    "                    loss='warp',\n",
    "                    learning_schedule='adagrad',\n",
    "                    max_sampled=100,\n",
    "                    user_alpha=alpha,\n",
    "                    item_alpha=alpha)\n",
    "\n",
    "bpr_model = LightFM(no_components=num_components,\n",
    "                    loss='bpr',\n",
    "                    learning_schedule='adagrad',\n",
    "                    user_alpha=alpha,\n",
    "                    item_alpha=alpha)\n",
    "\n",
    "warp_duration = []\n",
    "bpr_duration = []\n",
    "warp_auc = []\n",
    "bpr_auc = []\n",
    "\n",
    "for epoch in tqdm.tqdm(range(epochs)):\n",
    "    start = time.time()\n",
    "    warp_model.fit_partial(product_train, epochs=1)\n",
    "    warp_duration.append(time.time() - start)\n",
    "    warp_auc.append(auc_score(warp_model, product_test, train_interactions=product_train).mean())"
   ]
  },
  {
   "cell_type": "code",
   "execution_count": 12,
   "metadata": {},
   "outputs": [
    {
     "data": {
      "image/png": "[encoded data removed]",
      "text/plain": [
       "<Figure size 432x288 with 1 Axes>"
      ]
     },
     "metadata": {},
     "output_type": "display_data"
    }
   ],
   "source": [
    "train_indices, test_indices, y_train, y_test = split_dataset_multiclass(sparse_data,\n",
    "                                                train_size=1000,\n",
    "                                                test_size=1000)\n",
    "    \n",
    "# remove ones(test indices) from tensor\n",
    "#for pair in test_indices:\n",
    "#    data[pair[0],pair[1], :] = 0\n",
    "    #both directions\n",
    "#    data[pair[1],pair[0], :] = 0\n",
    "classes = int((len(train_indices)/1000)/2) # divide by two as we train balanced (1, 0)\n",
    "print(classes)\n",
    "start = 0\n",
    "sample = 2*1000\n",
    "end = sample\n",
    "\n",
    "T = [lil_matrix(data[:, :, i]) for i in range(k)]\n",
    "Tc = [Ti.copy() for Ti in T]\n",
    "A, R = predict_rescal_als(Tc, isClass=True)\n",
    "#print(len(train_indices))\n",
    "# prepare input for svm\n",
    "X = []\n",
    "y = []\n",
    "for i in range(classes):\n",
    "    half = int(end - 1000)\n",
    "    for pair in train_indices[start:half]:\n",
    "        AR_1 = np.matmul(A[pair[0]], R[i])\n",
    "        AR_2 = np.matmul(A[pair[1]], R[i])\n",
    "        X.append(np.append(AR_1,AR_2))\n",
    "        y.append(1)\n",
    "    for pair in train_indices[half:end]:\n",
    "        AR_1 = np.matmul(A[pair[0]], R[i])\n",
    "        AR_2 = np.matmul(A[pair[1]], R[i])\n",
    "        X.append(np.append(AR_1,AR_2))\n",
    "        y.append(0)\n",
    "    start += sample\n",
    "    end += sample\n",
    "\n",
    "print(len(X))\n",
    "print(len(y))\n",
    "clf = svm.SVC()\n",
    "clf.fit(X, y)\n",
    "\n",
    "#prepare indices for prediction\n",
    "testX = []\n",
    "testY = []\n",
    "start = 0\n",
    "sample = 2*1000\n",
    "end = sample\n",
    "for i in range(classes):\n",
    "    half = int(end - 1000)\n",
    "    for pair in test_indices[start:half]:\n",
    "        AR_1 = np.matmul(A[pair[0]], R[i])\n",
    "        AR_2 = np.matmul(A[pair[1]], R[i])\n",
    "        testX.append(np.append(AR_1,AR_2))\n",
    "        testY.append(1)\n",
    "    for pair in test_indices[half:end]:\n",
    "        AR_1 = np.matmul(A[pair[0]], R[i])\n",
    "        AR_2 = np.matmul(A[pair[1]], R[i])\n",
    "        testX.append(np.append(AR_1,AR_2))\n",
    "        testY.append(0)\n",
    "    start += sample\n",
    "    end += sample\n",
    "predictions = clf.predict(testX)\n",
    "\n",
    "from sklearn.metrics import precision_recall_curve, accuracy_score\n",
    "import matplotlib.pyplot as plt\n",
    "precision, recall, _ = precision_recall_curve(predictions, testY)\n",
    "acs = accuracy_score(testY, predictions)\n",
    "plt.step(recall, precision, color='b', alpha=0.2,\n",
    "         where='post')\n",
    "plt.fill_between(recall, precision, step='post', alpha=0.2,\n",
    "                 color='b')\n",
    "\n",
    "plt.xlabel('Recall')\n",
    "plt.ylabel('Precision')\n",
    "plt.ylim([0.0, 1.05])\n",
    "plt.xlim([0.0, 1.0])\n",
    "plt.show()"
   ]
  },
  {
   "cell_type": "code",
   "execution_count": 17,
   "metadata": {},
   "outputs": [
    {
     "name": "stdout",
     "output_type": "stream",
     "text": [
      "             precision    recall  f1-score   support\n",
      "\n",
      "          0       0.82      0.79      0.81     10000\n",
      "          1       0.80      0.82      0.81     10000\n",
      "\n",
      "avg / total       0.81      0.81      0.81     20000\n",
      "\n"
     ]
    }
   ],
   "source": [
    "from sklearn.metrics import classification_report\n",
    "print classification_report(testY,predictions)"
   ]
  },
  {
   "cell_type": "code",
   "execution_count": 6,
   "metadata": {},
   "outputs": [
    {
     "ename": "ValueError",
     "evalue": "bad input shape (10000, 10)",
     "output_type": "error",
     "traceback": [
      "\u001b[0;31m---------------------------------------------------------------------------\u001b[0m",
      "\u001b[0;31mValueError\u001b[0m                                Traceback (most recent call last)",
      "\u001b[0;32m<ipython-input-6-d5c4a4e1728c>\u001b[0m in \u001b[0;36m<module>\u001b[0;34m()\u001b[0m\n\u001b[1;32m      3\u001b[0m \u001b[0;34m\u001b[0m\u001b[0m\n\u001b[1;32m      4\u001b[0m \u001b[0mclf\u001b[0m \u001b[0;34m=\u001b[0m \u001b[0msvm\u001b[0m\u001b[0;34m.\u001b[0m\u001b[0mSVC\u001b[0m\u001b[0;34m(\u001b[0m\u001b[0;34m)\u001b[0m\u001b[0;34m\u001b[0m\u001b[0m\n\u001b[0;32m----> 5\u001b[0;31m \u001b[0mclf\u001b[0m\u001b[0;34m.\u001b[0m\u001b[0mfit\u001b[0m\u001b[0;34m(\u001b[0m\u001b[0mX\u001b[0m\u001b[0;34m,\u001b[0m \u001b[0my\u001b[0m\u001b[0;34m)\u001b[0m\u001b[0;34m\u001b[0m\u001b[0m\n\u001b[0m\u001b[1;32m      6\u001b[0m \u001b[0;31m#prepare indices for prediction\u001b[0m\u001b[0;34m\u001b[0m\u001b[0;34m\u001b[0m\u001b[0m\n\u001b[1;32m      7\u001b[0m \u001b[0mtestX\u001b[0m \u001b[0;34m=\u001b[0m \u001b[0;34m[\u001b[0m\u001b[0;34m]\u001b[0m\u001b[0;34m\u001b[0m\u001b[0m\n",
      "\u001b[0;32m/usr/local/lib/python2.7/dist-packages/sklearn/svm/base.pyc\u001b[0m in \u001b[0;36mfit\u001b[0;34m(self, X, y, sample_weight)\u001b[0m\n\u001b[1;32m    147\u001b[0m         \u001b[0mself\u001b[0m\u001b[0;34m.\u001b[0m\u001b[0m_sparse\u001b[0m \u001b[0;34m=\u001b[0m \u001b[0msparse\u001b[0m \u001b[0;32mand\u001b[0m \u001b[0;32mnot\u001b[0m \u001b[0mcallable\u001b[0m\u001b[0;34m(\u001b[0m\u001b[0mself\u001b[0m\u001b[0;34m.\u001b[0m\u001b[0mkernel\u001b[0m\u001b[0;34m)\u001b[0m\u001b[0;34m\u001b[0m\u001b[0m\n\u001b[1;32m    148\u001b[0m \u001b[0;34m\u001b[0m\u001b[0m\n\u001b[0;32m--> 149\u001b[0;31m         \u001b[0mX\u001b[0m\u001b[0;34m,\u001b[0m \u001b[0my\u001b[0m \u001b[0;34m=\u001b[0m \u001b[0mcheck_X_y\u001b[0m\u001b[0;34m(\u001b[0m\u001b[0mX\u001b[0m\u001b[0;34m,\u001b[0m \u001b[0my\u001b[0m\u001b[0;34m,\u001b[0m \u001b[0mdtype\u001b[0m\u001b[0;34m=\u001b[0m\u001b[0mnp\u001b[0m\u001b[0;34m.\u001b[0m\u001b[0mfloat64\u001b[0m\u001b[0;34m,\u001b[0m \u001b[0morder\u001b[0m\u001b[0;34m=\u001b[0m\u001b[0;34m'C'\u001b[0m\u001b[0;34m,\u001b[0m \u001b[0maccept_sparse\u001b[0m\u001b[0;34m=\u001b[0m\u001b[0;34m'csr'\u001b[0m\u001b[0;34m)\u001b[0m\u001b[0;34m\u001b[0m\u001b[0m\n\u001b[0m\u001b[1;32m    150\u001b[0m         \u001b[0my\u001b[0m \u001b[0;34m=\u001b[0m \u001b[0mself\u001b[0m\u001b[0;34m.\u001b[0m\u001b[0m_validate_targets\u001b[0m\u001b[0;34m(\u001b[0m\u001b[0my\u001b[0m\u001b[0;34m)\u001b[0m\u001b[0;34m\u001b[0m\u001b[0m\n\u001b[1;32m    151\u001b[0m \u001b[0;34m\u001b[0m\u001b[0m\n",
      "\u001b[0;32m/usr/local/lib/python2.7/dist-packages/sklearn/utils/validation.pyc\u001b[0m in \u001b[0;36mcheck_X_y\u001b[0;34m(X, y, accept_sparse, dtype, order, copy, force_all_finite, ensure_2d, allow_nd, multi_output, ensure_min_samples, ensure_min_features, y_numeric, warn_on_dtype, estimator)\u001b[0m\n\u001b[1;32m    576\u001b[0m                         dtype=None)\n\u001b[1;32m    577\u001b[0m     \u001b[0;32melse\u001b[0m\u001b[0;34m:\u001b[0m\u001b[0;34m\u001b[0m\u001b[0m\n\u001b[0;32m--> 578\u001b[0;31m         \u001b[0my\u001b[0m \u001b[0;34m=\u001b[0m \u001b[0mcolumn_or_1d\u001b[0m\u001b[0;34m(\u001b[0m\u001b[0my\u001b[0m\u001b[0;34m,\u001b[0m \u001b[0mwarn\u001b[0m\u001b[0;34m=\u001b[0m\u001b[0mTrue\u001b[0m\u001b[0;34m)\u001b[0m\u001b[0;34m\u001b[0m\u001b[0m\n\u001b[0m\u001b[1;32m    579\u001b[0m         \u001b[0m_assert_all_finite\u001b[0m\u001b[0;34m(\u001b[0m\u001b[0my\u001b[0m\u001b[0;34m)\u001b[0m\u001b[0;34m\u001b[0m\u001b[0m\n\u001b[1;32m    580\u001b[0m     \u001b[0;32mif\u001b[0m \u001b[0my_numeric\u001b[0m \u001b[0;32mand\u001b[0m \u001b[0my\u001b[0m\u001b[0;34m.\u001b[0m\u001b[0mdtype\u001b[0m\u001b[0;34m.\u001b[0m\u001b[0mkind\u001b[0m \u001b[0;34m==\u001b[0m \u001b[0;34m'O'\u001b[0m\u001b[0;34m:\u001b[0m\u001b[0;34m\u001b[0m\u001b[0m\n",
      "\u001b[0;32m/usr/local/lib/python2.7/dist-packages/sklearn/utils/validation.pyc\u001b[0m in \u001b[0;36mcolumn_or_1d\u001b[0;34m(y, warn)\u001b[0m\n\u001b[1;32m    612\u001b[0m         \u001b[0;32mreturn\u001b[0m \u001b[0mnp\u001b[0m\u001b[0;34m.\u001b[0m\u001b[0mravel\u001b[0m\u001b[0;34m(\u001b[0m\u001b[0my\u001b[0m\u001b[0;34m)\u001b[0m\u001b[0;34m\u001b[0m\u001b[0m\n\u001b[1;32m    613\u001b[0m \u001b[0;34m\u001b[0m\u001b[0m\n\u001b[0;32m--> 614\u001b[0;31m     \u001b[0;32mraise\u001b[0m \u001b[0mValueError\u001b[0m\u001b[0;34m(\u001b[0m\u001b[0;34m\"bad input shape {0}\"\u001b[0m\u001b[0;34m.\u001b[0m\u001b[0mformat\u001b[0m\u001b[0;34m(\u001b[0m\u001b[0mshape\u001b[0m\u001b[0;34m)\u001b[0m\u001b[0;34m)\u001b[0m\u001b[0;34m\u001b[0m\u001b[0m\n\u001b[0m\u001b[1;32m    615\u001b[0m \u001b[0;34m\u001b[0m\u001b[0m\n\u001b[1;32m    616\u001b[0m \u001b[0;34m\u001b[0m\u001b[0m\n",
      "\u001b[0;31mValueError\u001b[0m: bad input shape (10000, 10)"
     ]
    }
   ],
   "source": [
    "import matplotlib.pyplot as plt\n",
    "from sklearn import svm\n",
    "\n",
    "clf = svm.SVC()\n",
    "clf.fit(X, y)\n",
    "#prepare indices for prediction\n",
    "testX = []\n",
    "testY = []\n",
    "start = 0\n",
    "sample = 2*1000\n",
    "end = sample\n",
    "for i in range(classes):\n",
    "    half = int(end - 1000)\n",
    "    for pair in test_indices[start:half]:\n",
    "        AR_1 = np.matmul(A[pair[0]], R[i])\n",
    "        AR_2 = np.matmul(A[pair[1]], R[i])\n",
    "        testX.append(np.append(AR_1,AR_2))\n",
    "        testY.append(1)\n",
    "    for pair in test_indices[half:end]:\n",
    "        AR_1 = np.matmul(A[pair[0]], R[i])\n",
    "        AR_2 = np.matmul(A[pair[1]], R[i])\n",
    "        testX.append(np.append(AR_1,AR_2))\n",
    "        testY.append(0)\n",
    "    start += sample\n",
    "    end += sample\n",
    "predictions = clf.predict(testX)\n",
    "\n",
    "from sklearn.metrics import precision_recall_curve, accuracy_score\n",
    "import matplotlib.pyplot as plt\n",
    "precision, recall, _ = precision_recall_curve(predictions, testY)\n",
    "acs = accuracy_score(testY, predictions)\n",
    "avg_ac.append(acs)\n",
    "plt.step(recall, precision, color='b', alpha=0.2,\n",
    "         where='post')\n",
    "plt.fill_between(recall, precision, step='post', alpha=0.2,\n",
    "                 color='b')\n",
    "\n",
    "plt.xlabel('Recall')\n",
    "plt.ylabel('Precision')\n",
    "plt.ylim([0.0, 1.05])\n",
    "plt.xlim([0.0, 1.0])\n",
    "plt.show()"
   ]
  },
  {
   "cell_type": "code",
   "execution_count": 20,
   "metadata": {},
   "outputs": [
    {
     "data": {
      "text/plain": [
       "20000"
      ]
     },
     "execution_count": 20,
     "metadata": {},
     "output_type": "execute_result"
    }
   ],
   "source": [
    "len(X)"
   ]
  },
  {
   "cell_type": "code",
   "execution_count": 22,
   "metadata": {},
   "outputs": [
    {
     "name": "stdout",
     "output_type": "stream",
     "text": [
      "Creating validation dataset of 0.01 of training for adaptive regularization\n",
      "-- Epoch 1\n",
      "Training log loss: 0.68862\n",
      "-- Epoch 2\n",
      "Training log loss: 0.67109\n",
      "-- Epoch 3\n",
      "Training log loss: 0.65555\n",
      "-- Epoch 4\n",
      "Training log loss: 0.64125\n",
      "-- Epoch 5\n",
      "Training log loss: 0.62794\n",
      "-- Epoch 6\n",
      "Training log loss: 0.61548\n",
      "-- Epoch 7\n",
      "Training log loss: 0.60379\n",
      "-- Epoch 8\n",
      "Training log loss: 0.59281\n",
      "-- Epoch 9\n",
      "Training log loss: 0.58249\n",
      "-- Epoch 10\n",
      "Training log loss: 0.57277\n",
      "-- Epoch 11\n"
     ]
    },
    {
     "ename": "KeyboardInterrupt",
     "evalue": "",
     "output_type": "error",
     "traceback": [
      "\u001b[0;31m---------------------------------------------------------------------------\u001b[0m",
      "\u001b[0;31mKeyboardInterrupt\u001b[0m                         Traceback (most recent call last)",
      "\u001b[0;32m<ipython-input-22-24fc03d274dd>\u001b[0m in \u001b[0;36m<module>\u001b[0;34m()\u001b[0m\n\u001b[1;32m      6\u001b[0m                 learning_rate_schedule=\"optimal\")\n\u001b[1;32m      7\u001b[0m \u001b[0;34m\u001b[0m\u001b[0m\n\u001b[0;32m----> 8\u001b[0;31m \u001b[0mfm\u001b[0m\u001b[0;34m.\u001b[0m\u001b[0mfit\u001b[0m\u001b[0;34m(\u001b[0m\u001b[0msp\u001b[0m\u001b[0;34m.\u001b[0m\u001b[0mcsr_matrix\u001b[0m\u001b[0;34m(\u001b[0m\u001b[0mnp\u001b[0m\u001b[0;34m.\u001b[0m\u001b[0marray\u001b[0m\u001b[0;34m(\u001b[0m\u001b[0mX\u001b[0m\u001b[0;34m)\u001b[0m\u001b[0;34m)\u001b[0m\u001b[0;34m,\u001b[0m\u001b[0my\u001b[0m\u001b[0;34m)\u001b[0m\u001b[0;34m\u001b[0m\u001b[0m\n\u001b[0m",
      "\u001b[0;32m/usr/local/lib/python2.7/dist-packages/pyfm/pylibfm.pyc\u001b[0m in \u001b[0;36mfit\u001b[0;34m(self, X, y)\u001b[0m\n\u001b[1;32m    208\u001b[0m                                verbose)\n\u001b[1;32m    209\u001b[0m \u001b[0;34m\u001b[0m\u001b[0m\n\u001b[0;32m--> 210\u001b[0;31m         \u001b[0;32mreturn\u001b[0m \u001b[0mself\u001b[0m\u001b[0;34m.\u001b[0m\u001b[0mfm_fast\u001b[0m\u001b[0;34m.\u001b[0m\u001b[0mfit\u001b[0m\u001b[0;34m(\u001b[0m\u001b[0mX_train_dataset\u001b[0m\u001b[0;34m,\u001b[0m \u001b[0mvalidation_dataset\u001b[0m\u001b[0;34m)\u001b[0m\u001b[0;34m\u001b[0m\u001b[0m\n\u001b[0m\u001b[1;32m    211\u001b[0m \u001b[0;34m\u001b[0m\u001b[0m\n\u001b[1;32m    212\u001b[0m         \u001b[0;31m# report epoch information\u001b[0m\u001b[0;34m\u001b[0m\u001b[0;34m\u001b[0m\u001b[0m\n",
      "\u001b[0;32mpyfm_fast.pyx\u001b[0m in \u001b[0;36mpyfm_fast.FM_fast.fit\u001b[0;34m()\u001b[0m\n",
      "\u001b[0;32m/usr/local/lib/python2.7/dist-packages/ipykernel/iostream.pyc\u001b[0m in \u001b[0;36mwrite\u001b[0;34m(self, string)\u001b[0m\n\u001b[1;32m    364\u001b[0m                 parent=self.parent_header, ident=self.topic)\n\u001b[1;32m    365\u001b[0m \u001b[0;34m\u001b[0m\u001b[0m\n\u001b[0;32m--> 366\u001b[0;31m     \u001b[0;32mdef\u001b[0m \u001b[0mwrite\u001b[0m\u001b[0;34m(\u001b[0m\u001b[0mself\u001b[0m\u001b[0;34m,\u001b[0m \u001b[0mstring\u001b[0m\u001b[0;34m)\u001b[0m\u001b[0;34m:\u001b[0m\u001b[0;34m\u001b[0m\u001b[0m\n\u001b[0m\u001b[1;32m    367\u001b[0m         \u001b[0;32mif\u001b[0m \u001b[0mself\u001b[0m\u001b[0;34m.\u001b[0m\u001b[0mpub_thread\u001b[0m \u001b[0;32mis\u001b[0m \u001b[0mNone\u001b[0m\u001b[0;34m:\u001b[0m\u001b[0;34m\u001b[0m\u001b[0m\n\u001b[1;32m    368\u001b[0m             \u001b[0;32mraise\u001b[0m \u001b[0mValueError\u001b[0m\u001b[0;34m(\u001b[0m\u001b[0;34m'I/O operation on closed file'\u001b[0m\u001b[0;34m)\u001b[0m\u001b[0;34m\u001b[0m\u001b[0m\n",
      "\u001b[0;31mKeyboardInterrupt\u001b[0m: "
     ]
    }
   ],
   "source": [
    "from pyfm import pylibfm\n",
    "fm = pylibfm.FM(num_factors=50, \n",
    "                num_iter=20, \n",
    "                verbose=True, task=\"classification\", \n",
    "                initial_learning_rate=0.0001,\n",
    "                learning_rate_schedule=\"optimal\")\n",
    "\n",
    "fm.fit(sp.csr_matrix(np.array(X)),y)"
   ]
  },
  {
   "cell_type": "code",
   "execution_count": null,
   "metadata": {},
   "outputs": [],
   "source": [
    "y_pred = f(fm.predict(testX))\n",
    "from sklearn.metrics import classification_report\n",
    "print classification_report(testY,y_pred)"
   ]
  }
 ],
 "metadata": {
  "kernelspec": {
   "display_name": "Python 2",
   "language": "python",
   "name": "python2"
  },
  "language_info": {
   "codemirror_mode": {
    "name": "ipython",
    "version": 2
   },
   "file_extension": ".py",
   "mimetype": "text/x-python",
   "name": "python",
   "nbconvert_exporter": "python",
   "pygments_lexer": "ipython2",
   "version": "2.7.14"
  }
 },
 "nbformat": 4,
 "nbformat_minor": 2
}
